{
  "nbformat": 4,
  "nbformat_minor": 0,
  "metadata": {
    "colab": {
      "provenance": []
    },
    "kernelspec": {
      "name": "python3",
      "display_name": "Python 3"
    },
    "language_info": {
      "name": "python"
    }
  },
  "cells": [
    {
      "cell_type": "markdown",
      "source": [
        "# Extremum Notes: Useful Formulas\n",
        "\n",
        "When solving problems related to extrema, the following formulas and steps can be useful.\n",
        "\n",
        "## Key Formulas and Steps\n",
        "\n",
        "### 1. Critical Points\n",
        "\n",
        "To find critical points of a function $f(x)$:\n",
        "\n",
        "- Compute the first derivative:\n",
        "  $$f'(x)$$\n",
        "- Solve for $x$ where:\n",
        "  $$f'(x) = 0$$\n",
        "  or where $f'(x)$ is undefined.\n",
        "\n",
        "These $x$ values are the critical points.\n",
        "\n",
        "### 2. First Derivative Test\n",
        "\n",
        "Determine the nature of a critical point by analyzing the sign changes of $f'(x)$:\n",
        "\n",
        "- If $f'(x)$ changes from $+$ to $-$, the point is a **local maximum**.\n",
        "- If $f'(x)$ changes from $-$ to $+$, the point is a **local minimum**.\n",
        "- If there is no sign change, the point is neither.\n",
        "\n",
        "### 3. Second Derivative Test\n",
        "\n",
        "Evaluate the second derivative $f''(x)$ at the critical points:\n",
        "\n",
        "- If $f''(x) > 0$, the point is a **local minimum**.\n",
        "- If $f''(x) < 0$, the point is a **local maximum**.\n",
        "- If $f''(x) = 0$, the test is inconclusive.\n",
        "\n",
        "### 4. Global Extrema\n",
        "\n",
        "For a function on a closed interval $[a, b]$, compare:\n",
        "\n",
        "- Values of $f(x)$ at the critical points within $[a, b]$.\n",
        "- Values of $f(x)$ at the endpoints $x = a$ and $x = b$.\n",
        "\n",
        "The largest value is the global maximum, and the smallest value is the global minimum.\n",
        "\n",
        "## Common Functions and Derivatives\n",
        "\n",
        "### 1. Power Rule\n",
        "If $f(x) = x^n$, then:\n",
        "$$f'(x) = n \\cdot x^{n-1}$$\n",
        "$$f''(x) = n(n-1) \\cdot x^{n-2}$$\n",
        "\n",
        "### 2. Exponential Functions\n",
        "If $f(x) = e^x$, then:\n",
        "$$f'(x) = e^x$$\n",
        "$$f''(x) = e^x$$\n",
        "\n",
        "If $f(x) = a^x$ (where $a > 0$):\n",
        "$$f'(x) = a^x \\ln(a)$$\n",
        "$$f''(x) = a^x \\ln^2(a)$$\n",
        "\n",
        "### 3. Logarithmic Functions\n",
        "If $f(x) = \\ln(x)$, then:\n",
        "$$f'(x) = \\frac{1}{x}$$\n",
        "$$f''(x) = -\\frac{1}{x^2}$$\n",
        "\n",
        "### 4. Trigonometric Functions\n",
        "- If $f(x) = \\sin(x)$:\n",
        "  $$f'(x) = \\cos(x)$$\n",
        "  $$f''(x) = -\\sin(x)$$\n",
        "\n",
        "- If $f(x) = \\cos(x)$:\n",
        "  $$f'(x) = -\\sin(x)$$\n",
        "  $$f''(x) = -\\cos(x)$$\n",
        "\n",
        "- If $f(x) = \\tan(x)$:\n",
        "  $$f'(x) = \\sec^2(x)$$\n",
        "  $$f''(x) = 2\\sec^2(x)\\tan(x)$$\n",
        "\n",
        "### 5. Product Rule\n",
        "If $f(x) = u(x) \\cdot v(x)$:\n",
        "$$f'(x) = u'(x)v(x) + u(x)v'(x)$$\n",
        "\n",
        "### 6. Quotient Rule\n",
        "If $f(x) = \\frac{u(x)}{v(x)}$:\n",
        "$$f'(x) = \\frac{u'(x)v(x) - u(x)v'(x)}{v^2(x)}$$\n",
        "\n",
        "### 7. Chain Rule\n",
        "If $f(x) = g(h(x))$:\n",
        "$$f'(x) = g'(h(x)) \\cdot h'(x)$$\n",
        "\n",
        "## Optimization Problems\n",
        "\n",
        "- Define the function $f(x)$ representing the quantity to be optimized.\n",
        "- Identify the domain of $f(x)$.\n",
        "- Find the critical points and endpoints in the domain.\n",
        "- Use the methods above to determine which points give the desired extrema.\n",
        "\n",
        "By applying these formulas and steps systematically, you can efficiently solve extremum problems!\n"
      ],
      "metadata": {
        "id": "QstcHbE3jKhK"
      }
    },
    {
      "cell_type": "markdown",
      "source": [
        "Exercise 1\n"
      ],
      "metadata": {
        "id": "buTo1mU4jzv0"
      }
    },
    {
      "cell_type": "code",
      "source": [
        "import sympy as sp\n",
        "\n",
        "# Define the variable and the profit function\n",
        "u = sp.Symbol('u')\n",
        "P = -2 * u**2 + 50 * u - 300\n",
        "\n",
        "# Find the first derivative of the profit function\n",
        "dP_du = sp.diff(P, u)\n",
        "\n",
        "# Solve for the critical points (where the derivative is zero)\n",
        "critical_points = sp.solve(dP_du, u)\n",
        "\n",
        "# Check the second derivative to confirm maximum or minimum\n",
        "second_derivative = sp.diff(dP_du, u)\n",
        "\n",
        "# Evaluate second derivative at critical points\n",
        "for point in critical_points:\n",
        "    test_value = second_derivative.subs(u, point)\n",
        "    if test_value < 0:\n",
        "        print(f\"The number of units that maximize profit is: {point}\")\n",
        "    else:\n",
        "        print(f\"{point} is not a maximum.\")\n"
      ],
      "metadata": {
        "id": "VMM9I6Ujj08N",
        "outputId": "a1361d59-b92a-47cc-e1d7-6d47dd4f21d6",
        "colab": {
          "base_uri": "https://localhost:8080/"
        }
      },
      "execution_count": 1,
      "outputs": [
        {
          "output_type": "stream",
          "name": "stdout",
          "text": [
            "The number of units that maximize profit is: 25/2\n"
          ]
        }
      ]
    },
    {
      "cell_type": "markdown",
      "source": [
        "Exercise 2"
      ],
      "metadata": {
        "id": "jOlcw2eQj5rf"
      }
    },
    {
      "cell_type": "code",
      "source": [
        "# Define the total perimeter\n",
        "perimeter = 10\n",
        "\n",
        "# Express the area as a function of one side of the rectangle (x)\n",
        "def area(x):\n",
        "    y = (perimeter / 2) - x  # Use the perimeter constraint to find y\n",
        "    return x * y\n",
        "\n",
        "# Find the value of x that maximizes the area\n",
        "import sympy as sp\n",
        "\n",
        "# Define the variable\n",
        "x = sp.Symbol('x')\n",
        "\n",
        "# Define the area function symbolically\n",
        "y = (perimeter / 2) - x\n",
        "A = x * y\n",
        "\n",
        "# Take the derivative of the area function\n",
        "dA_dx = sp.diff(A, x)\n",
        "\n",
        "# Solve for the critical point (where the derivative is zero)\n",
        "critical_point = sp.solve(dA_dx, x)[0]\n",
        "\n",
        "# Calculate the corresponding y dimension\n",
        "y_value = (perimeter / 2) - critical_point\n",
        "\n",
        "# Output the results\n",
        "print(f\"The dimensions of the rectangle that maximize the area are: {critical_point} m x {y_value} m\")\n"
      ],
      "metadata": {
        "id": "yrAmBP_vj7JG",
        "outputId": "584dd690-3887-44d6-810e-7015cac8627b",
        "colab": {
          "base_uri": "https://localhost:8080/"
        }
      },
      "execution_count": 2,
      "outputs": [
        {
          "output_type": "stream",
          "name": "stdout",
          "text": [
            "The dimensions of the rectangle that maximize the area are: 2.50000000000000 m x 2.50000000000000 m\n"
          ]
        }
      ]
    },
    {
      "cell_type": "markdown",
      "source": [
        "Exercise 3"
      ],
      "metadata": {
        "id": "j_uW4TmgkHM7"
      }
    },
    {
      "cell_type": "code",
      "source": [
        "import sympy as sp\n",
        "\n",
        "# Define the variable and the function\n",
        "x = sp.Symbol('x')\n",
        "f = x**2 + 3*x - 5\n",
        "\n",
        "# Find the first derivative\n",
        "df_dx = sp.diff(f, x)\n",
        "\n",
        "# Solve for critical points\n",
        "critical_points = sp.solve(df_dx, x)\n",
        "\n",
        "# Find the second derivative\n",
        "second_derivative = sp.diff(df_dx, x)\n",
        "\n",
        "# Evaluate the nature of critical points and the function value\n",
        "for point in critical_points:\n",
        "    second_derivative_value = second_derivative.subs(x, point)\n",
        "    function_value = f.subs(x, point)\n",
        "    if second_derivative_value > 0:\n",
        "        print(f\"Local minimum at x = {point}, f(x) = {function_value}\")\n",
        "    elif second_derivative_value < 0:\n",
        "        print(f\"Local maximum at x = {point}, f(x) = {function_value}\")\n",
        "    else:\n",
        "        print(f\"Inconclusive at x = {point}, f(x) = {function_value}\")\n"
      ],
      "metadata": {
        "id": "Xro71_NKkTSF",
        "outputId": "01d77899-5bfc-4ccb-b4e6-35268f4b8feb",
        "colab": {
          "base_uri": "https://localhost:8080/"
        }
      },
      "execution_count": 3,
      "outputs": [
        {
          "output_type": "stream",
          "name": "stdout",
          "text": [
            "Local minimum at x = -3/2, f(x) = -29/4\n"
          ]
        }
      ]
    },
    {
      "cell_type": "markdown",
      "source": [
        "Exercise 4"
      ],
      "metadata": {
        "id": "ejYjE6Y2kh67"
      }
    },
    {
      "cell_type": "code",
      "source": [
        "import sympy as sp\n",
        "\n",
        "# Define the variable and the function\n",
        "x = sp.Symbol('x')\n",
        "f = (x**2 + 2*x + 1) / (x - 1)\n",
        "\n",
        "# Find the first derivative\n",
        "df_dx = sp.diff(f, x)\n",
        "\n",
        "# Solve for critical points\n",
        "critical_points = sp.solve(df_dx, x)\n",
        "\n",
        "# Find the second derivative\n",
        "second_derivative = sp.diff(df_dx, x)\n",
        "\n",
        "# Evaluate the nature of critical points and the function value\n",
        "for point in critical_points:\n",
        "    # Ensure the critical point is in the domain of the function\n",
        "    if point != 1:  # Exclude x = 1 as it makes the denominator zero\n",
        "        second_derivative_value = second_derivative.subs(x, point)\n",
        "        function_value = f.subs(x, point)\n",
        "        if second_derivative_value > 0:\n",
        "            print(f\"Local minimum at x = {point}, f(x) = {function_value}\")\n",
        "        elif second_derivative_value < 0:\n",
        "            print(f\"Local maximum at x = {point}, f(x) = {function_value}\")\n",
        "        else:\n",
        "            print(f\"Inconclusive at x = {point}, f(x) = {function_value}\")\n"
      ],
      "metadata": {
        "id": "b_bmdcOEkix2",
        "outputId": "334fc3ed-1648-4f2a-c58c-f637d1ce1058",
        "colab": {
          "base_uri": "https://localhost:8080/"
        }
      },
      "execution_count": 4,
      "outputs": [
        {
          "output_type": "stream",
          "name": "stdout",
          "text": [
            "Local maximum at x = -1, f(x) = 0\n",
            "Local minimum at x = 3, f(x) = 8\n"
          ]
        }
      ]
    }
  ]
}
