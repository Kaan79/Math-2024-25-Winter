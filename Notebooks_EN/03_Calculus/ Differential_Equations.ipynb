{
  "nbformat": 4,
  "nbformat_minor": 0,
  "metadata": {
    "colab": {
      "provenance": []
    },
    "kernelspec": {
      "name": "python3",
      "display_name": "Python 3"
    },
    "language_info": {
      "name": "python"
    }
  },
  "cells": [
    {
      "cell_type": "markdown",
      "source": [
        "# Differential Equations - Useful Formulas\n",
        "\n",
        "## First-Order Differential Equations\n",
        "\n",
        "### Separable Equations\n",
        "A separable differential equation is of the form:\n",
        "$$ \\frac{dy}{dx} = g(x)h(y) $$\n",
        "Solution:\n",
        "$$ \\int \\frac{1}{h(y)} dy = \\int g(x) dx + C $$\n",
        "\n",
        "### Linear First-Order Equation\n",
        "A linear first-order equation is of the form:\n",
        "$$ \\frac{dy}{dx} + P(x)y = Q(x) $$\n",
        "Solution using the integrating factor:\n",
        "$$ \\mu(x) = e^{\\int P(x)dx} $$\n",
        "$$ y = \\frac{1}{\\mu(x)} \\int \\mu(x) Q(x) dx + C $$\n",
        "\n",
        "## Second-Order Linear Differential Equations\n",
        "\n",
        "### Homogeneous Equations\n",
        "$$ a y'' + b y' + c y = 0 $$\n",
        "The characteristic equation:\n",
        "$$ ar^2 + br + c = 0 $$\n",
        "Roots:\n",
        "1. Distinct real roots: $$ y = C_1 e^{r_1 x} + C_2 e^{r_2 x} $$\n",
        "2. Repeated roots: $$ y = (C_1 + C_2 x) e^{r x} $$\n",
        "3. Complex roots: $$ y = e^{\\alpha x} (C_1 \\cos(\\beta x) + C_2 \\sin(\\beta x)) $$\n",
        "\n",
        "### Non-Homogeneous Equations\n",
        "General form:\n",
        "$$ a y'' + b y' + c y = f(x) $$\n",
        "Solution:\n",
        "$$ y = y_h + y_p $$\n",
        "where:\n",
        "- \\( y_h \\) is the solution of the homogeneous equation\n",
        "- \\( y_p \\) is the particular solution found using the method of undetermined coefficients or variation of parameters\n",
        "\n",
        "## Laplace Transform\n",
        "\n",
        "The Laplace transform is defined as:\n",
        "$$ \\mathcal{L}\\{f(t)\\} = \\int_0^{\\infty} e^{-st} f(t) dt $$\n",
        "\n",
        "### Common Laplace Transforms\n",
        "- $$ \\mathcal{L}\\{1\\} = \\frac{1}{s} $$\n",
        "- $$ \\mathcal{L}\\{t^n\\} = \\frac{n!}{s^{n+1}}, \\quad n \\geq 0 $$\n",
        "- $$ \\mathcal{L}\\{e^{at}\\} = \\frac{1}{s-a} $$\n",
        "- $$ \\mathcal{L}\\{\\cos(bt)\\} = \\frac{s}{s^2 + b^2} $$\n",
        "- $$ \\mathcal{L}\\{\\sin(bt)\\} = \\frac{b}{s^2 + b^2} $$\n",
        "\n",
        "### Laplace Transform of Derivatives\n",
        "- $$ \\mathcal{L}\\{f'(t)\\} = sF(s) - f(0) $$\n",
        "- $$ \\mathcal{L}\\{f''(t)\\} = s^2F(s) - sf(0) - f'(0) $$\n",
        "\n",
        "## Fourier Series\n",
        "For a periodic function \\( f(x) \\) with period \\( T \\):\n",
        "$$ f(x) = a_0 + \\sum_{n=1}^{\\infty} \\left( a_n \\cos\\frac{2\\pi nx}{T} + b_n \\sin\\frac{2\\pi nx}{T} \\right) $$\n",
        "where:\n",
        "$$ a_0 = \\frac{1}{T} \\int_{-T/2}^{T/2} f(x) dx $$\n",
        "$$ a_n = \\frac{2}{T} \\int_{-T/2}^{T/2} f(x) \\cos\\frac{2\\pi nx}{T} dx $$\n",
        "$$ b_n = \\frac{2}{T} \\int_{-T/2}^{T/2} f(x) \\sin\\frac{2\\pi nx}{T} dx $$\n"
      ],
      "metadata": {
        "id": "jrLLHxzn6Flg"
      }
    },
    {
      "cell_type": "markdown",
      "source": [
        "Example 1\n"
      ],
      "metadata": {
        "id": "xC6hI4g-6Kxa"
      }
    },
    {
      "cell_type": "markdown",
      "source": [],
      "metadata": {
        "id": "Y_mJ_l-66MM4"
      }
    },
    {
      "cell_type": "markdown",
      "source": [
        "# Solution\n",
        "\n",
        "1. **Equation:**  \n",
        "   $$ y'(x) = y(x) $$  \n",
        "   \n",
        "   **Steps:**  \n",
        "    Apply the method of separation of variables:  \n",
        "     $$ \\frac{dy}{dx} = y $$  \n",
        "     $$ \\frac{dy}{y} = dx $$  \n",
        "    Integrate both sides:  \n",
        "     $$ \\int \\frac{1}{y} dy = \\int dx $$  \n",
        "    Solve the integrals:  \n",
        "     $$ \\ln |y| = x + C $$  \n",
        "   Apply the exponential function to obtain the general solution:  \n",
        "     $$ y = Ce^x $$  \n",
        "   \n",
        "   **Final Answer:**  \n",
        "   $$ y(x) = Ce^x $$  \n"
      ],
      "metadata": {
        "id": "SKRUqqkZ6Rjc"
      }
    },
    {
      "cell_type": "markdown",
      "source": [
        "\n",
        "2. **Equation:**  \n",
        "   $$ y'(x) = \\frac{1}{2y(x)} $$  \n",
        "   \n",
        "   **Steps:**  \n",
        "    Use separation of variables:  \n",
        "     $$ 2y \\, dy = dx $$  \n",
        "Integrate both sides:  \n",
        "     $$ \\int 2y \\, dy = \\int dx $$  \n",
        "   Solve the integrals:  \n",
        "     $$ y^2 = x + C $$  \n",
        "   Express the solution explicitly:  \n",
        "     $$ y = \\pm\\sqrt{x + C} $$  \n",
        "   \n",
        "   **Final Answer:**  \n",
        "   $$ y(x) = \\pm\\sqrt{x + C} $$  \n"
      ],
      "metadata": {
        "id": "LQoeh3MM6Z3w"
      }
    },
    {
      "cell_type": "markdown",
      "source": [
        "2 Example"
      ],
      "metadata": {
        "id": "AS7WA8Io6zEG"
      }
    },
    {
      "cell_type": "markdown",
      "source": [
        "# Solution\n",
        "\n",
        "We will solve the given first-order differential equations using the **separation of variables** method.\n",
        "\n",
        "---\n",
        "\n",
        "### **1st Equation:**  \n",
        "$$ \\frac{dy}{dx} = \\frac{x}{y} $$  \n",
        "\n",
        "#### **Steps:**\n",
        "- Rewrite in separable form:  \n",
        "  $$ y \\, dy = x \\, dx $$\n",
        "- Integrate both sides:  \n",
        "  $$ \\int y \\, dy = \\int x \\, dx $$\n",
        "- Solve the integrals:  \n",
        "  $$ \\frac{y^2}{2} = \\frac{x^2}{2} + C $$\n",
        "- Multiply by 2:  \n",
        "  $$ y^2 = x^2 + C $$  \n",
        "- Final solution:  \n",
        "  $$ y = \\pm\\sqrt{x^2 + C} $$\n",
        "\n",
        "\n",
        "\n",
        "\n"
      ],
      "metadata": {
        "id": "QqC4ZQvg61aP"
      }
    },
    {
      "cell_type": "markdown",
      "source": [
        "\n",
        "### **2nd Equation:**  \n",
        "$$ \\frac{dy}{dx} = \\frac{y}{x} $$  \n",
        "\n",
        "#### **Steps:**\n",
        " Rewrite in separable form:  \n",
        "  $$ \\frac{dy}{y} = \\frac{dx}{x} $$\n",
        "Integrate both sides:  \n",
        "  $$ \\int \\frac{dy}{y} = \\int \\frac{dx}{x} $$\n",
        " Solve the integrals:  \n",
        "  $$ \\ln |y| = \\ln |x| + C $$\n",
        " Exponentiate both sides:  \n",
        "  $$ y = Cx $$\n",
        "   Final solution:  \n",
        "  $$ y(x) = Cx $$\n"
      ],
      "metadata": {
        "id": "GbJbdx3E69qI"
      }
    },
    {
      "cell_type": "markdown",
      "source": [
        "\n",
        "\n",
        "### **3rd Equation:**  \n",
        "$$ \\frac{dy}{dx} = xy $$  \n",
        "\n",
        "#### **Steps:**\n",
        " Rewrite in separable form:  \n",
        "  $$ \\frac{dy}{y} = x \\, dx $$\n",
        "   Integrate both sides:  \n",
        "  $$ \\int \\frac{dy}{y} = \\int x \\, dx $$\n",
        " Solve the integrals:  \n",
        "  $$ \\ln |y| = \\frac{x^2}{2} + C $$\n",
        " Exponentiate both sides:  \n",
        "  $$ y = e^C e^{x^2/2} $$  \n",
        " Let \\( e^C = C' \\):  \n",
        "  $$ y(x) = C'e^{x^2/2} $$\n"
      ],
      "metadata": {
        "id": "GG5fLsvS7Fdg"
      }
    },
    {
      "cell_type": "markdown",
      "source": [
        "3 Example"
      ],
      "metadata": {
        "id": "HEnBwLBR7Kqb"
      }
    }
  ]
}