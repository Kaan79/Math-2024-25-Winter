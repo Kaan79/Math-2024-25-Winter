{
  "nbformat": 4,
  "nbformat_minor": 0,
  "metadata": {
    "colab": {
      "provenance": []
    },
    "kernelspec": {
      "name": "python3",
      "display_name": "Python 3"
    },
    "language_info": {
      "name": "python"
    }
  },
  "cells": [
    {
      "cell_type": "markdown",
      "source": [
        "# Useful Integral Formulas\n",
        "\n",
        "## 1. Power Rule for Integration\n",
        "For any real number \\( n \\neq -1 \\):\n",
        "$$ \\int x^n \\, dx = \\frac{x^{n+1}}{n+1} + C $$\n",
        "\n",
        "## 2. Integral of Exponential Functions\n",
        "For the exponential function \\( e^x \\):\n",
        "$$ \\int e^x \\, dx = e^x + C $$\n",
        "\n",
        "## 3. Definite Integral\n",
        "For a function \\( f(x) \\), the definite integral from \\( a \\) to \\( b \\) is:\n",
        "$$ \\int_a^b f(x) \\, dx = F(b) - F(a) $$\n",
        "\n",
        "## 4. Integration by Parts\n",
        "For functions \\( u(x) \\) and \\( v(x) \\), the formula is:\n",
        "$$ \\int u \\, dv = uv - \\int v \\, du $$\n",
        "\n",
        "## 5. Integral of Trigonometric Functions\n",
        "- Integral of sine:\n",
        "  $$ \\int \\sin(x) \\, dx = -\\cos(x) + C $$\n",
        "\n",
        "- Integral of cosine:\n",
        "  $$ \\int \\cos(x) \\, dx = \\sin(x) + C $$\n",
        "\n",
        "## 6. Integral of Secant Squared\n",
        "For the secant squared function:\n",
        "$$ \\int \\sec^2(x) \\, dx = \\tan(x) + C $$\n",
        "\n",
        "## 7. Integral of Cosecant Squared\n",
        "For the cosecant squared function:\n",
        "$$ \\int \\csc^2(x) \\, dx = -\\cot(x) + C $$\n",
        "\n",
        "## 8. Integral of Tangent\n",
        "For the tangent function:\n",
        "$$ \\int \\tan(x) \\, dx = \\ln|\\sec(x)| + C $$\n",
        "\n",
        "## 9. Integral of Cotangent\n",
        "For the cotangent function:\n",
        "$$ \\int \\cot(x) \\, dx = \\ln|\\sin(x)| + C $$\n",
        "\n",
        "## 10. Integral of Exponential Decay\n",
        "For an exponential decay function \\( e^{-ax} \\), where \\( a > 0 \\):\n",
        "$$ \\int e^{-ax} \\, dx = \\frac{e^{-ax}}{-a} + C $$\n",
        "\n",
        "## 11. Integral of Rational Functions\n",
        "For a rational function of the form \\( \\int \\frac{1}{x} \\, dx \\):\n",
        "$$ \\int \\frac{1}{x} \\, dx = \\ln|x| + C $$\n",
        "\n",
        "\n"
      ],
      "metadata": {
        "id": "e0PFn9GGAjEc"
      }
    },
    {
      "cell_type": "markdown",
      "source": [
        "Exercises"
      ],
      "metadata": {
        "id": "HorEpFPAA71w"
      }
    },
    {
      "cell_type": "markdown",
      "source": [
        "1\n"
      ],
      "metadata": {
        "id": "nQNjAyLdBdwm"
      }
    },
    {
      "cell_type": "code",
      "source": [
        "import sympy as sp\n",
        "\n",
        "# Define the variable\n",
        "x = sp.symbols('x')\n",
        "\n",
        "# Define the function\n",
        "f = 1/x\n",
        "\n",
        "# Compute the integral\n",
        "integral = sp.integrate(f, x)\n",
        "\n",
        "# Display the result\n",
        "integral\n"
      ],
      "metadata": {
        "id": "cuRMuDUzA7A8",
        "outputId": "b6202652-bfa5-4e98-965b-510236617940",
        "colab": {
          "base_uri": "https://localhost:8080/",
          "height": 38
        }
      },
      "execution_count": 5,
      "outputs": [
        {
          "output_type": "execute_result",
          "data": {
            "text/plain": [
              "log(x)"
            ],
            "text/latex": "$\\displaystyle \\log{\\left(x \\right)}$"
          },
          "metadata": {},
          "execution_count": 5
        }
      ]
    },
    {
      "cell_type": "markdown",
      "source": [
        "2"
      ],
      "metadata": {
        "id": "ofzo-xBLByh-"
      }
    },
    {
      "cell_type": "code",
      "source": [
        "import sympy as sp\n",
        "\n",
        "# Değişkeni tanımla\n",
        "x = sp.symbols('x')\n",
        "\n",
        "# Fonksiyonu tanımla\n",
        "f = x**2 + 2\n",
        "\n",
        "# İntegrali hesapla\n",
        "integral = sp.integrate(f, x)\n",
        "\n",
        "# Sonucu yazdır\n",
        "integral\n"
      ],
      "metadata": {
        "id": "5UVL1f6LBzm4",
        "outputId": "820e9c48-5e17-400e-ca85-7e245cc6a63f",
        "colab": {
          "base_uri": "https://localhost:8080/",
          "height": 54
        }
      },
      "execution_count": 7,
      "outputs": [
        {
          "output_type": "execute_result",
          "data": {
            "text/plain": [
              "x**3/3 + 2*x"
            ],
            "text/latex": "$\\displaystyle \\frac{x^{3}}{3} + 2 x$"
          },
          "metadata": {},
          "execution_count": 7
        }
      ]
    },
    {
      "cell_type": "markdown",
      "source": [
        "3\n"
      ],
      "metadata": {
        "id": "217Pc3ChCR-H"
      }
    },
    {
      "cell_type": "code",
      "source": [
        "import sympy as sp\n",
        "\n",
        "# Değişkeni tanımla\n",
        "x = sp.symbols('x')\n",
        "\n",
        "# Fonksiyonu tanımla\n",
        "f = 2 * sp.sin(x)\n",
        "\n",
        "# İntegrali hesapla\n",
        "integral = sp.integrate(f, x)\n",
        "\n",
        "# Sonucu yazdır\n",
        "integral\n"
      ],
      "metadata": {
        "id": "XNzrnztjCS2s",
        "outputId": "560fab28-5c1c-48f4-9047-f9ef47798920",
        "colab": {
          "base_uri": "https://localhost:8080/",
          "height": 38
        }
      },
      "execution_count": 8,
      "outputs": [
        {
          "output_type": "execute_result",
          "data": {
            "text/plain": [
              "-2*cos(x)"
            ],
            "text/latex": "$\\displaystyle - 2 \\cos{\\left(x \\right)}$"
          },
          "metadata": {},
          "execution_count": 8
        }
      ]
    },
    {
      "cell_type": "markdown",
      "source": [
        "4"
      ],
      "metadata": {
        "id": "cZ7-CIYzCjK0"
      }
    },
    {
      "cell_type": "code",
      "source": [
        "import sympy as sp\n",
        "\n",
        "# Değişkeni tanımla\n",
        "x = sp.symbols('x')\n",
        "\n",
        "# Fonksiyonu tanımla\n",
        "f = 3 * x\n",
        "\n",
        "# İntegrali hesapla\n",
        "integral = sp.integrate(f, x)\n",
        "\n",
        "# Sonucu yazdır\n",
        "integral\n"
      ],
      "metadata": {
        "id": "D8Qt0sulCjtX",
        "outputId": "9aa9b737-562e-4fb9-9a65-7475516cd48f",
        "colab": {
          "base_uri": "https://localhost:8080/",
          "height": 54
        }
      },
      "execution_count": 9,
      "outputs": [
        {
          "output_type": "execute_result",
          "data": {
            "text/plain": [
              "3*x**2/2"
            ],
            "text/latex": "$\\displaystyle \\frac{3 x^{2}}{2}$"
          },
          "metadata": {},
          "execution_count": 9
        }
      ]
    },
    {
      "cell_type": "markdown",
      "source": [
        "5"
      ],
      "metadata": {
        "id": "-O8_2mmBCw8V"
      }
    },
    {
      "cell_type": "code",
      "source": [
        "import sympy as sp\n",
        "\n",
        "# Değişkeni tanımla\n",
        "x = sp.symbols('x')\n",
        "\n",
        "# Fonksiyonu tanımla\n",
        "f = 1/x**2\n",
        "\n",
        "# İntegrali hesapla\n",
        "integral = sp.integrate(f, x)\n",
        "\n",
        "# Sonucu yazdır\n",
        "integral\n"
      ],
      "metadata": {
        "id": "sjIYbCoPCyMH",
        "outputId": "94bca128-d32d-4d02-a30b-95af2c30e4e4",
        "colab": {
          "base_uri": "https://localhost:8080/",
          "height": 51
        }
      },
      "execution_count": 10,
      "outputs": [
        {
          "output_type": "execute_result",
          "data": {
            "text/plain": [
              "-1/x"
            ],
            "text/latex": "$\\displaystyle - \\frac{1}{x}$"
          },
          "metadata": {},
          "execution_count": 10
        }
      ]
    },
    {
      "cell_type": "markdown",
      "source": [
        "6\n"
      ],
      "metadata": {
        "id": "7Ufq3YUdC6hP"
      }
    },
    {
      "cell_type": "markdown",
      "source": [
        "\n",
        "Step 1: Define the Given Function\n",
        "The given function to integrate is:\n",
        "\n",
        "f(x) = (1/3) * x^4 - 5\n",
        "\n",
        "We need to integrate this function with respect to x.\n",
        "\n",
        "Step 2: Break the Integral into Two Parts\n",
        "We can break the given integral into two parts for easier calculation:\n",
        "\n",
        "∫ (1/3 * x^4 - 5) dx = ∫ (1/3 * x^4) dx - ∫ (5) dx\n",
        "\n",
        "Now, we will calculate each part separately.\n",
        "\n",
        "Step 3: Integrate the First Term ∫ (1/3 * x^4) dx\n",
        "To integrate the term (1/3 * x^4), we use the power rule for integration, which states:\n",
        "\n",
        "∫ x^n dx = (1/(n+1)) * x^(n+1) (for any real number n where n ≠ -1)\n",
        "\n",
        "For the first term, we have n = 4, so applying the power rule:\n",
        "\n",
        "∫ (1/3 * x^4) dx = (1/3) * (1/5) * x^5 = (1/15) * x^5\n",
        "\n",
        "Step 4: Integrate the Second Term ∫ (-5) dx\n",
        "For the second term, we have -5, which is a constant. The integral of a constant with respect to x is simply the constant multiplied by x:\n",
        "\n",
        "∫ (-5) dx = -5x\n",
        "\n",
        "Step 5: Combine the Results\n",
        "Now that we've integrated both parts, we combine them:\n",
        "\n",
        "∫ (1/3 * x^4 - 5) dx = (1/15) * x^5 - 5x + C\n",
        "\n",
        "Where C is the constant of integration, which is added because this is an indefinite integral.\n",
        "\n",
        "Final Answer:\n",
        "The result of the integral is:\n",
        "\n",
        "(1/15) * x^5 - 5x + C\n",
        "\n"
      ],
      "metadata": {
        "id": "mw68S_k6FEpb"
      }
    },
    {
      "cell_type": "code",
      "source": [
        "import sympy as sp\n",
        "\n",
        "# Değişken tanımlamaları\n",
        "x = sp.symbols('x')\n",
        "\n",
        "# Fonksiyonu tanımla\n",
        "f = (1/3) * x**4 - 5\n",
        "\n",
        "# İntegrali hesapla\n",
        "integral_f = sp.integrate(f, x)\n",
        "\n",
        "# Sonucu yazdır\n",
        "integral_f\n"
      ],
      "metadata": {
        "id": "3CmcMrn1EGWz",
        "outputId": "3858cc28-d78d-418c-a606-f9521e3d04ca",
        "colab": {
          "base_uri": "https://localhost:8080/",
          "height": 38
        }
      },
      "execution_count": 14,
      "outputs": [
        {
          "output_type": "execute_result",
          "data": {
            "text/plain": [
              "0.0666666666666667*x**5 - 5.0*x"
            ],
            "text/latex": "$\\displaystyle 0.0666666666666667 x^{5} - 5.0 x$"
          },
          "metadata": {},
          "execution_count": 14
        }
      ]
    },
    {
      "cell_type": "markdown",
      "source": [
        "7"
      ],
      "metadata": {
        "id": "Z-8gHEKGC7ZB"
      }
    },
    {
      "cell_type": "markdown",
      "source": [
        "\n",
        "solution = \"\"\"\n",
        "Step 1: Recognize the Trigonometric Identity\n",
        "\n",
        "We know the Pythagorean identity:\n",
        "\n",
        "sin^2(x) + cos^2(x) = 1\n",
        "\n",
        "This allows us to simplify the given integral:\n",
        "\n",
        "∫ (sin^2(x) + cos^2(x)) dx = ∫ 1 dx\n",
        "\n",
        "Step 2: Integrate the Constant 1\n",
        "\n",
        "Now, we need to integrate the function 1 with respect to x. The integral of 1 with respect to x is simply:\n",
        "\n",
        "∫ 1 dx = x\n",
        "\n",
        "Step 3: Add the Constant of Integration\n",
        "\n",
        "Since this is an indefinite integral, we add the constant of integration, represented by 'C':\n",
        "\n",
        "Final Answer:\n",
        "x + C\n",
        "\n",
        "\n",
        "\"\n",
        "\n",
        "\n",
        "\n",
        "\n"
      ],
      "metadata": {
        "id": "eRRKvzcCEi3g"
      }
    },
    {
      "cell_type": "code",
      "source": [
        "import sympy as sp\n",
        "\n",
        "# Değişken tanımlamaları\n",
        "x = sp.symbols('x')\n",
        "\n",
        "# Fonksiyonu tanımla\n",
        "f = sp.sin(x)**2 + sp.cos(x)**2\n",
        "\n",
        "# İntegrali hesapla\n",
        "integral_f = sp.integrate(f, x)\n",
        "\n",
        "# Sonucu yazdır\n",
        "integral_f\n"
      ],
      "metadata": {
        "id": "2NCdluZDENly",
        "outputId": "a4220cf1-1092-44c4-865c-d37bd1b9a7b2",
        "colab": {
          "base_uri": "https://localhost:8080/",
          "height": 38
        }
      },
      "execution_count": 15,
      "outputs": [
        {
          "output_type": "execute_result",
          "data": {
            "text/plain": [
              "x"
            ],
            "text/latex": "$\\displaystyle x$"
          },
          "metadata": {},
          "execution_count": 15
        }
      ]
    },
    {
      "cell_type": "markdown",
      "source": [
        "8"
      ],
      "metadata": {
        "id": "RMYAOdfDC76X"
      }
    },
    {
      "cell_type": "markdown",
      "source": [
        "9"
      ],
      "metadata": {
        "id": "UwDN6ZUQC8Oa"
      }
    }
  ]
}