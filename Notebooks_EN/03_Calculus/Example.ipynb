{
  "nbformat": 4,
  "nbformat_minor": 0,
  "metadata": {
    "colab": {
      "provenance": []
    },
    "kernelspec": {
      "name": "python3",
      "display_name": "Python 3"
    },
    "language_info": {
      "name": "python"
    }
  },
  "cells": [
    {
      "cell_type": "markdown",
      "source": [
        "# Useful Integral Formulas\n",
        "\n",
        "## 1. Power Rule for Integration\n",
        "For any real number \\( n \\neq -1 \\):\n",
        "$$ \\int x^n \\, dx = \\frac{x^{n+1}}{n+1} + C $$\n",
        "\n",
        "## 2. Integral of Exponential Functions\n",
        "For the exponential function \\( e^x \\):\n",
        "$$ \\int e^x \\, dx = e^x + C $$\n",
        "\n",
        "## 3. Definite Integral\n",
        "For a function \\( f(x) \\), the definite integral from \\( a \\) to \\( b \\) is:\n",
        "$$ \\int_a^b f(x) \\, dx = F(b) - F(a) $$\n",
        "\n",
        "## 4. Integration by Parts\n",
        "For functions \\( u(x) \\) and \\( v(x) \\), the formula is:\n",
        "$$ \\int u \\, dv = uv - \\int v \\, du $$\n",
        "\n",
        "## 5. Integral of Trigonometric Functions\n",
        "- Integral of sine:\n",
        "  $$ \\int \\sin(x) \\, dx = -\\cos(x) + C $$\n",
        "\n",
        "- Integral of cosine:\n",
        "  $$ \\int \\cos(x) \\, dx = \\sin(x) + C $$\n",
        "\n",
        "## 6. Integral of Secant Squared\n",
        "For the secant squared function:\n",
        "$$ \\int \\sec^2(x) \\, dx = \\tan(x) + C $$\n",
        "\n",
        "## 7. Integral of Cosecant Squared\n",
        "For the cosecant squared function:\n",
        "$$ \\int \\csc^2(x) \\, dx = -\\cot(x) + C $$\n",
        "\n",
        "## 8. Integral of Tangent\n",
        "For the tangent function:\n",
        "$$ \\int \\tan(x) \\, dx = \\ln|\\sec(x)| + C $$\n",
        "\n",
        "## 9. Integral of Cotangent\n",
        "For the cotangent function:\n",
        "$$ \\int \\cot(x) \\, dx = \\ln|\\sin(x)| + C $$\n",
        "\n",
        "## 10. Integral of Exponential Decay\n",
        "For an exponential decay function \\( e^{-ax} \\), where \\( a > 0 \\):\n",
        "$$ \\int e^{-ax} \\, dx = \\frac{e^{-ax}}{-a} + C $$\n",
        "\n",
        "## 11. Integral of Rational Functions\n",
        "For a rational function of the form \\( \\int \\frac{1}{x} \\, dx \\):\n",
        "$$ \\int \\frac{1}{x} \\, dx = \\ln|x| + C $$\n",
        "\n",
        "\n"
      ],
      "metadata": {
        "id": "e0PFn9GGAjEc"
      }
    },
    {
      "cell_type": "markdown",
      "source": [
        "Exercises"
      ],
      "metadata": {
        "id": "HorEpFPAA71w"
      }
    },
    {
      "cell_type": "markdown",
      "source": [
        "1\n"
      ],
      "metadata": {
        "id": "nQNjAyLdBdwm"
      }
    },
    {
      "cell_type": "markdown",
      "source": [
        "\n",
        "Step 1: Recognize the Standard Integral Formula\n",
        "The function we need to integrate is 1/x. This is a very common integral in calculus, and it has a well-known result.\n",
        "The standard formula for the integral of 1/x with respect to x is:\n",
        "\n",
        "∫ (1/x) dx = ln|x|\n",
        "\n",
        "Where:\n",
        "- ln|x| represents the natural logarithm of the absolute value of x,\n",
        "- The absolute value |x| is used because the logarithm is only defined for positive real numbers,\n",
        "  and ln|x| ensures that the function is valid for both positive and negative values of x, excluding x = 0.\n",
        "\n",
        "Step 2: Apply the Integral Formula\n",
        "Now that we know the standard formula for the integral of 1/x, we can directly apply it:\n",
        "\n",
        "∫ (1/x) dx = ln|x|\n",
        "\n",
        "This is the solution to the indefinite integral of 1/x.\n",
        "\n",
        "Step 3: Understanding the Natural Logarithm\n",
        "The natural logarithm, denoted as ln(x), is the inverse operation of exponentiation with base e (approximately 2.71828).\n",
        "The absolute value |x| ensures that we can take the logarithm for both positive and negative values of x (excluding x = 0).\n",
        "\n",
        "For example:\n",
        "- If x > 0, then ln|x| = ln(x),\n",
        "- If x < 0, then ln|x| = ln(-x).\n",
        "\n",
        "This absolute value is necessary because the logarithmic function is only defined for positive values of its argument.\n",
        "\n",
        "Final Answer:\n",
        "Thus, the result of the integral is:\n",
        "\n",
        "∫ (1/x) dx = ln|x|\n"
      ],
      "metadata": {
        "id": "puFpgXpsGxZe"
      }
    },
    {
      "cell_type": "code",
      "source": [
        "import sympy as sp\n",
        "\n",
        "# Define the variable\n",
        "x = sp.symbols('x')\n",
        "\n",
        "# Define the function\n",
        "f = 1/x\n",
        "\n",
        "# Compute the integral\n",
        "integral = sp.integrate(f, x)\n",
        "\n",
        "# Display the result\n",
        "integral\n"
      ],
      "metadata": {
        "colab": {
          "base_uri": "https://localhost:8080/",
          "height": 38
        },
        "id": "cuRMuDUzA7A8",
        "outputId": "b6202652-bfa5-4e98-965b-510236617940"
      },
      "execution_count": 5,
      "outputs": [
        {
          "output_type": "execute_result",
          "data": {
            "text/plain": [
              "log(x)"
            ],
            "text/latex": "$\\displaystyle \\log{\\left(x \\right)}$"
          },
          "metadata": {},
          "execution_count": 5
        }
      ]
    },
    {
      "cell_type": "markdown",
      "source": [
        "2"
      ],
      "metadata": {
        "id": "ofzo-xBLByh-"
      }
    },
    {
      "cell_type": "markdown",
      "source": [
        "\n",
        "\n",
        "f(x) = x^2 + 2\n",
        "\n",
        "We need to integrate this function with respect to x.\n",
        "\n",
        "Step 2: Break the Integral into Two Parts\n",
        "We can break the given integral into two parts for easier calculation:\n",
        "\n",
        "∫ (x^2 + 2) dx = ∫ (x^2) dx + ∫ (2) dx\n",
        "\n",
        "Now, we will calculate each part separately.\n",
        "\n",
        "Step 3: Integrate the First Term ∫ (x^2) dx\n",
        "To integrate x^2, we use the power rule for integration, which states:\n",
        "\n",
        "∫ x^n dx = (1/(n+1)) * x^(n+1) (for any real number n ≠ -1)\n",
        "\n",
        "For the first term, we have n = 2. Applying the power rule:\n",
        "\n",
        "∫ x^2 dx = (1/(2+1)) * x^(2+1) = (1/3) * x^3\n",
        "\n",
        "Step 4: Integrate the Second Term ∫ (2) dx\n",
        "For the second term, we have 2, which is a constant. The integral of a constant with respect to x is simply the constant multiplied by x:\n",
        "\n",
        "∫ 2 dx = 2x\n",
        "\n",
        "Step 5: Combine the Results\n",
        "Now that we've integrated both parts, we combine them:\n",
        "\n",
        "∫ (x^2 + 2) dx = (1/3) * x^3 + 2x\n",
        "\n",
        "\n",
        "\n",
        "Final Answer:\n",
        "The result of the integral is:\n",
        "\n",
        "(1/3) * x^3 + 2x\n",
        "\n"
      ],
      "metadata": {
        "id": "YJJsUp58F8TZ"
      }
    },
    {
      "cell_type": "code",
      "source": [
        "import sympy as sp\n",
        "\n",
        "# Değişkeni tanımla\n",
        "x = sp.symbols('x')\n",
        "\n",
        "# Fonksiyonu tanımla\n",
        "f = x**2 + 2\n",
        "\n",
        "# İntegrali hesapla\n",
        "integral = sp.integrate(f, x)\n",
        "\n",
        "# Sonucu yazdır\n",
        "integral\n"
      ],
      "metadata": {
        "colab": {
          "base_uri": "https://localhost:8080/",
          "height": 54
        },
        "id": "5UVL1f6LBzm4",
        "outputId": "820e9c48-5e17-400e-ca85-7e245cc6a63f"
      },
      "execution_count": 7,
      "outputs": [
        {
          "output_type": "execute_result",
          "data": {
            "text/plain": [
              "x**3/3 + 2*x"
            ],
            "text/latex": "$\\displaystyle \\frac{x^{3}}{3} + 2 x$"
          },
          "metadata": {},
          "execution_count": 7
        }
      ]
    },
    {
      "cell_type": "markdown",
      "source": [
        "3\n"
      ],
      "metadata": {
        "id": "217Pc3ChCR-H"
      }
    },
    {
      "cell_type": "markdown",
      "source": [
        "\n",
        "\n",
        "f(x) = 2 * sin(x)\n",
        "\n",
        "We need to integrate this function with respect to x.\n",
        "\n",
        "Step 2: Use the Standard Integral for sin(x)\n",
        "We know that the integral of sin(x) is:\n",
        "\n",
        "∫ sin(x) dx = -cos(x)\n",
        "\n",
        "So, applying this to our function:\n",
        "\n",
        "∫ 2 * sin(x) dx = 2 * ∫ sin(x) dx\n",
        "                 = 2 * (-cos(x))\n",
        "                 = -2 * cos(x)\n",
        "\n",
        "\n",
        "Final Answer:\n",
        "The result of the integral is:\n",
        "\n",
        "-2 * cos(x)\n",
        "\n",
        "\n",
        "\n"
      ],
      "metadata": {
        "id": "nf1vHL5IFqnz"
      }
    },
    {
      "cell_type": "code",
      "source": [
        "import sympy as sp\n",
        "\n",
        "# Değişkeni tanımla\n",
        "x = sp.symbols('x')\n",
        "\n",
        "# Fonksiyonu tanımla\n",
        "f = 2 * sp.sin(x)\n",
        "\n",
        "# İntegrali hesapla\n",
        "integral = sp.integrate(f, x)\n",
        "\n",
        "# Sonucu yazdır\n",
        "integral\n"
      ],
      "metadata": {
        "colab": {
          "base_uri": "https://localhost:8080/",
          "height": 38
        },
        "id": "XNzrnztjCS2s",
        "outputId": "560fab28-5c1c-48f4-9047-f9ef47798920"
      },
      "execution_count": 8,
      "outputs": [
        {
          "output_type": "execute_result",
          "data": {
            "text/plain": [
              "-2*cos(x)"
            ],
            "text/latex": "$\\displaystyle - 2 \\cos{\\left(x \\right)}$"
          },
          "metadata": {},
          "execution_count": 8
        }
      ]
    },
    {
      "cell_type": "markdown",
      "source": [
        "4"
      ],
      "metadata": {
        "id": "cZ7-CIYzCjK0"
      }
    },
    {
      "cell_type": "markdown",
      "source": [
        "\n",
        "\n",
        "f(x) = 3x\n",
        "\n",
        "We need to integrate this function with respect to x.\n",
        "\n",
        "Step 2: Apply the Power Rule for Integration\n",
        "To integrate 3x, we use the power rule for integration, which states:\n",
        "\n",
        "∫ x^n dx = (1/(n+1)) * x^(n+1) (for any real number n ≠ -1)\n",
        "\n",
        "For the given function, we have f(x) = 3x = 3 * x^1. Applying the power rule:\n",
        "\n",
        "∫ 3x dx = 3 * ∫ x^1 dx\n",
        "          = 3 * (1/(1+1)) * x^(1+1)\n",
        "          = 3 * (1/2) * x^2\n",
        "          = (3/2) * x^2\n",
        "\n",
        "Step 3: Add the Constant of Integration\n",
        "Since this is an indefinite integral, we must add the constant of integration, C:\n",
        "\n",
        "Final Answer:\n",
        "The result of the integral is:\n",
        "\n",
        "(3/2) * x^2 + C\n"
      ],
      "metadata": {
        "id": "EkO0CncfFeci"
      }
    },
    {
      "cell_type": "code",
      "source": [
        "import sympy as sp\n",
        "\n",
        "# Değişkeni tanımla\n",
        "x = sp.symbols('x')\n",
        "\n",
        "# Fonksiyonu tanımla\n",
        "f = 3 * x\n",
        "\n",
        "# İntegrali hesapla\n",
        "integral = sp.integrate(f, x)\n",
        "\n",
        "# Sonucu yazdır\n",
        "integral\n"
      ],
      "metadata": {
        "colab": {
          "base_uri": "https://localhost:8080/",
          "height": 54
        },
        "id": "D8Qt0sulCjtX",
        "outputId": "9aa9b737-562e-4fb9-9a65-7475516cd48f"
      },
      "execution_count": 9,
      "outputs": [
        {
          "output_type": "execute_result",
          "data": {
            "text/plain": [
              "3*x**2/2"
            ],
            "text/latex": "$\\displaystyle \\frac{3 x^{2}}{2}$"
          },
          "metadata": {},
          "execution_count": 9
        }
      ]
    },
    {
      "cell_type": "markdown",
      "source": [
        "5"
      ],
      "metadata": {
        "id": "-O8_2mmBCw8V"
      }
    },
    {
      "cell_type": "markdown",
      "source": [
        "\n",
        "\n",
        "f(x) = 1/x^2\n",
        "\n",
        "We need to integrate this function with respect to x.\n",
        "\n",
        "Step 2: Rewrite the Function\n",
        "We can rewrite the function 1/x^2 as x^-2:\n",
        "\n",
        "f(x) = x^-2\n",
        "\n",
        "This makes it easier to apply the power rule for integration.\n",
        "\n",
        "Step 3: Apply the Power Rule for Integration\n",
        "To integrate x^-2, we use the power rule for integration, which states:\n",
        "\n",
        "∫ x^n dx = (1/(n+1)) * x^(n+1) (for any real number n ≠ -1)\n",
        "\n",
        "For the given function, n = -2. Applying the power rule:\n",
        "\n",
        "∫ x^-2 dx = (1/(-2+1)) * x^(-2+1) = (1/-1) * x^-1 = -1/x\n",
        "\n",
        "Step 4: Add the Constant of Integration\n",
        "Since this is an indefinite integral, we must add the constant of integration, C:\n",
        "\n",
        "Final Answer:\n",
        "The result of the integral is:\n",
        "\n",
        "-1/x + C\n",
        "\n"
      ],
      "metadata": {
        "id": "_9Rs132YFT65"
      }
    },
    {
      "cell_type": "code",
      "source": [
        "import sympy as sp\n",
        "\n",
        "# Değişkeni tanımla\n",
        "x = sp.symbols('x')\n",
        "\n",
        "# Fonksiyonu tanımla\n",
        "f = 1/x**2\n",
        "\n",
        "# İntegrali hesapla\n",
        "integral = sp.integrate(f, x)\n",
        "\n",
        "# Sonucu yazdır\n",
        "integral\n"
      ],
      "metadata": {
        "colab": {
          "base_uri": "https://localhost:8080/",
          "height": 51
        },
        "id": "sjIYbCoPCyMH",
        "outputId": "94bca128-d32d-4d02-a30b-95af2c30e4e4"
      },
      "execution_count": 10,
      "outputs": [
        {
          "output_type": "execute_result",
          "data": {
            "text/plain": [
              "-1/x"
            ],
            "text/latex": "$\\displaystyle - \\frac{1}{x}$"
          },
          "metadata": {},
          "execution_count": 10
        }
      ]
    },
    {
      "cell_type": "markdown",
      "source": [
        "6\n"
      ],
      "metadata": {
        "id": "7Ufq3YUdC6hP"
      }
    },
    {
      "cell_type": "markdown",
      "source": [
        "\n",
        "Step 1: Define the Given Function\n",
        "The given function to integrate is:\n",
        "\n",
        "f(x) = (1/3) * x^4 - 5\n",
        "\n",
        "We need to integrate this function with respect to x.\n",
        "\n",
        "Step 2: Break the Integral into Two Parts\n",
        "We can break the given integral into two parts for easier calculation:\n",
        "\n",
        "∫ (1/3 * x^4 - 5) dx = ∫ (1/3 * x^4) dx - ∫ (5) dx\n",
        "\n",
        "Now, we will calculate each part separately.\n",
        "\n",
        "Step 3: Integrate the First Term ∫ (1/3 * x^4) dx\n",
        "To integrate the term (1/3 * x^4), we use the power rule for integration, which states:\n",
        "\n",
        "∫ x^n dx = (1/(n+1)) * x^(n+1) (for any real number n where n ≠ -1)\n",
        "\n",
        "For the first term, we have n = 4, so applying the power rule:\n",
        "\n",
        "∫ (1/3 * x^4) dx = (1/3) * (1/5) * x^5 = (1/15) * x^5\n",
        "\n",
        "Step 4: Integrate the Second Term ∫ (-5) dx\n",
        "For the second term, we have -5, which is a constant. The integral of a constant with respect to x is simply the constant multiplied by x:\n",
        "\n",
        "∫ (-5) dx = -5x\n",
        "\n",
        "Step 5: Combine the Results\n",
        "Now that we've integrated both parts, we combine them:\n",
        "\n",
        "∫ (1/3 * x^4 - 5) dx = (1/15) * x^5 - 5x + C\n",
        "\n",
        "Where C is the constant of integration, which is added because this is an indefinite integral.\n",
        "\n",
        "Final Answer:\n",
        "The result of the integral is:\n",
        "\n",
        "(1/15) * x^5 - 5x + C\n",
        "\n"
      ],
      "metadata": {
        "id": "mw68S_k6FEpb"
      }
    },
    {
      "cell_type": "code",
      "source": [
        "import sympy as sp\n",
        "\n",
        "# Değişken tanımlamaları\n",
        "x = sp.symbols('x')\n",
        "\n",
        "# Fonksiyonu tanımla\n",
        "f = (1/3) * x**4 - 5\n",
        "\n",
        "# İntegrali hesapla\n",
        "integral_f = sp.integrate(f, x)\n",
        "\n",
        "# Sonucu yazdır\n",
        "integral_f\n"
      ],
      "metadata": {
        "colab": {
          "base_uri": "https://localhost:8080/",
          "height": 38
        },
        "id": "3CmcMrn1EGWz",
        "outputId": "3858cc28-d78d-418c-a606-f9521e3d04ca"
      },
      "execution_count": 14,
      "outputs": [
        {
          "output_type": "execute_result",
          "data": {
            "text/plain": [
              "0.0666666666666667*x**5 - 5.0*x"
            ],
            "text/latex": "$\\displaystyle 0.0666666666666667 x^{5} - 5.0 x$"
          },
          "metadata": {},
          "execution_count": 14
        }
      ]
    },
    {
      "cell_type": "markdown",
      "source": [
        "7"
      ],
      "metadata": {
        "id": "Z-8gHEKGC7ZB"
      }
    },
    {
      "cell_type": "markdown",
      "source": [
        "\n",
        "solution = \"\"\"\n",
        "Step 1: Recognize the Trigonometric Identity\n",
        "\n",
        "We know the Pythagorean identity:\n",
        "\n",
        "sin^2(x) + cos^2(x) = 1\n",
        "\n",
        "This allows us to simplify the given integral:\n",
        "\n",
        "∫ (sin^2(x) + cos^2(x)) dx = ∫ 1 dx\n",
        "\n",
        "Step 2: Integrate the Constant 1\n",
        "\n",
        "Now, we need to integrate the function 1 with respect to x. The integral of 1 with respect to x is simply:\n",
        "\n",
        "∫ 1 dx = x\n",
        "\n",
        "Step 3: Add the Constant of Integration\n",
        "\n",
        "Since this is an indefinite integral, we add the constant of integration, represented by 'C':\n",
        "\n",
        "Final Answer:\n",
        "x + C\n",
        "\n",
        "\n",
        "\"\n",
        "\n",
        "\n",
        "\n",
        "\n"
      ],
      "metadata": {
        "id": "eRRKvzcCEi3g"
      }
    },
    {
      "cell_type": "code",
      "source": [
        "import sympy as sp\n",
        "\n",
        "# Değişken tanımlamaları\n",
        "x = sp.symbols('x')\n",
        "\n",
        "# Fonksiyonu tanımla\n",
        "f = sp.sin(x)**2 + sp.cos(x)**2\n",
        "\n",
        "# İntegrali hesapla\n",
        "integral_f = sp.integrate(f, x)\n",
        "\n",
        "# Sonucu yazdır\n",
        "integral_f\n"
      ],
      "metadata": {
        "colab": {
          "base_uri": "https://localhost:8080/",
          "height": 38
        },
        "id": "2NCdluZDENly",
        "outputId": "a4220cf1-1092-44c4-865c-d37bd1b9a7b2"
      },
      "execution_count": 15,
      "outputs": [
        {
          "output_type": "execute_result",
          "data": {
            "text/plain": [
              "x"
            ],
            "text/latex": "$\\displaystyle x$"
          },
          "metadata": {},
          "execution_count": 15
        }
      ]
    },
    {
      "cell_type": "markdown",
      "source": [
        "8"
      ],
      "metadata": {
        "id": "RMYAOdfDC76X"
      }
    },
    {
      "cell_type": "markdown",
      "source": [
        "\n",
        "\n",
        "∫\n",
        "(\n",
        "5\n",
        "sin\n",
        "⁡\n",
        "𝑥\n",
        "+\n",
        "3\n",
        "𝑒\n",
        "𝑥\n",
        ")\n",
        "\n",
        "𝑑\n",
        "𝑥\n",
        "∫(5sinx+3e\n",
        "x\n",
        " )dx\n",
        "\n",
        "Step 1: Break the Integral into Two Parts\n",
        "We can break the integral into two separate integrals:\n",
        "\n",
        "∫\n",
        "(\n",
        "5\n",
        "sin\n",
        "⁡\n",
        "𝑥\n",
        "+\n",
        "3\n",
        "𝑒\n",
        "𝑥\n",
        ")\n",
        "\n",
        "𝑑\n",
        "𝑥\n",
        "=\n",
        "∫\n",
        "5\n",
        "sin\n",
        "⁡\n",
        "𝑥\n",
        "\n",
        "𝑑\n",
        "𝑥\n",
        "+\n",
        "∫\n",
        "3\n",
        "𝑒\n",
        "𝑥\n",
        "\n",
        "𝑑\n",
        "𝑥\n",
        "∫(5sinx+3e\n",
        "x\n",
        " )dx=∫5sinxdx+∫3e\n",
        "x\n",
        " dx\n",
        "Now we will solve each integral separately.\n",
        "\n",
        "Step 2: Solve the Integral of\n",
        "5\n",
        "sin\n",
        "⁡\n",
        "𝑥\n",
        "5sinx\n",
        "We know that the integral of\n",
        "sin\n",
        "⁡\n",
        "𝑥\n",
        "sinx is\n",
        "−\n",
        "cos\n",
        "⁡\n",
        "𝑥\n",
        "−cosx. So, for the first part:\n",
        "\n",
        "∫\n",
        "5\n",
        "sin\n",
        "⁡\n",
        "𝑥\n",
        "\n",
        "𝑑\n",
        "𝑥\n",
        "=\n",
        "5\n",
        "⋅\n",
        "(\n",
        "−\n",
        "cos\n",
        "⁡\n",
        "𝑥\n",
        ")\n",
        "=\n",
        "−\n",
        "5\n",
        "cos\n",
        "⁡\n",
        "𝑥\n",
        "∫5sinxdx=5⋅(−cosx)=−5cosx\n",
        "Step 3: Solve the Integral of\n",
        "3\n",
        "𝑒\n",
        "𝑥\n",
        "3e\n",
        "x\n",
        "\n",
        "Next, the integral of\n",
        "𝑒\n",
        "𝑥\n",
        "e\n",
        "x\n",
        "  is just\n",
        "𝑒\n",
        "𝑥\n",
        "e\n",
        "x\n",
        " , so:\n",
        "\n",
        "∫\n",
        "3\n",
        "𝑒\n",
        "𝑥\n",
        "\n",
        "𝑑\n",
        "𝑥\n",
        "=\n",
        "3\n",
        "⋅\n",
        "𝑒\n",
        "𝑥\n",
        "=\n",
        "3\n",
        "𝑒\n",
        "𝑥\n",
        "∫3e\n",
        "x\n",
        " dx=3⋅e\n",
        "x\n",
        " =3e\n",
        "x\n",
        "\n",
        "Step 4: Combine the Results\n",
        "Now, we combine both parts:\n",
        "\n",
        "∫\n",
        "(\n",
        "5\n",
        "sin\n",
        "⁡\n",
        "𝑥\n",
        "+\n",
        "3\n",
        "𝑒\n",
        "𝑥\n",
        ")\n",
        "\n",
        "𝑑\n",
        "𝑥\n",
        "=\n",
        "−\n",
        "5\n",
        "cos\n",
        "⁡\n",
        "𝑥\n",
        "+\n",
        "3\n",
        "𝑒\n",
        "𝑥\n",
        "+\n",
        "𝐶\n",
        "∫(5sinx+3e\n",
        "x\n",
        " )dx=−5cosx+3e\n",
        "x\n",
        " +C\n",
        "Where\n",
        "𝐶\n",
        "C is the constant of integration.\n",
        "\n",
        "Final Answer\n",
        "Thus, the result of the integral is:\n",
        "\n",
        "∫\n",
        "(\n",
        "5\n",
        "sin\n",
        "⁡\n",
        "𝑥\n",
        "+\n",
        "3\n",
        "𝑒\n",
        "𝑥\n",
        ")\n",
        "\n",
        "𝑑\n",
        "𝑥\n",
        "=\n",
        "−\n",
        "5\n",
        "cos\n",
        "⁡\n",
        "𝑥\n",
        "+\n",
        "3\n",
        "𝑒\n",
        "𝑥\n",
        "+\n",
        "𝐶\n",
        "∫(5sinx+3e\n",
        "x\n",
        " )dx=−5cosx+3e\n",
        "x\n",
        " +C"
      ],
      "metadata": {
        "id": "MF1awcVEHyN5"
      }
    },
    {
      "cell_type": "code",
      "source": [
        "import sympy as sp\n",
        "\n",
        "# Define the variable\n",
        "x = sp.symbols('x')\n",
        "\n",
        "# Define the function\n",
        "f = 5 * sp.sin(x) + 3 * sp.exp(x)\n",
        "\n",
        "# Compute the integral\n",
        "integral = sp.integrate(f, x)\n",
        "\n",
        "# Display the result\n",
        "integral\n"
      ],
      "metadata": {
        "colab": {
          "base_uri": "https://localhost:8080/",
          "height": 38
        },
        "id": "7hNALau7HfQb",
        "outputId": "c2f4ed94-6766-45aa-9611-7ee58afe3f07"
      },
      "execution_count": 16,
      "outputs": [
        {
          "output_type": "execute_result",
          "data": {
            "text/plain": [
              "3*exp(x) - 5*cos(x)"
            ],
            "text/latex": "$\\displaystyle 3 e^{x} - 5 \\cos{\\left(x \\right)}$"
          },
          "metadata": {},
          "execution_count": 16
        }
      ]
    },
    {
      "cell_type": "markdown",
      "source": [
        "9"
      ],
      "metadata": {
        "id": "UwDN6ZUQC8Oa"
      }
    },
    {
      "cell_type": "markdown",
      "source": [
        "Given Expression:\n",
        "∫\n",
        "𝑥\n",
        "3\n",
        "\n",
        "𝑑\n",
        "𝑥\n",
        "∫\n",
        "3\n",
        "  \n",
        "x\n",
        "​\n",
        " dx\n",
        "Solution:\n",
        "Rewrite the cube root as a fractional exponent:\n",
        "\n",
        "𝑥\n",
        "3\n",
        "=\n",
        "𝑥\n",
        "1\n",
        "/\n",
        "3\n",
        "3\n",
        "  \n",
        "x\n",
        "​\n",
        " =x\n",
        "1/3\n",
        "\n",
        "Apply the power rule for integration:\n",
        "\n",
        "∫\n",
        "𝑥\n",
        "𝑛\n",
        "\n",
        "𝑑\n",
        "𝑥\n",
        "=\n",
        "𝑥\n",
        "𝑛\n",
        "+\n",
        "1\n",
        "𝑛\n",
        "+\n",
        "1\n",
        "+\n",
        "𝐶\n",
        "(if\n",
        "𝑛\n",
        "≠\n",
        "−\n",
        "1\n",
        ")\n",
        "∫x\n",
        "n\n",
        " dx=\n",
        "n+1\n",
        "x\n",
        "n+1\n",
        "\n",
        "​\n",
        " +C(if n\n",
        "\n",
        "=−1)\n",
        "\n",
        "For\n",
        "𝑛\n",
        "=\n",
        "1\n",
        "3\n",
        "n=\n",
        "3\n",
        "1\n",
        "​\n",
        " :\n",
        "\n",
        "∫\n",
        "𝑥\n",
        "1\n",
        "/\n",
        "3\n",
        "\n",
        "𝑑\n",
        "𝑥\n",
        "=\n",
        "𝑥\n",
        "1\n",
        "/\n",
        "3\n",
        "+\n",
        "1\n",
        "1\n",
        "/\n",
        "3\n",
        "+\n",
        "1\n",
        "+\n",
        "𝐶\n",
        "∫x\n",
        "1/3\n",
        " dx=\n",
        "1/3+1\n",
        "x\n",
        "1/3+1\n",
        "\n",
        "​\n",
        " +C\n",
        "\n",
        "Simplify the exponent:\n",
        "\n",
        "1\n",
        "/\n",
        "3\n",
        "+\n",
        "1\n",
        "=\n",
        "4\n",
        "/\n",
        "3\n",
        "1/3+1=4/3\n",
        "\n",
        "Simplify the fraction by flipping the denominator:\n",
        "\n",
        "𝑥\n",
        "4\n",
        "/\n",
        "3\n",
        "4\n",
        "/\n",
        "3\n",
        "=\n",
        "3\n",
        "4\n",
        "𝑥\n",
        "4\n",
        "/\n",
        "3\n",
        "4/3\n",
        "x\n",
        "4/3\n",
        "\n",
        "​\n",
        " =\n",
        "4\n",
        "3\n",
        "​\n",
        " x\n",
        "4/3\n",
        "\n",
        "Final Result:\n",
        "\n",
        "∫\n",
        "𝑥\n",
        "3\n",
        "\n",
        "𝑑\n",
        "𝑥\n",
        "=\n",
        "3\n",
        "4\n",
        "𝑥\n",
        "4\n",
        "/\n",
        "3\n",
        "+\n",
        "𝐶\n",
        "∫\n",
        "3\n",
        "  \n",
        "x\n",
        "​\n",
        " dx=\n",
        "4\n",
        "3\n",
        "​\n",
        " x\n",
        "4/3\n",
        " +C\n",
        "\n",
        "Final Answer:\n",
        "3\n",
        "4\n",
        "𝑥\n",
        "4\n",
        "/\n",
        "3\n",
        "+\n",
        "𝐶\n",
        "4\n",
        "3\n",
        "​\n",
        " x\n",
        "4/3\n",
        " +C"
      ],
      "metadata": {
        "id": "Wy9aa2DhItk2"
      }
    },
    {
      "cell_type": "code",
      "source": [
        "from sympy import symbols, integrate, root\n",
        "\n",
        "# Define the variable\n",
        "x = symbols('x')\n",
        "\n",
        "# Integral of the cube root of x\n",
        "expr = root(x, 3)\n",
        "\n",
        "# Compute the integral\n",
        "result = integrate(expr, x)\n",
        "\n",
        "print(\"Result:\", result)\n"
      ],
      "metadata": {
        "id": "8tOoPPzjIsWs",
        "outputId": "0c89e667-38ea-4b73-95c6-562d35ee78ef",
        "colab": {
          "base_uri": "https://localhost:8080/"
        }
      },
      "execution_count": 18,
      "outputs": [
        {
          "output_type": "stream",
          "name": "stdout",
          "text": [
            "Result: 3*x**(4/3)/4\n"
          ]
        }
      ]
    },
    {
      "cell_type": "markdown",
      "source": [
        "10\n"
      ],
      "metadata": {
        "id": "M6sHMVryI9Ln"
      }
    }
  ]
}