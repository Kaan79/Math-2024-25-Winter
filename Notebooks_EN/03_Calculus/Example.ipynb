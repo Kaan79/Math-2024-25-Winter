{
  "nbformat": 4,
  "nbformat_minor": 0,
  "metadata": {
    "colab": {
      "provenance": []
    },
    "kernelspec": {
      "name": "python3",
      "display_name": "Python 3"
    },
    "language_info": {
      "name": "python"
    }
  },
  "cells": [
    {
      "cell_type": "markdown",
      "source": [
        "# Derivative Formulas\n",
        "\n",
        "## Basic Derivatives\n",
        "\n",
        "1. **Power Rule**:  \n",
        "   If \\( y = x^n \\), then the derivative is:  \n",
        "   $$ \\frac{d}{dx}(x^n) = n x^{n-1} $$\n",
        "\n",
        "2. **Sum and Difference Rule**:  \n",
        "   If \\( y = f(x) + g(x) \\), then the derivative is:  \n",
        "   $$ \\frac{d}{dx}[f(x) + g(x)] = \\frac{d}{dx}[f(x)] + \\frac{d}{dx}[g(x)] $$\n",
        "\n",
        "   Similarly, for difference:  \n",
        "   $$ \\frac{d}{dx}[f(x) - g(x)] = \\frac{d}{dx}[f(x)] - \\frac{d}{dx}[g(x)] $$\n",
        "\n",
        "3. **Constant Rule**:  \n",
        "   If \\( y = c \\) (where \\( c \\) is a constant), then:  \n",
        "   $$ \\frac{d}{dx}(c) = 0 $$\n",
        "\n",
        "## Common Derivatives\n",
        "\n",
        "1. **Derivative of \\( e^x \\)**:  \n",
        "   $$ \\frac{d}{dx}(e^x) = e^x $$\n",
        "\n",
        "2. **Derivative of \\( \\sin(x) \\)**:  \n",
        "   $$ \\frac{d}{dx}(\\sin(x)) = \\cos(x) $$\n",
        "\n",
        "3. **Derivative of \\( \\cos(x) \\)**:  \n",
        "   $$ \\frac{d}{dx}(\\cos(x)) = -\\sin(x) $$\n",
        "\n",
        "4. **Derivative of \\( \\tan(x) \\)**:  \n",
        "   $$ \\frac{d}{dx}(\\tan(x)) = \\sec^2(x) $$\n",
        "\n",
        "5. **Derivative of \\( \\ln(x) \\)**:  \n",
        "   $$ \\frac{d}{dx}(\\ln(x)) = \\frac{1}{x} $$\n",
        "\n",
        "## Product and Quotient Rules\n",
        "\n",
        "1. **Product Rule**:  \n",
        "   If \\( y = f(x)g(x) \\), then:  \n",
        "   $$ \\frac{d}{dx}[f(x)g(x)] = f'(x)g(x) + f(x)g'(x) $$\n",
        "\n",
        "2. **Quotient Rule**:  \n",
        "   If \\( y = \\frac{f(x)}{g(x)} \\), then:  \n",
        "   $$ \\frac{d}{dx}\\left(\\frac{f(x)}{g(x)}\\right) = \\frac{f'(x)g(x) - f(x)g'(x)}{(g(x))^2} $$\n",
        "\n",
        "## Chain Rule\n",
        "\n",
        "1. **Chain Rule**:  \n",
        "   If \\( y = f(g(x)) \\), then:  \n",
        "   $$ \\frac{d}{dx}[f(g(x))] = f'(g(x)) \\cdot g'(x) $$\n",
        "\n",
        "## Special Derivatives\n",
        "\n",
        "1. **Derivative of \\( \\sqrt{x} \\)**:  \n",
        "   $$ \\frac{d}{dx}(\\sqrt{x}) = \\frac{1}{2\\sqrt{x}} $$\n",
        "\n",
        "2. **Derivative of \\( x^n \\) (for non-integer \\( n \\))**:  \n",
        "   $$ \\frac{d}{dx}(x^n) = n x^{n-1} $$\n",
        "\n",
        "## Example: Derivative of \\( y(x) = -3x + 3 \\)\n",
        "\n",
        "For the function \\( y(x) = -3x + 3 \\), using the power rule, the derivative is:  \n",
        "$$ \\frac{d}{dx}(-3x + 3) = -3 $$\n",
        "\n",
        "This is because the derivative of \\( -3x \\) is \\( -3 \\) and the derivative of the constant \\( 3 \\) is \\( 0 \\).\n",
        "\n",
        "---\n",
        "\n",
        "These formulas will help you to solve most derivative problems, including those involving polynomials, trigonometric functions, and composite functions.\n"
      ],
      "metadata": {
        "id": "lNAvbv8YYfcY"
      }
    },
    {
      "cell_type": "markdown",
      "source": [
        "Exercise 1"
      ],
      "metadata": {
        "id": "WjXaWv5MYE0q"
      }
    },
    {
      "cell_type": "code",
      "source": [
        "import sympy as sp\n",
        "\n",
        "# Define the variable\n",
        "x = sp.symbols('x')\n",
        "\n",
        "# Define the function y(x) = -3x + 3\n",
        "y = -3*x + 3\n",
        "\n",
        "# Compute the derivative of y with respect to x\n",
        "derivative = sp.diff(y, x)\n",
        "\n",
        "# Display the result\n",
        "print(\"The derivative of y(x) = -3x + 3 is:\", derivative)\n"
      ],
      "metadata": {
        "id": "R-CKVzU9YDpU",
        "outputId": "cc3c59e3-e337-42cb-962b-a7ac98603c01",
        "colab": {
          "base_uri": "https://localhost:8080/"
        }
      },
      "execution_count": 1,
      "outputs": [
        {
          "output_type": "stream",
          "name": "stdout",
          "text": [
            "The derivative of y(x) = -3x + 3 is: -3\n"
          ]
        }
      ]
    },
    {
      "cell_type": "code",
      "source": [
        "import sympy as sp\n",
        "\n",
        "# Define the variable\n",
        "x = sp.symbols('x')\n",
        "\n",
        "# Define the function y(x) = πx + sin(1)\n",
        "y = sp.pi * x + sp.sin(1)\n",
        "\n",
        "# Compute the derivative of y with respect to x\n",
        "derivative = sp.diff(y, x)\n",
        "\n",
        "# Display the result\n",
        "print(\"The derivative of y(x) = πx + sin(1) is:\", derivative)\n"
      ],
      "metadata": {
        "id": "aLmauIjIYmfZ",
        "outputId": "1e5a7e26-06a3-4652-88b9-da4bb295bd88",
        "colab": {
          "base_uri": "https://localhost:8080/"
        }
      },
      "execution_count": 2,
      "outputs": [
        {
          "output_type": "stream",
          "name": "stdout",
          "text": [
            "The derivative of y(x) = πx + sin(1) is: pi\n"
          ]
        }
      ]
    },
    {
      "cell_type": "code",
      "source": [
        "import sympy as sp\n",
        "\n",
        "# Define the variable\n",
        "x = sp.symbols('x')\n",
        "\n",
        "# Define the function y(x) = 4 + sin(2)\n",
        "y = 4 + sp.sin(2)\n",
        "\n",
        "# Compute the derivative of y with respect to x\n",
        "derivative = sp.diff(y, x)\n",
        "\n",
        "# Display the result\n",
        "print(\"The derivative of y(x) = 4 + sin(2) is:\", derivative)\n"
      ],
      "metadata": {
        "id": "Vf3adNTMoCf9",
        "outputId": "90858443-3ec4-442f-aaea-8da0c622acda",
        "colab": {
          "base_uri": "https://localhost:8080/"
        }
      },
      "execution_count": 3,
      "outputs": [
        {
          "output_type": "stream",
          "name": "stdout",
          "text": [
            "The derivative of y(x) = 4 + sin(2) is: 0\n"
          ]
        }
      ]
    },
    {
      "cell_type": "code",
      "source": [
        "import sympy as sp\n",
        "\n",
        "# Define the variable\n",
        "x = sp.symbols('x')\n",
        "\n",
        "# Define the function y(x) = 2x^3 - 3x^2 + 8x - 9\n",
        "y = 2*x**3 - 3*x**2 + 8*x - 9\n",
        "\n",
        "# Compute the derivative of y with respect to x\n",
        "derivative = sp.diff(y, x)\n",
        "\n",
        "# Display the result\n",
        "print(\"The derivative of y(x) = 2x^3 - 3x^2 + 8x - 9 is:\", derivative)\n"
      ],
      "metadata": {
        "id": "wzF0nktMoLaI",
        "outputId": "2f26cfe2-c6ef-4259-f6bf-122953747bf7",
        "colab": {
          "base_uri": "https://localhost:8080/"
        }
      },
      "execution_count": 4,
      "outputs": [
        {
          "output_type": "stream",
          "name": "stdout",
          "text": [
            "The derivative of y(x) = 2x^3 - 3x^2 + 8x - 9 is: 6*x**2 - 6*x + 8\n"
          ]
        }
      ]
    }
  ]
}