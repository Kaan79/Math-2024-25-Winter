{
  "nbformat": 4,
  "nbformat_minor": 0,
  "metadata": {
    "colab": {
      "provenance": []
    },
    "kernelspec": {
      "name": "python3",
      "display_name": "Python 3"
    },
    "language_info": {
      "name": "python"
    }
  },
  "cells": [
    {
      "cell_type": "markdown",
      "source": [
        "# Useful Integral Formulas\n",
        "\n",
        "## 1. Power Rule for Integration\n",
        "For any real number \\( n \\neq -1 \\):\n",
        "$$ \\int x^n \\, dx = \\frac{x^{n+1}}{n+1} + C $$\n",
        "\n",
        "## 2. Integral of Exponential Functions\n",
        "For the exponential function \\( e^x \\):\n",
        "$$ \\int e^x \\, dx = e^x + C $$\n",
        "\n",
        "## 3. Definite Integral\n",
        "For a function \\( f(x) \\), the definite integral from \\( a \\) to \\( b \\) is:\n",
        "$$ \\int_a^b f(x) \\, dx = F(b) - F(a) $$\n",
        "\n",
        "## 4. Integration by Parts\n",
        "For functions \\( u(x) \\) and \\( v(x) \\), the formula is:\n",
        "$$ \\int u \\, dv = uv - \\int v \\, du $$\n",
        "\n",
        "## 5. Integral of Trigonometric Functions\n",
        "- Integral of sine:\n",
        "  $$ \\int \\sin(x) \\, dx = -\\cos(x) + C $$\n",
        "\n",
        "- Integral of cosine:\n",
        "  $$ \\int \\cos(x) \\, dx = \\sin(x) + C $$\n",
        "\n",
        "## 6. Integral of Secant Squared\n",
        "For the secant squared function:\n",
        "$$ \\int \\sec^2(x) \\, dx = \\tan(x) + C $$\n",
        "\n",
        "## 7. Integral of Cosecant Squared\n",
        "For the cosecant squared function:\n",
        "$$ \\int \\csc^2(x) \\, dx = -\\cot(x) + C $$\n",
        "\n",
        "## 8. Integral of Tangent\n",
        "For the tangent function:\n",
        "$$ \\int \\tan(x) \\, dx = \\ln|\\sec(x)| + C $$\n",
        "\n",
        "## 9. Integral of Cotangent\n",
        "For the cotangent function:\n",
        "$$ \\int \\cot(x) \\, dx = \\ln|\\sin(x)| + C $$\n",
        "\n",
        "## 10. Integral of Exponential Decay\n",
        "For an exponential decay function \\( e^{-ax} \\), where \\( a > 0 \\):\n",
        "$$ \\int e^{-ax} \\, dx = \\frac{e^{-ax}}{-a} + C $$\n",
        "\n",
        "## 11. Integral of Rational Functions\n",
        "For a rational function of the form \\( \\int \\frac{1}{x} \\, dx \\):\n",
        "$$ \\int \\frac{1}{x} \\, dx = \\ln|x| + C $$\n",
        "\n",
        "\n"
      ],
      "metadata": {
        "id": "e0PFn9GGAjEc"
      }
    },
    {
      "cell_type": "markdown",
      "source": [
        "Exercises"
      ],
      "metadata": {
        "id": "HorEpFPAA71w"
      }
    },
    {
      "cell_type": "markdown",
      "source": [
        "1\n"
      ],
      "metadata": {
        "id": "nQNjAyLdBdwm"
      }
    },
    {
      "cell_type": "markdown",
      "source": [
        "\n",
        "Step 1: Recognize the Standard Integral Formula\n",
        "The function we need to integrate is 1/x. This is a very common integral in calculus, and it has a well-known result.\n",
        "The standard formula for the integral of 1/x with respect to x is:\n",
        "\n",
        "∫ (1/x) dx = ln|x|\n",
        "\n",
        "Where:\n",
        "- ln|x| represents the natural logarithm of the absolute value of x,\n",
        "- The absolute value |x| is used because the logarithm is only defined for positive real numbers,\n",
        "  and ln|x| ensures that the function is valid for both positive and negative values of x, excluding x = 0.\n",
        "\n",
        "Step 2: Apply the Integral Formula\n",
        "Now that we know the standard formula for the integral of 1/x, we can directly apply it:\n",
        "\n",
        "∫ (1/x) dx = ln|x|\n",
        "\n",
        "This is the solution to the indefinite integral of 1/x.\n",
        "\n",
        "Step 3: Understanding the Natural Logarithm\n",
        "The natural logarithm, denoted as ln(x), is the inverse operation of exponentiation with base e (approximately 2.71828).\n",
        "The absolute value |x| ensures that we can take the logarithm for both positive and negative values of x (excluding x = 0).\n",
        "\n",
        "For example:\n",
        "- If x > 0, then ln|x| = ln(x),\n",
        "- If x < 0, then ln|x| = ln(-x).\n",
        "\n",
        "This absolute value is necessary because the logarithmic function is only defined for positive values of its argument.\n",
        "\n",
        "Final Answer:\n",
        "Thus, the result of the integral is:\n",
        "\n",
        "∫ (1/x) dx = ln|x|\n"
      ],
      "metadata": {
        "id": "puFpgXpsGxZe"
      }
    },
    {
      "cell_type": "code",
      "source": [
        "import sympy as sp\n",
        "\n",
        "# Define the variable\n",
        "x = sp.symbols('x')\n",
        "\n",
        "# Define the function\n",
        "f = 1/x\n",
        "\n",
        "# Compute the integral\n",
        "integral = sp.integrate(f, x)\n",
        "\n",
        "# Display the result\n",
        "integral\n"
      ],
      "metadata": {
        "colab": {
          "base_uri": "https://localhost:8080/",
          "height": 38
        },
        "id": "cuRMuDUzA7A8",
        "outputId": "b6202652-bfa5-4e98-965b-510236617940"
      },
      "execution_count": null,
      "outputs": [
        {
          "output_type": "execute_result",
          "data": {
            "text/plain": [
              "log(x)"
            ],
            "text/latex": "$\\displaystyle \\log{\\left(x \\right)}$"
          },
          "metadata": {},
          "execution_count": 5
        }
      ]
    },
    {
      "cell_type": "markdown",
      "source": [
        "2"
      ],
      "metadata": {
        "id": "ofzo-xBLByh-"
      }
    },
    {
      "cell_type": "markdown",
      "source": [
        "\n",
        "\n",
        "f(x) = x^2 + 2\n",
        "\n",
        "We need to integrate this function with respect to x.\n",
        "\n",
        "Step 2: Break the Integral into Two Parts\n",
        "We can break the given integral into two parts for easier calculation:\n",
        "\n",
        "∫ (x^2 + 2) dx = ∫ (x^2) dx + ∫ (2) dx\n",
        "\n",
        "Now, we will calculate each part separately.\n",
        "\n",
        "Step 3: Integrate the First Term ∫ (x^2) dx\n",
        "To integrate x^2, we use the power rule for integration, which states:\n",
        "\n",
        "∫ x^n dx = (1/(n+1)) * x^(n+1) (for any real number n ≠ -1)\n",
        "\n",
        "For the first term, we have n = 2. Applying the power rule:\n",
        "\n",
        "∫ x^2 dx = (1/(2+1)) * x^(2+1) = (1/3) * x^3\n",
        "\n",
        "Step 4: Integrate the Second Term ∫ (2) dx\n",
        "For the second term, we have 2, which is a constant. The integral of a constant with respect to x is simply the constant multiplied by x:\n",
        "\n",
        "∫ 2 dx = 2x\n",
        "\n",
        "Step 5: Combine the Results\n",
        "Now that we've integrated both parts, we combine them:\n",
        "\n",
        "∫ (x^2 + 2) dx = (1/3) * x^3 + 2x\n",
        "\n",
        "\n",
        "\n",
        "Final Answer:\n",
        "The result of the integral is:\n",
        "\n",
        "(1/3) * x^3 + 2x\n",
        "\n"
      ],
      "metadata": {
        "id": "YJJsUp58F8TZ"
      }
    },
    {
      "cell_type": "code",
      "source": [
        "import sympy as sp\n",
        "\n",
        "# Değişkeni tanımla\n",
        "x = sp.symbols('x')\n",
        "\n",
        "# Fonksiyonu tanımla\n",
        "f = x**2 + 2\n",
        "\n",
        "# İntegrali hesapla\n",
        "integral = sp.integrate(f, x)\n",
        "\n",
        "# Sonucu yazdır\n",
        "integral\n"
      ],
      "metadata": {
        "colab": {
          "base_uri": "https://localhost:8080/",
          "height": 54
        },
        "id": "5UVL1f6LBzm4",
        "outputId": "820e9c48-5e17-400e-ca85-7e245cc6a63f"
      },
      "execution_count": null,
      "outputs": [
        {
          "output_type": "execute_result",
          "data": {
            "text/plain": [
              "x**3/3 + 2*x"
            ],
            "text/latex": "$\\displaystyle \\frac{x^{3}}{3} + 2 x$"
          },
          "metadata": {},
          "execution_count": 7
        }
      ]
    },
    {
      "cell_type": "markdown",
      "source": [
        "3\n"
      ],
      "metadata": {
        "id": "217Pc3ChCR-H"
      }
    },
    {
      "cell_type": "markdown",
      "source": [
        "\n",
        "\n",
        "f(x) = 2 * sin(x)\n",
        "\n",
        "We need to integrate this function with respect to x.\n",
        "\n",
        "Step 2: Use the Standard Integral for sin(x)\n",
        "We know that the integral of sin(x) is:\n",
        "\n",
        "∫ sin(x) dx = -cos(x)\n",
        "\n",
        "So, applying this to our function:\n",
        "\n",
        "∫ 2 * sin(x) dx = 2 * ∫ sin(x) dx\n",
        "                 = 2 * (-cos(x))\n",
        "                 = -2 * cos(x)\n",
        "\n",
        "\n",
        "Final Answer:\n",
        "The result of the integral is:\n",
        "\n",
        "-2 * cos(x)\n",
        "\n",
        "\n",
        "\n"
      ],
      "metadata": {
        "id": "nf1vHL5IFqnz"
      }
    },
    {
      "cell_type": "code",
      "source": [
        "import sympy as sp\n",
        "\n",
        "# Değişkeni tanımla\n",
        "x = sp.symbols('x')\n",
        "\n",
        "# Fonksiyonu tanımla\n",
        "f = 2 * sp.sin(x)\n",
        "\n",
        "# İntegrali hesapla\n",
        "integral = sp.integrate(f, x)\n",
        "\n",
        "# Sonucu yazdır\n",
        "integral\n"
      ],
      "metadata": {
        "colab": {
          "base_uri": "https://localhost:8080/",
          "height": 38
        },
        "id": "XNzrnztjCS2s",
        "outputId": "560fab28-5c1c-48f4-9047-f9ef47798920"
      },
      "execution_count": null,
      "outputs": [
        {
          "output_type": "execute_result",
          "data": {
            "text/plain": [
              "-2*cos(x)"
            ],
            "text/latex": "$\\displaystyle - 2 \\cos{\\left(x \\right)}$"
          },
          "metadata": {},
          "execution_count": 8
        }
      ]
    },
    {
      "cell_type": "markdown",
      "source": [
        "4"
      ],
      "metadata": {
        "id": "cZ7-CIYzCjK0"
      }
    },
    {
      "cell_type": "markdown",
      "source": [
        "\n",
        "\n",
        "f(x) = 3x\n",
        "\n",
        "We need to integrate this function with respect to x.\n",
        "\n",
        "Step 2: Apply the Power Rule for Integration\n",
        "To integrate 3x, we use the power rule for integration, which states:\n",
        "\n",
        "∫ x^n dx = (1/(n+1)) * x^(n+1) (for any real number n ≠ -1)\n",
        "\n",
        "For the given function, we have f(x) = 3x = 3 * x^1. Applying the power rule:\n",
        "\n",
        "∫ 3x dx = 3 * ∫ x^1 dx\n",
        "          = 3 * (1/(1+1)) * x^(1+1)\n",
        "          = 3 * (1/2) * x^2\n",
        "          = (3/2) * x^2\n",
        "\n",
        "Step 3: Add the Constant of Integration\n",
        "Since this is an indefinite integral, we must add the constant of integration, C:\n",
        "\n",
        "Final Answer:\n",
        "The result of the integral is:\n",
        "\n",
        "(3/2) * x^2 + C\n"
      ],
      "metadata": {
        "id": "EkO0CncfFeci"
      }
    },
    {
      "cell_type": "code",
      "source": [
        "import sympy as sp\n",
        "\n",
        "# Değişkeni tanımla\n",
        "x = sp.symbols('x')\n",
        "\n",
        "# Fonksiyonu tanımla\n",
        "f = 3 * x\n",
        "\n",
        "# İntegrali hesapla\n",
        "integral = sp.integrate(f, x)\n",
        "\n",
        "# Sonucu yazdır\n",
        "integral\n"
      ],
      "metadata": {
        "colab": {
          "base_uri": "https://localhost:8080/",
          "height": 54
        },
        "id": "D8Qt0sulCjtX",
        "outputId": "9aa9b737-562e-4fb9-9a65-7475516cd48f"
      },
      "execution_count": null,
      "outputs": [
        {
          "output_type": "execute_result",
          "data": {
            "text/plain": [
              "3*x**2/2"
            ],
            "text/latex": "$\\displaystyle \\frac{3 x^{2}}{2}$"
          },
          "metadata": {},
          "execution_count": 9
        }
      ]
    },
    {
      "cell_type": "markdown",
      "source": [
        "5"
      ],
      "metadata": {
        "id": "-O8_2mmBCw8V"
      }
    },
    {
      "cell_type": "markdown",
      "source": [
        "\n",
        "\n",
        "f(x) = 1/x^2\n",
        "\n",
        "We need to integrate this function with respect to x.\n",
        "\n",
        "Step 2: Rewrite the Function\n",
        "We can rewrite the function 1/x^2 as x^-2:\n",
        "\n",
        "f(x) = x^-2\n",
        "\n",
        "This makes it easier to apply the power rule for integration.\n",
        "\n",
        "Step 3: Apply the Power Rule for Integration\n",
        "To integrate x^-2, we use the power rule for integration, which states:\n",
        "\n",
        "∫ x^n dx = (1/(n+1)) * x^(n+1) (for any real number n ≠ -1)\n",
        "\n",
        "For the given function, n = -2. Applying the power rule:\n",
        "\n",
        "∫ x^-2 dx = (1/(-2+1)) * x^(-2+1) = (1/-1) * x^-1 = -1/x\n",
        "\n",
        "Step 4: Add the Constant of Integration\n",
        "Since this is an indefinite integral, we must add the constant of integration, C:\n",
        "\n",
        "Final Answer:\n",
        "The result of the integral is:\n",
        "\n",
        "-1/x + C\n",
        "\n"
      ],
      "metadata": {
        "id": "_9Rs132YFT65"
      }
    },
    {
      "cell_type": "code",
      "source": [
        "import sympy as sp\n",
        "\n",
        "# Değişkeni tanımla\n",
        "x = sp.symbols('x')\n",
        "\n",
        "# Fonksiyonu tanımla\n",
        "f = 1/x**2\n",
        "\n",
        "# İntegrali hesapla\n",
        "integral = sp.integrate(f, x)\n",
        "\n",
        "# Sonucu yazdır\n",
        "integral\n"
      ],
      "metadata": {
        "colab": {
          "base_uri": "https://localhost:8080/",
          "height": 51
        },
        "id": "sjIYbCoPCyMH",
        "outputId": "94bca128-d32d-4d02-a30b-95af2c30e4e4"
      },
      "execution_count": null,
      "outputs": [
        {
          "output_type": "execute_result",
          "data": {
            "text/plain": [
              "-1/x"
            ],
            "text/latex": "$\\displaystyle - \\frac{1}{x}$"
          },
          "metadata": {},
          "execution_count": 10
        }
      ]
    },
    {
      "cell_type": "markdown",
      "source": [
        "6\n"
      ],
      "metadata": {
        "id": "7Ufq3YUdC6hP"
      }
    },
    {
      "cell_type": "markdown",
      "source": [
        "\n",
        "Step 1: Define the Given Function\n",
        "The given function to integrate is:\n",
        "\n",
        "f(x) = (1/3) * x^4 - 5\n",
        "\n",
        "We need to integrate this function with respect to x.\n",
        "\n",
        "Step 2: Break the Integral into Two Parts\n",
        "We can break the given integral into two parts for easier calculation:\n",
        "\n",
        "∫ (1/3 * x^4 - 5) dx = ∫ (1/3 * x^4) dx - ∫ (5) dx\n",
        "\n",
        "Now, we will calculate each part separately.\n",
        "\n",
        "Step 3: Integrate the First Term ∫ (1/3 * x^4) dx\n",
        "To integrate the term (1/3 * x^4), we use the power rule for integration, which states:\n",
        "\n",
        "∫ x^n dx = (1/(n+1)) * x^(n+1) (for any real number n where n ≠ -1)\n",
        "\n",
        "For the first term, we have n = 4, so applying the power rule:\n",
        "\n",
        "∫ (1/3 * x^4) dx = (1/3) * (1/5) * x^5 = (1/15) * x^5\n",
        "\n",
        "Step 4: Integrate the Second Term ∫ (-5) dx\n",
        "For the second term, we have -5, which is a constant. The integral of a constant with respect to x is simply the constant multiplied by x:\n",
        "\n",
        "∫ (-5) dx = -5x\n",
        "\n",
        "Step 5: Combine the Results\n",
        "Now that we've integrated both parts, we combine them:\n",
        "\n",
        "∫ (1/3 * x^4 - 5) dx = (1/15) * x^5 - 5x + C\n",
        "\n",
        "Where C is the constant of integration, which is added because this is an indefinite integral.\n",
        "\n",
        "Final Answer:\n",
        "The result of the integral is:\n",
        "\n",
        "(1/15) * x^5 - 5x + C\n",
        "\n"
      ],
      "metadata": {
        "id": "mw68S_k6FEpb"
      }
    },
    {
      "cell_type": "code",
      "source": [
        "import sympy as sp\n",
        "\n",
        "# Değişken tanımlamaları\n",
        "x = sp.symbols('x')\n",
        "\n",
        "# Fonksiyonu tanımla\n",
        "f = (1/3) * x**4 - 5\n",
        "\n",
        "# İntegrali hesapla\n",
        "integral_f = sp.integrate(f, x)\n",
        "\n",
        "# Sonucu yazdır\n",
        "integral_f\n"
      ],
      "metadata": {
        "colab": {
          "base_uri": "https://localhost:8080/",
          "height": 38
        },
        "id": "3CmcMrn1EGWz",
        "outputId": "3858cc28-d78d-418c-a606-f9521e3d04ca"
      },
      "execution_count": null,
      "outputs": [
        {
          "output_type": "execute_result",
          "data": {
            "text/plain": [
              "0.0666666666666667*x**5 - 5.0*x"
            ],
            "text/latex": "$\\displaystyle 0.0666666666666667 x^{5} - 5.0 x$"
          },
          "metadata": {},
          "execution_count": 14
        }
      ]
    },
    {
      "cell_type": "markdown",
      "source": [
        "7"
      ],
      "metadata": {
        "id": "Z-8gHEKGC7ZB"
      }
    },
    {
      "cell_type": "markdown",
      "source": [
        "\n",
        "solution = \"\"\"\n",
        "Step 1: Recognize the Trigonometric Identity\n",
        "\n",
        "We know the Pythagorean identity:\n",
        "\n",
        "sin^2(x) + cos^2(x) = 1\n",
        "\n",
        "This allows us to simplify the given integral:\n",
        "\n",
        "∫ (sin^2(x) + cos^2(x)) dx = ∫ 1 dx\n",
        "\n",
        "Step 2: Integrate the Constant 1\n",
        "\n",
        "Now, we need to integrate the function 1 with respect to x. The integral of 1 with respect to x is simply:\n",
        "\n",
        "∫ 1 dx = x\n",
        "\n",
        "Step 3: Add the Constant of Integration\n",
        "\n",
        "Since this is an indefinite integral, we add the constant of integration, represented by 'C':\n",
        "\n",
        "Final Answer:\n",
        "x + C\n",
        "\n",
        "\n",
        "\"\n",
        "\n",
        "\n",
        "\n",
        "\n"
      ],
      "metadata": {
        "id": "eRRKvzcCEi3g"
      }
    },
    {
      "cell_type": "code",
      "source": [
        "import sympy as sp\n",
        "\n",
        "# Değişken tanımlamaları\n",
        "x = sp.symbols('x')\n",
        "\n",
        "# Fonksiyonu tanımla\n",
        "f = sp.sin(x)**2 + sp.cos(x)**2\n",
        "\n",
        "# İntegrali hesapla\n",
        "integral_f = sp.integrate(f, x)\n",
        "\n",
        "# Sonucu yazdır\n",
        "integral_f\n"
      ],
      "metadata": {
        "colab": {
          "base_uri": "https://localhost:8080/",
          "height": 38
        },
        "id": "2NCdluZDENly",
        "outputId": "a4220cf1-1092-44c4-865c-d37bd1b9a7b2"
      },
      "execution_count": null,
      "outputs": [
        {
          "output_type": "execute_result",
          "data": {
            "text/plain": [
              "x"
            ],
            "text/latex": "$\\displaystyle x$"
          },
          "metadata": {},
          "execution_count": 15
        }
      ]
    },
    {
      "cell_type": "markdown",
      "source": [
        "8"
      ],
      "metadata": {
        "id": "RMYAOdfDC76X"
      }
    },
    {
      "cell_type": "markdown",
      "source": [
        "\n",
        "\n",
        "∫\n",
        "(\n",
        "5\n",
        "sin\n",
        "⁡\n",
        "𝑥\n",
        "+\n",
        "3\n",
        "𝑒\n",
        "𝑥\n",
        ")\n",
        "\n",
        "𝑑\n",
        "𝑥\n",
        "∫(5sinx+3e\n",
        "x\n",
        " )dx\n",
        "\n",
        "Step 1: Break the Integral into Two Parts\n",
        "We can break the integral into two separate integrals:\n",
        "\n",
        "∫\n",
        "(\n",
        "5\n",
        "sin\n",
        "⁡\n",
        "𝑥\n",
        "+\n",
        "3\n",
        "𝑒\n",
        "𝑥\n",
        ")\n",
        "\n",
        "𝑑\n",
        "𝑥\n",
        "=\n",
        "∫\n",
        "5\n",
        "sin\n",
        "⁡\n",
        "𝑥\n",
        "\n",
        "𝑑\n",
        "𝑥\n",
        "+\n",
        "∫\n",
        "3\n",
        "𝑒\n",
        "𝑥\n",
        "\n",
        "𝑑\n",
        "𝑥\n",
        "∫(5sinx+3e\n",
        "x\n",
        " )dx=∫5sinxdx+∫3e\n",
        "x\n",
        " dx\n",
        "Now we will solve each integral separately.\n",
        "\n",
        "Step 2: Solve the Integral of\n",
        "5\n",
        "sin\n",
        "⁡\n",
        "𝑥\n",
        "5sinx\n",
        "We know that the integral of\n",
        "sin\n",
        "⁡\n",
        "𝑥\n",
        "sinx is\n",
        "−\n",
        "cos\n",
        "⁡\n",
        "𝑥\n",
        "−cosx. So, for the first part:\n",
        "\n",
        "∫\n",
        "5\n",
        "sin\n",
        "⁡\n",
        "𝑥\n",
        "\n",
        "𝑑\n",
        "𝑥\n",
        "=\n",
        "5\n",
        "⋅\n",
        "(\n",
        "−\n",
        "cos\n",
        "⁡\n",
        "𝑥\n",
        ")\n",
        "=\n",
        "−\n",
        "5\n",
        "cos\n",
        "⁡\n",
        "𝑥\n",
        "∫5sinxdx=5⋅(−cosx)=−5cosx\n",
        "Step 3: Solve the Integral of\n",
        "3\n",
        "𝑒\n",
        "𝑥\n",
        "3e\n",
        "x\n",
        "\n",
        "Next, the integral of\n",
        "𝑒\n",
        "𝑥\n",
        "e\n",
        "x\n",
        "  is just\n",
        "𝑒\n",
        "𝑥\n",
        "e\n",
        "x\n",
        " , so:\n",
        "\n",
        "∫\n",
        "3\n",
        "𝑒\n",
        "𝑥\n",
        "\n",
        "𝑑\n",
        "𝑥\n",
        "=\n",
        "3\n",
        "⋅\n",
        "𝑒\n",
        "𝑥\n",
        "=\n",
        "3\n",
        "𝑒\n",
        "𝑥\n",
        "∫3e\n",
        "x\n",
        " dx=3⋅e\n",
        "x\n",
        " =3e\n",
        "x\n",
        "\n",
        "Step 4: Combine the Results\n",
        "Now, we combine both parts:\n",
        "\n",
        "∫\n",
        "(\n",
        "5\n",
        "sin\n",
        "⁡\n",
        "𝑥\n",
        "+\n",
        "3\n",
        "𝑒\n",
        "𝑥\n",
        ")\n",
        "\n",
        "𝑑\n",
        "𝑥\n",
        "=\n",
        "−\n",
        "5\n",
        "cos\n",
        "⁡\n",
        "𝑥\n",
        "+\n",
        "3\n",
        "𝑒\n",
        "𝑥\n",
        "+\n",
        "𝐶\n",
        "∫(5sinx+3e\n",
        "x\n",
        " )dx=−5cosx+3e\n",
        "x\n",
        " +C\n",
        "Where\n",
        "𝐶\n",
        "C is the constant of integration.\n",
        "\n",
        "Final Answer\n",
        "Thus, the result of the integral is:\n",
        "\n",
        "∫\n",
        "(\n",
        "5\n",
        "sin\n",
        "⁡\n",
        "𝑥\n",
        "+\n",
        "3\n",
        "𝑒\n",
        "𝑥\n",
        ")\n",
        "\n",
        "𝑑\n",
        "𝑥\n",
        "=\n",
        "−\n",
        "5\n",
        "cos\n",
        "⁡\n",
        "𝑥\n",
        "+\n",
        "3\n",
        "𝑒\n",
        "𝑥\n",
        "+\n",
        "𝐶\n",
        "∫(5sinx+3e\n",
        "x\n",
        " )dx=−5cosx+3e\n",
        "x\n",
        " +C"
      ],
      "metadata": {
        "id": "MF1awcVEHyN5"
      }
    },
    {
      "cell_type": "code",
      "source": [
        "import sympy as sp\n",
        "\n",
        "# Define the variable\n",
        "x = sp.symbols('x')\n",
        "\n",
        "# Define the function\n",
        "f = 5 * sp.sin(x) + 3 * sp.exp(x)\n",
        "\n",
        "# Compute the integral\n",
        "integral = sp.integrate(f, x)\n",
        "\n",
        "# Display the result\n",
        "integral\n"
      ],
      "metadata": {
        "colab": {
          "base_uri": "https://localhost:8080/",
          "height": 38
        },
        "id": "7hNALau7HfQb",
        "outputId": "c2f4ed94-6766-45aa-9611-7ee58afe3f07"
      },
      "execution_count": null,
      "outputs": [
        {
          "output_type": "execute_result",
          "data": {
            "text/plain": [
              "3*exp(x) - 5*cos(x)"
            ],
            "text/latex": "$\\displaystyle 3 e^{x} - 5 \\cos{\\left(x \\right)}$"
          },
          "metadata": {},
          "execution_count": 16
        }
      ]
    },
    {
      "cell_type": "markdown",
      "source": [
        "9"
      ],
      "metadata": {
        "id": "UwDN6ZUQC8Oa"
      }
    },
    {
      "cell_type": "markdown",
      "source": [
        "Given Expression:\n",
        "∫\n",
        "𝑥\n",
        "3\n",
        "\n",
        "𝑑\n",
        "𝑥\n",
        "∫\n",
        "3\n",
        "  \n",
        "x\n",
        "​\n",
        " dx\n",
        "Solution:\n",
        "Rewrite the cube root as a fractional exponent:\n",
        "\n",
        "𝑥\n",
        "3\n",
        "=\n",
        "𝑥\n",
        "1\n",
        "/\n",
        "3\n",
        "3\n",
        "  \n",
        "x\n",
        "​\n",
        " =x\n",
        "1/3\n",
        "\n",
        "Apply the power rule for integration:\n",
        "\n",
        "∫\n",
        "𝑥\n",
        "𝑛\n",
        "\n",
        "𝑑\n",
        "𝑥\n",
        "=\n",
        "𝑥\n",
        "𝑛\n",
        "+\n",
        "1\n",
        "𝑛\n",
        "+\n",
        "1\n",
        "+\n",
        "𝐶\n",
        "(if\n",
        "𝑛\n",
        "≠\n",
        "−\n",
        "1\n",
        ")\n",
        "∫x\n",
        "n\n",
        " dx=\n",
        "n+1\n",
        "x\n",
        "n+1\n",
        "\n",
        "​\n",
        " +C(if n\n",
        "\n",
        "=−1)\n",
        "\n",
        "For\n",
        "𝑛\n",
        "=\n",
        "1\n",
        "3\n",
        "n=\n",
        "3\n",
        "1\n",
        "​\n",
        " :\n",
        "\n",
        "∫\n",
        "𝑥\n",
        "1\n",
        "/\n",
        "3\n",
        "\n",
        "𝑑\n",
        "𝑥\n",
        "=\n",
        "𝑥\n",
        "1\n",
        "/\n",
        "3\n",
        "+\n",
        "1\n",
        "1\n",
        "/\n",
        "3\n",
        "+\n",
        "1\n",
        "+\n",
        "𝐶\n",
        "∫x\n",
        "1/3\n",
        " dx=\n",
        "1/3+1\n",
        "x\n",
        "1/3+1\n",
        "\n",
        "​\n",
        " +C\n",
        "\n",
        "Simplify the exponent:\n",
        "\n",
        "1\n",
        "/\n",
        "3\n",
        "+\n",
        "1\n",
        "=\n",
        "4\n",
        "/\n",
        "3\n",
        "1/3+1=4/3\n",
        "\n",
        "Simplify the fraction by flipping the denominator:\n",
        "\n",
        "𝑥\n",
        "4\n",
        "/\n",
        "3\n",
        "4\n",
        "/\n",
        "3\n",
        "=\n",
        "3\n",
        "4\n",
        "𝑥\n",
        "4\n",
        "/\n",
        "3\n",
        "4/3\n",
        "x\n",
        "4/3\n",
        "\n",
        "​\n",
        " =\n",
        "4\n",
        "3\n",
        "​\n",
        " x\n",
        "4/3\n",
        "\n",
        "Final Result:\n",
        "\n",
        "∫\n",
        "𝑥\n",
        "3\n",
        "\n",
        "𝑑\n",
        "𝑥\n",
        "=\n",
        "3\n",
        "4\n",
        "𝑥\n",
        "4\n",
        "/\n",
        "3\n",
        "+\n",
        "𝐶\n",
        "∫\n",
        "3\n",
        "  \n",
        "x\n",
        "​\n",
        " dx=\n",
        "4\n",
        "3\n",
        "​\n",
        " x\n",
        "4/3\n",
        " +C\n",
        "\n",
        "Final Answer:\n",
        "3\n",
        "4\n",
        "𝑥\n",
        "4\n",
        "/\n",
        "3\n",
        "+\n",
        "𝐶\n",
        "4\n",
        "3\n",
        "​\n",
        " x\n",
        "4/3\n",
        " +C"
      ],
      "metadata": {
        "id": "Wy9aa2DhItk2"
      }
    },
    {
      "cell_type": "code",
      "source": [
        "from sympy import symbols, integrate, root\n",
        "\n",
        "# Define the variable\n",
        "x = symbols('x')\n",
        "\n",
        "# Integral of the cube root of x\n",
        "expr = root(x, 3)\n",
        "\n",
        "# Compute the integral\n",
        "result = integrate(expr, x)\n",
        "\n",
        "print(\"Result:\", result)\n"
      ],
      "metadata": {
        "colab": {
          "base_uri": "https://localhost:8080/"
        },
        "id": "8tOoPPzjIsWs",
        "outputId": "0c89e667-38ea-4b73-95c6-562d35ee78ef"
      },
      "execution_count": null,
      "outputs": [
        {
          "output_type": "stream",
          "name": "stdout",
          "text": [
            "Result: 3*x**(4/3)/4\n"
          ]
        }
      ]
    },
    {
      "cell_type": "markdown",
      "source": [
        "10\n"
      ],
      "metadata": {
        "id": "M6sHMVryI9Ln"
      }
    },
    {
      "cell_type": "markdown",
      "source": [
        "11"
      ],
      "metadata": {
        "id": "cUW3v9dAQdEm"
      }
    },
    {
      "cell_type": "markdown",
      "source": [
        "### Problem:\n",
        "Compute the integral:\n",
        "\n",
        "$$\n",
        "\\int \\cos\\left( 5x + 3 \\right) \\, dx\n",
        "$$\n",
        "\n",
        "### Step 1: Use a Substitution\n",
        "\n",
        "To simplify the integral, we use substitution. Let:\n",
        "\n",
        "$$\n",
        "u = 5x + 3\n",
        "$$\n",
        "\n",
        "Now, differentiate both sides with respect to $x$:\n",
        "\n",
        "$$\n",
        "\\frac{du}{dx} = 5 \\quad \\Rightarrow \\quad dx = \\frac{du}{5}\n",
        "$$\n",
        "\n",
        "### Step 2: Rewrite the Integral\n",
        "\n",
        "Substitute $u = 5x + 3$ and $dx = \\frac{du}{5}$ into the integral:\n",
        "\n",
        "$$\n",
        "\\int \\cos(5x + 3) \\, dx = \\int \\cos(u) \\cdot \\frac{du}{5}\n",
        "$$\n",
        "\n",
        "We can factor out the constant $\\frac{1}{5}$:\n",
        "\n",
        "$$\n",
        "= \\frac{1}{5} \\int \\cos(u) \\, du\n",
        "$$\n",
        "\n",
        "### Step 3: Integrate the Cosine Function\n",
        "\n",
        "The antiderivative of $\\cos(u)$ is $\\sin(u)$:\n",
        "\n",
        "$$\n",
        "\\int \\cos(u) \\, du = \\sin(u)\n",
        "$$\n",
        "\n",
        "So, the integral becomes:\n",
        "\n",
        "$$\n",
        "\\frac{1}{5} \\sin(u) + C\n",
        "$$\n",
        "\n",
        "### Step 4: Substitute Back $u$\n",
        "\n",
        "Recall that $u = 5x + 3$, so substitute $u$ back into the expression:\n",
        "\n",
        "$$\n",
        "\\frac{1}{5} \\sin(5x + 3) + C\n",
        "$$\n",
        "\n",
        "### Final Answer:\n",
        "The integral is:\n",
        "\n",
        "$$\n",
        "\\boxed{\\frac{1}{5} \\sin(5x + 3) + C}\n",
        "$$\n",
        "\n"
      ],
      "metadata": {
        "id": "aykw_0uWQd36"
      }
    },
    {
      "cell_type": "markdown",
      "source": [
        "12"
      ],
      "metadata": {
        "id": "1aInARw5Qot2"
      }
    },
    {
      "cell_type": "markdown",
      "source": [
        "### Problem:\n",
        "Compute the integral:\n",
        "\n",
        "$$\n",
        "\\int \\cos\\left( \\ln(x) \\right) \\cdot x \\, dx\n",
        "$$\n",
        "\n",
        "### Step 1: Use a Substitution\n",
        "\n",
        "To simplify the integral, let's use substitution. Let:\n",
        "\n",
        "$$\n",
        "u = \\ln(x)\n",
        "$$\n",
        "\n",
        "Now, differentiate both sides with respect to $x$:\n",
        "\n",
        "$$\n",
        "\\frac{du}{dx} = \\frac{1}{x} \\quad \\Rightarrow \\quad dx = x \\, du\n",
        "$$\n",
        "\n",
        "### Step 2: Rewrite the Integral\n",
        "\n",
        "Substitute $u = \\ln(x)$ and $dx = x \\, du$ into the integral:\n",
        "\n",
        "$$\n",
        "\\int \\cos\\left( \\ln(x) \\right) \\cdot x \\, dx = \\int \\cos(u) \\cdot x \\, du\n",
        "$$\n",
        "\n",
        "Since we also have $dx = x \\, du$, the integral becomes:\n",
        "\n",
        "$$\n",
        "= \\int \\cos(u) \\, du\n",
        "$$\n",
        "\n",
        "### Step 3: Integrate the Cosine Function\n",
        "\n",
        "The antiderivative of $\\cos(u)$ is $\\sin(u)$:\n",
        "\n",
        "$$\n",
        "\\int \\cos(u) \\, du = \\sin(u)\n",
        "$$\n",
        "\n",
        "### Step 4: Substitute Back $u$\n",
        "\n",
        "Recall that $u = \\ln(x)$, so substitute $u$ back into the expression:\n",
        "\n",
        "$$\n",
        "\\sin(\\ln(x)) + C\n",
        "$$\n",
        "\n",
        "### Final Answer:\n",
        "The integral is:\n",
        "\n",
        "$$\n",
        "\\boxed{\\sin(\\ln(x)) + C}\n",
        "$$\n"
      ],
      "metadata": {
        "id": "CIUBaItVQpH6"
      }
    },
    {
      "cell_type": "markdown",
      "source": [
        "13"
      ],
      "metadata": {
        "id": "WBMnIHJ8QqLC"
      }
    },
    {
      "cell_type": "markdown",
      "source": [
        "### Problem:\n",
        "Compute the integral:\n",
        "\n",
        "$$\n",
        "\\int x \\ln(x) \\, dx\n",
        "$$\n",
        "\n",
        "### Step 1: Use Integration by Parts\n",
        "\n",
        "We can solve this integral using the method of integration by parts. The formula for integration by parts is:\n",
        "\n",
        "$$\n",
        "\\int u \\, dv = uv - \\int v \\, du\n",
        "$$\n",
        "\n",
        "To apply this, we need to choose $u$ and $dv$. Let's choose:\n",
        "\n",
        "$$\n",
        "u = \\ln(x) \\quad \\text{and} \\quad dv = x \\, dx\n",
        "$$\n",
        "\n",
        "### Step 2: Differentiate and Integrate\n",
        "\n",
        "Now, differentiate $u$ and integrate $dv$:\n",
        "\n",
        "$$\n",
        "du = \\frac{1}{x} \\, dx \\quad \\text{and} \\quad v = \\frac{x^2}{2}\n",
        "$$\n",
        "\n",
        "### Step 3: Apply the Formula\n",
        "\n",
        "Now, apply the integration by parts formula:\n",
        "\n",
        "$$\n",
        "\\int x \\ln(x) \\, dx = uv - \\int v \\, du\n",
        "$$\n",
        "\n",
        "Substituting the values of $u$, $v$, and $du$:\n",
        "\n",
        "$$\n",
        "= \\ln(x) \\cdot \\frac{x^2}{2} - \\int \\frac{x^2}{2} \\cdot \\frac{1}{x} \\, dx\n",
        "$$\n",
        "\n",
        "Simplify the second integral:\n",
        "\n",
        "$$\n",
        "= \\frac{x^2}{2} \\ln(x) - \\int \\frac{x}{2} \\, dx\n",
        "$$\n",
        "\n",
        "### Step 4: Solve the Remaining Integral\n",
        "\n",
        "Now, compute the remaining integral:\n",
        "\n",
        "$$\n",
        "\\int \\frac{x}{2} \\, dx = \\frac{x^2}{4}\n",
        "$$\n",
        "\n",
        "### Step 5: Final Answer\n",
        "\n",
        "So, the result is:\n",
        "\n",
        "$$\n",
        "\\frac{x^2}{2} \\ln(x) - \\frac{x^2}{4} + C\n",
        "$$\n",
        "\n",
        "### Final Answer:\n",
        "The integral is:\n",
        "\n",
        "$$\n",
        "\\boxed{\\frac{x^2}{2} \\ln(x) - \\frac{x^2}{4} + C}\n",
        "$$\n"
      ],
      "metadata": {
        "id": "iCLxr1ftQrYn"
      }
    },
    {
      "cell_type": "markdown",
      "source": [
        "14"
      ],
      "metadata": {
        "id": "eKz91ZLQQqdu"
      }
    },
    {
      "cell_type": "markdown",
      "source": [
        "### Problem:\n",
        "Compute the integral:\n",
        "\n",
        "$$\n",
        "\\int x e^x \\, dx\n",
        "$$\n",
        "\n",
        "### Step 1: Use Integration by Parts\n",
        "\n",
        "\n",
        "$$\n",
        "\\int u \\, dv = uv - \\int v \\, du\n",
        "$$\n",
        "\n",
        "To apply this, we need to choose $u$ and $dv$. Let's choose:\n",
        "\n",
        "$$\n",
        "u = x \\quad \\text{and} \\quad dv = e^x \\, dx\n",
        "$$\n",
        "\n",
        "### Step 2: Differentiate and Integrate\n",
        "\n",
        "differentiate $u$ and integrate $dv$:\n",
        "\n",
        "$$\n",
        "du = dx \\quad \\text{and} \\quad v = e^x\n",
        "$$\n",
        "\n",
        "### Step 3: Apply the Formula\n",
        "\n",
        "apply the integration by parts formula:\n",
        "\n",
        "$$\n",
        "\\int x e^x \\, dx = uv - \\int v \\, du\n",
        "$$\n",
        "\n",
        "Substituting the values of $u$, $v$, and $du$:\n",
        "\n",
        "$$\n",
        "= x e^x - \\int e^x \\, dx\n",
        "$$\n",
        "\n",
        "### Step 4: Solve the Remaining Integral\n",
        "\n",
        "compute the remaining integral:\n",
        "\n",
        "$$\n",
        "\\int e^x \\, dx = e^x\n",
        "$$\n",
        "\n",
        "### Step 5: Final Answer\n",
        "\n",
        "\n",
        "\n",
        "$$\n",
        "x e^x - e^x + C\n",
        "$$\n",
        "\n",
        "### Final Answer:\n",
        "The integral is:\n",
        "\n",
        "$$\n",
        "\\boxed{x e^x - e^x + C}\n",
        "$$\n",
        "\n"
      ],
      "metadata": {
        "id": "e1K3qYKYQ2TH"
      }
    },
    {
      "cell_type": "markdown",
      "source": [
        "-----2-----"
      ],
      "metadata": {
        "id": "j8YLhxnMNJrd"
      }
    },
    {
      "cell_type": "markdown",
      "source": [
        "### Problem:\n",
        "Calculate the integral of $f(x) = 2x + 1$ over the interval $[0, \\pi]$.\n",
        "\n",
        "$$\n",
        "\\int_0^\\pi (2x + 1) \\, dx\n",
        "$$\n",
        "\n",
        "### Step 1: Split the Integral\n",
        "We can split the integral into two parts:\n",
        "\n",
        "$$\n",
        "\\int_0^\\pi (2x + 1) \\, dx = \\int_0^\\pi 2x \\, dx + \\int_0^\\pi 1 \\, dx\n",
        "$$\n",
        "\n",
        "### Step 2: Solve the First Integral\n",
        "First, solve the integral of $2x$:\n",
        "\n",
        "$$\n",
        "\\int 2x \\, dx = x^2\n",
        "$$\n",
        "\n",
        "Now, evaluate it from 0 to $\\pi$:\n",
        "\n",
        "$$\n",
        "\\left[ x^2 \\right]_0^\\pi = \\pi^2 - 0^2 = \\pi^2\n",
        "$$\n",
        "\n",
        "### Step 3: Solve the Second Integral\n",
        "Next, solve the integral of 1:\n",
        "\n",
        "$$\n",
        "\\int 1 \\, dx = x\n",
        "$$\n",
        "\n",
        "Now, evaluate it from 0 to $\\pi$:\n",
        "\n",
        "$$\n",
        "\\left[ x \\right]_0^\\pi = \\pi - 0 = \\pi\n",
        "$$\n",
        "\n",
        "### Step 4: Add the Results\n",
        "Now, combine both results:\n",
        "\n",
        "$$\n",
        "\\pi^2 + \\pi\n",
        "$$\n",
        "\n",
        "Thus, the value of the integral is:\n",
        "\n",
        "$$\n",
        "\\int_0^\\pi (2x + 1) \\, dx = \\pi^2 + \\pi\n",
        "$$\n",
        "\n",
        "### Final Answer:\n",
        "The integral of $f(x) = 2x + 1$ over the interval $[0, \\pi]$ is:\n",
        "\n",
        "$$\n",
        "\\boxed{\\pi^2 + \\pi}\n",
        "$$\n"
      ],
      "metadata": {
        "id": "AGTpEcK3PXZR"
      }
    },
    {
      "cell_type": "code",
      "source": [
        "import numpy as np\n",
        "import matplotlib.pyplot as plt\n",
        "from scipy.integrate import quad\n",
        "\n",
        "# Function definition\n",
        "def f(x):\n",
        "    return 2*x + 1\n",
        "\n",
        "# Calculate the integral\n",
        "integral_value, error = quad(f, 0, np.pi)\n",
        "\n",
        "# Create the plot\n",
        "x = np.linspace(0, np.pi, 500)\n",
        "y = f(x)\n",
        "\n",
        "plt.plot(x, y, label=r'$f(x) = 2x + 1$', color='blue')\n",
        "plt.fill_between(x, y, color='lightblue', alpha=0.5)\n",
        "plt.title(f\"Integral of f(x) = 2x + 1 over [0, π] = {integral_value:.2f}\")\n",
        "plt.xlabel('x')\n",
        "plt.ylabel('f(x)')\n",
        "plt.legend()\n",
        "plt.grid(True)\n",
        "plt.show()\n",
        "\n",
        "# Integral result\n",
        "integral_value\n"
      ],
      "metadata": {
        "id": "jbVvEgfiNSud",
        "outputId": "46a9a880-c1b3-4ca7-e111-331f8f2c1213",
        "colab": {
          "base_uri": "https://localhost:8080/",
          "height": 489
        }
      },
      "execution_count": 1,
      "outputs": [
        {
          "output_type": "display_data",
          "data": {
            "text/plain": [
              "<Figure size 640x480 with 1 Axes>"
            ],
            "image/png": "[encoded data removed]"
          },
          "metadata": {}
        },
        {
          "output_type": "execute_result",
          "data": {
            "text/plain": [
              "13.011197054679151"
            ]
          },
          "metadata": {},
          "execution_count": 1
        }
      ]
    },
    {
      "cell_type": "markdown",
      "source": [
        "https://www.geogebra.org/calculator/unypdgvk"
      ],
      "metadata": {
        "id": "DintQXDAObn9"
      }
    },
    {
      "cell_type": "markdown",
      "source": [
        "### Problem:\n",
        "Calculate the integral of $g(x) = x^2$ over the interval $[0, \\pi]$.\n",
        "\n",
        "$$\n",
        "\\int_0^\\pi x^2 \\, dx\n",
        "$$\n",
        "\n",
        "### Step 1: Find the Antiderivative\n",
        "\n",
        "To solve this integral, we first find the antiderivative of $x^2$. The antiderivative of $x^2$ is:\n",
        "\n",
        "$$\n",
        "\\int x^2 \\, dx = \\frac{x^3}{3}\n",
        "$$\n",
        "\n",
        "### Step 2: Evaluate the Integral\n",
        "\n",
        "Now, we evaluate the antiderivative from 0 to $\\pi$:\n",
        "\n",
        "$$\n",
        "\\left[ \\frac{x^3}{3} \\right]_0^\\pi = \\frac{\\pi^3}{3} - \\frac{0^3}{3}\n",
        "$$\n",
        "\n",
        "This simplifies to:\n",
        "\n",
        "$$\n",
        "\\frac{\\pi^3}{3}\n",
        "$$\n",
        "\n",
        "### Final Answer:\n",
        "The value of the integral is:\n",
        "\n",
        "$$\n",
        "\\boxed{\\frac{\\pi^3}{3}}\n",
        "$$\n"
      ],
      "metadata": {
        "id": "PulKSsmLPI-O"
      }
    },
    {
      "cell_type": "code",
      "source": [
        "import numpy as np\n",
        "import matplotlib.pyplot as plt\n",
        "from scipy.integrate import quad\n",
        "\n",
        "# Function definition\n",
        "def g(x):\n",
        "    return x**2\n",
        "\n",
        "# Calculate the integral\n",
        "integral_value, error = quad(g, 0, np.pi)\n",
        "\n",
        "# Create the plot\n",
        "x = np.linspace(0, np.pi, 500)\n",
        "y = g(x)\n",
        "\n",
        "plt.plot(x, y, label=r'$g(x) = x^2$', color='blue')\n",
        "plt.fill_between(x, y, color='lightblue', alpha=0.5)\n",
        "plt.title(f\"Integral of g(x) = x^2 over [0, π] = {integral_value:.2f}\")\n",
        "plt.xlabel('x')\n",
        "plt.ylabel('g(x)')\n",
        "plt.legend()\n",
        "plt.grid(True)\n",
        "plt.show()\n",
        "\n",
        "# Display the integral result\n",
        "integral_value\n"
      ],
      "metadata": {
        "id": "lgMHKatDO6F3",
        "outputId": "7eb8b040-a2cd-44da-f2a7-f64e5f6fe45a",
        "colab": {
          "base_uri": "https://localhost:8080/",
          "height": 489
        }
      },
      "execution_count": 2,
      "outputs": [
        {
          "output_type": "display_data",
          "data": {
            "text/plain": [
              "<Figure size 640x480 with 1 Axes>"
            ],
            "image/png": "[encoded data removed]"
          },
          "metadata": {}
        },
        {
          "output_type": "execute_result",
          "data": {
            "text/plain": [
              "10.335425560099939"
            ]
          },
          "metadata": {},
          "execution_count": 2
        }
      ]
    },
    {
      "cell_type": "markdown",
      "source": [
        "https://www.geogebra.org/calculator/unypdgvk"
      ],
      "metadata": {
        "id": "Hez1Jnb_Pb7k"
      }
    },
    {
      "cell_type": "markdown",
      "source": [
        "-----3-----"
      ],
      "metadata": {
        "id": "lEcEKGDcPxlW"
      }
    },
    {
      "cell_type": "markdown",
      "source": [
        "### Problem:\n",
        "Calculate the area of the region bounded by the lines $x = 1$, $x = 2$, $y = 0$, and $y = x^2 + 1$.\n",
        "\n",
        "$$\n",
        "\\text{Area} = \\int_1^2 (x^2 + 1) \\, dx\n",
        "$$\n",
        "\n",
        "### Step 1: Solve the Integral\n",
        "\n",
        "We begin by finding the antiderivative of $x^2 + 1$:\n",
        "\n",
        "$$\n",
        "\\int (x^2 + 1) \\, dx = \\frac{x^3}{3} + x\n",
        "$$\n",
        "\n",
        "### Step 2: Evaluate the Integral from $x = 1$ to $x = 2$\n",
        "\n",
        "Now, we evaluate the antiderivative at the limits $x = 2$ and $x = 1$:\n",
        "\n",
        "$$\n",
        "\\left[ \\frac{x^3}{3} + x \\right]_1^2 = \\left( \\frac{2^3}{3} + 2 \\right) - \\left( \\frac{1^3}{3} + 1 \\right)\n",
        "$$\n",
        "\n",
        "Simplifying this:\n",
        "\n",
        "$$\n",
        "\\left( \\frac{8}{3} + 2 \\right) - \\left( \\frac{1}{3} + 1 \\right) = \\left( \\frac{8}{3} + \\frac{6}{3} \\right) - \\left( \\frac{1}{3} + \\frac{3}{3} \\right)\n",
        "$$\n",
        "\n",
        "$$\n",
        "= \\frac{14}{3} - \\frac{4}{3} = \\frac{10}{3}\n",
        "$$\n",
        "\n",
        "### Final Answer:\n",
        "The area of the region is:\n",
        "\n",
        "$$\n",
        "\\boxed{\\frac{10}{3}}\n",
        "$$\n"
      ],
      "metadata": {
        "id": "xoLZqcaXP6tu"
      }
    },
    {
      "cell_type": "code",
      "source": [
        "import numpy as np\n",
        "import matplotlib.pyplot as plt\n",
        "from scipy.integrate import quad\n",
        "\n",
        "# Define the function\n",
        "def f(x):\n",
        "    return x**2 + 1\n",
        "\n",
        "# Calculate the area by integrating the function from x=1 to x=2\n",
        "area, error = quad(f, 1, 2)\n",
        "\n",
        "# Create x values for plotting\n",
        "x = np.linspace(1, 2, 500)\n",
        "y = f(x)\n",
        "\n",
        "# Plot the function and the shaded area\n",
        "plt.plot(x, y, label=r'$y = x^2 + 1$', color='blue')\n",
        "plt.fill_between(x, y, color='lightblue', alpha=0.5)\n",
        "\n",
        "# Set the labels and title\n",
        "plt.title(f\"Area under the curve from x=1 to x=2 = {area:.2f}\")\n",
        "plt.xlabel('x')\n",
        "plt.ylabel('f(x)')\n",
        "plt.axhline(0, color='black',linewidth=1)\n",
        "plt.axvline(1, color='red', linestyle='--', label='x=1')\n",
        "plt.axvline(2, color='green', linestyle='--', label='x=2')\n",
        "plt.legend()\n",
        "plt.grid(True)\n",
        "plt.show()\n",
        "\n",
        "# Display the calculated area\n",
        "area\n"
      ],
      "metadata": {
        "id": "Hv4QACLrPzcf",
        "outputId": "9efd3578-b1a7-41df-d93a-c4f652f28ec6",
        "colab": {
          "base_uri": "https://localhost:8080/",
          "height": 489
        }
      },
      "execution_count": 3,
      "outputs": [
        {
          "output_type": "display_data",
          "data": {
            "text/plain": [
              "<Figure size 640x480 with 1 Axes>"
            ],
            "image/png": "[encoded data removed]"
          },
          "metadata": {}
        },
        {
          "output_type": "execute_result",
          "data": {
            "text/plain": [
              "3.3333333333333335"
            ]
          },
          "metadata": {},
          "execution_count": 3
        }
      ]
    },
    {
      "cell_type": "markdown",
      "source": [
        "https://www.geogebra.org/calculator/unypdgvk"
      ],
      "metadata": {
        "id": "81xe7SmzP4Xn"
      }
    },
    {
      "cell_type": "markdown",
      "source": [
        "-----4-----\n"
      ],
      "metadata": {
        "id": "Q2ZeZD8aQBId"
      }
    },
    {
      "cell_type": "markdown",
      "source": [
        "### Problem:\n",
        "Calculate the area under the sine curve over the interval $[0, \\pi]$.\n",
        "\n",
        "$$\n",
        "\\text{Area} = \\int_0^\\pi \\sin(x) \\, dx\n",
        "$$\n",
        "\n",
        "### Step 1: Find the Antiderivative\n",
        "\n",
        "We begin by finding the antiderivative of $\\sin(x)$. The antiderivative of $\\sin(x)$ is:\n",
        "\n",
        "$$\n",
        "\\int \\sin(x) \\, dx = -\\cos(x)\n",
        "$$\n",
        "\n",
        "### Step 2: Evaluate the Integral from $x = 0$ to $x = \\pi$\n",
        "\n",
        "Now, we evaluate the antiderivative at the limits $x = \\pi$ and $x = 0$:\n",
        "\n",
        "$$\n",
        "\\left[ -\\cos(x) \\right]_0^\\pi = -\\cos(\\pi) - (-\\cos(0))\n",
        "$$\n",
        "\n",
        "We know that $\\cos(\\pi) = -1$ and $\\cos(0) = 1$, so this becomes:\n",
        "\n",
        "$$\n",
        "-\\left(-1\\right) - (-1) = 1 + 1 = 2\n",
        "$$\n",
        "\n",
        "### Final Answer:\n",
        "The area under the sine curve over the interval $[0, \\pi]$ is:\n",
        "\n",
        "$$\n",
        "\\boxed{2}\n",
        "$$\n"
      ],
      "metadata": {
        "id": "sK49xLKKQEOK"
      }
    },
    {
      "cell_type": "markdown",
      "source": [
        "-----5-----"
      ],
      "metadata": {
        "id": "hV0fNj9rQPM-"
      }
    },
    {
      "cell_type": "markdown",
      "source": [
        "-----6-----"
      ],
      "metadata": {
        "id": "ZpN-i5Y1QIB0"
      }
    },
    {
      "cell_type": "markdown",
      "source": [
        "### Problem:\n",
        "Find the distance traveled by a moving particle between time $t = 0$ and $t = 2$ for the position function:\n",
        "\n",
        "$$\n",
        "x(t) = 3t^2 - 6t + 1\n",
        "$$\n",
        "\n",
        "### Step 1: Find the Velocity Function\n",
        "\n",
        "To find the distance, we first need to find the velocity function by taking the derivative of the position function $x(t)$ with respect to time $t$:\n",
        "\n",
        "$$\n",
        "v(t) = \\frac{d}{dt} \\left( 3t^2 - 6t + 1 \\right)\n",
        "$$\n",
        "\n",
        "Using the power rule for derivatives:\n",
        "\n",
        "$$\n",
        "v(t) = 6t - 6\n",
        "$$\n",
        "\n",
        "### Step 2: Find the Points Where Velocity is Zero\n",
        "\n",
        "To determine if the particle changes direction, we set the velocity function equal to zero and solve for $t$:\n",
        "\n",
        "$$\n",
        "6t - 6 = 0\n",
        "$$\n",
        "\n",
        "Solving for $t$:\n",
        "\n",
        "$$\n",
        "t = 1\n",
        "$$\n",
        "\n",
        "This means the particle changes direction at $t = 1$.\n",
        "\n",
        "### Step 3: Calculate the Distance Traveled\n",
        "\n",
        "Now, we calculate the distance traveled by the particle. The total distance is the sum of the absolute changes in position between times $t = 0$ and $t = 1$, and between $t = 1$ and $t = 2$. We need to evaluate the position function $x(t)$ at these times:\n",
        "\n",
        "- At $t = 0$:\n",
        "\n",
        "$$\n",
        "x(0) = 3(0)^2 - 6(0) + 1 = 1\n",
        "$$\n",
        "\n",
        "- At $t = 1$:\n",
        "\n",
        "$$\n",
        "x(1) = 3(1)^2 - 6(1) + 1 = 3 - 6 + 1 = -2\n",
        "$$\n",
        "\n",
        "- At $t = 2$:\n",
        "\n",
        "$$\n",
        "x(2) = 3(2)^2 - 6(2) + 1 = 12 - 12 + 1 = 1\n",
        "$$\n",
        "\n",
        "Now, calculate the distances:\n",
        "\n",
        "- From $t = 0$ to $t = 1$, the distance is:\n",
        "\n",
        "$$\n",
        "|x(1) - x(0)| = |-2 - 1| = 3\n",
        "$$\n",
        "\n",
        "- From $t = 1$ to $t = 2$, the distance is:\n",
        "\n",
        "$$\n",
        "|x(2) - x(1)| = |1 - (-2)| = 3\n",
        "$$\n",
        "\n",
        "### Step 4: Total Distance\n",
        "\n",
        "Now, add the distances:\n",
        "\n",
        "$$\n",
        "\\text{Total Distance} = 3 + 3 = 6\n",
        "$$\n",
        "\n",
        "### Final Answer:\n",
        "The distance traveled by the particle between $t = 0$ and $t = 2$ is:\n",
        "\n",
        "$$\n",
        "\\boxed{6}\n",
        "$$\n"
      ],
      "metadata": {
        "id": "AbL3ykY6QL6I"
      }
    }
  ]
}