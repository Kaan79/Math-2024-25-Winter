{
  "nbformat": 4,
  "nbformat_minor": 0,
  "metadata": {
    "colab": {
      "provenance": []
    },
    "kernelspec": {
      "name": "python3",
      "display_name": "Python 3"
    },
    "language_info": {
      "name": "python"
    }
  },
  "cells": [
    {
      "cell_type": "markdown",
      "source": [
        "# Useful Formulas for Sequences and Limits\n",
        "\n",
        "## 1. General Sequence and Limit Definition\n",
        "A sequence is a function whose domain is the set of natural numbers. If a sequence is denoted as \\( a_n \\), its limit as \\( n \\) approaches infinity is written as:\n",
        "\n",
        "$$\n",
        "\\lim_{n \\to \\infty} a_n = L\n",
        "$$\n",
        "\n",
        "Where:\n",
        "- \\( L \\) is the limit of the sequence as \\( n \\to \\infty \\).\n",
        "\n",
        "## 2. Limits of Common Sequences\n",
        "\n",
        "- **Constant Sequence**: If \\( a_n = c \\), where \\( c \\) is a constant, then:\n",
        "\n",
        "$$\n",
        "\\lim_{n \\to \\infty} a_n = c\n",
        "$$\n",
        "\n",
        "- **Arithmetic Sequence**: For the sequence \\( a_n = a_1 + (n-1) \\cdot d \\), where \\( a_1 \\) is the first term and \\( d \\) is the common difference, the limit does not exist unless \\( d = 0 \\), in which case:\n",
        "\n",
        "$$\n",
        "\\lim_{n \\to \\infty} a_n = a_1 \\quad \\text{if} \\quad d = 0\n",
        "$$\n",
        "\n",
        "- **Geometric Sequence**: For the sequence \\( a_n = a_1 \\cdot r^{n-1} \\), where \\( a_1 \\) is the first term and \\( r \\) is the common ratio, the limit is:\n",
        "\n",
        "$$\n",
        "\\lim_{n \\to \\infty} a_n =\n",
        "\\begin{cases}\n",
        "0 & \\text{if} \\quad |r| < 1 \\\\\n",
        "\\infty & \\text{if} \\quad |r| > 1 \\\\\n",
        "a_1 & \\text{if} \\quad r = 1\n",
        "\\end{cases}\n",
        "$$\n",
        "\n",
        "## 3. Limits Involving Functions\n",
        "\n",
        "### 3.1. Limit of a Function as \\( x \\to \\infty \\)\n",
        "\n",
        "If \\( f(x) \\) is a function, the limit of the function as \\( x \\to \\infty \\) is:\n",
        "\n",
        "$$\n",
        "\\lim_{x \\to \\infty} f(x) = L\n",
        "$$\n",
        "\n",
        "### 3.2. L'Hopital's Rule\n",
        "\n",
        "For indeterminate forms such as \\( \\frac{0}{0} \\) or \\( \\frac{\\infty}{\\infty} \\), L'Hopital's Rule can be used:\n",
        "\n",
        "$$\n",
        "\\lim_{x \\to c} \\frac{f(x)}{g(x)} = \\lim_{x \\to c} \\frac{f'(x)}{g'(x)}\n",
        "$$\n",
        "\n",
        "Where \\( f'(x) \\) and \\( g'(x) \\) are the derivatives of \\( f(x) \\) and \\( g(x) \\), respectively.\n",
        "\n",
        "### 3.3. Squeeze Theorem\n",
        "\n",
        "If \\( f(x) \\leq g(x) \\leq h(x) \\) for all \\( x \\) in some interval containing \\( a \\), except possibly at \\( a \\), and:\n",
        "\n",
        "$$\n",
        "\\lim_{x \\to a} f(x) = \\lim_{x \\to a} h(x) = L\n",
        "$$\n",
        "\n",
        "Then:\n",
        "\n",
        "$$\n",
        "\\lim_{x \\to a} g(x) = L\n",
        "$$\n",
        "\n",
        "## 4. Limits of Sequences\n",
        "\n",
        "### 4.1. Limit of a Sequence\n",
        "\n",
        "If \\( a_n \\) is a sequence, the limit of \\( a_n \\) as \\( n \\to \\infty \\) is:\n",
        "\n",
        "$$\n",
        "\\lim_{n \\to \\infty} a_n = L\n",
        "$$\n",
        "\n",
        "### 4.2. Convergence of Monotonic Sequences\n",
        "\n",
        "- A sequence is **monotonically increasing** if \\( a_{n+1} \\geq a_n \\) for all \\( n \\).\n",
        "- A sequence is **monotonically decreasing** if \\( a_{n+1} \\leq a_n \\) for all \\( n \\).\n",
        "\n",
        "If a monotonic sequence is bounded, then it converges.\n",
        "\n",
        "### 4.3. Limit of a Recursive Sequence\n",
        "\n",
        "If a sequence is defined recursively, for example:\n",
        "\n",
        "$$\n",
        "a_1 = 1, \\quad a_{n+1} = \\frac{a_n + 1}{2}\n",
        "$$\n",
        "\n",
        "You can solve for the limit by setting:\n",
        "\n",
        "$$\n",
        "L = \\lim_{n \\to \\infty} a_n \\quad \\Rightarrow \\quad L = \\frac{L + 1}{2}\n",
        "$$\n",
        "\n",
        "Solving this gives the value of \\( L \\).\n",
        "\n",
        "## 5. Inverse Function\n",
        "\n",
        "The inverse of a function \\( f(x) \\) can be found by:\n",
        "\n",
        "1. Start with the equation \\( y = f(x) \\).\n",
        "2. Solve for \\( x \\) in terms of \\( y \\), giving the inverse function.\n",
        "\n",
        "For example, for \\( f(x) = x - 1 \\), we solve:\n",
        "\n",
        "$$\n",
        "y = x - 1 \\quad \\Rightarrow \\quad x = y + 1\n",
        "$$\n",
        "\n",
        "Thus, the inverse function is:\n",
        "\n",
        "$$\n",
        "f^{-1}(x) = x + 1\n",
        "$$\n",
        "\n",
        "## 6. Other Important Limits\n",
        "\n",
        "- **Limit of \\( \\sin(x) \\) and \\( \\cos(x) \\)**:\n",
        "\n",
        "$$\n",
        "\\lim_{x \\to 0} \\sin(x) = 0, \\quad \\lim_{x \\to 0} \\cos(x) = 1\n",
        "$$\n",
        "\n",
        "- **Limit of Exponential Functions**:\n",
        "\n",
        "$$\n",
        "\\lim_{x \\to \\infty} e^{-x} = 0, \\quad \\lim_{x \\to \\infty} e^x = \\infty\n",
        "$$\n",
        "\n",
        "## 7. Series and Summation\n",
        "\n",
        "For the sum of the first \\( n \\) terms of an arithmetic series:\n",
        "\n",
        "$$\n",
        "S_n = \\frac{n}{2} \\left( 2a + (n-1) d \\right)\n",
        "$$\n",
        "\n",
        "Where \\( a \\) is the first term and \\( d \\) is the common difference.\n",
        "\n",
        "For the sum of the first \\( n \\) terms of a geometric series:\n",
        "\n",
        "$$\n",
        "S_n = \\frac{a(1 - r^n)}{1 - r} \\quad \\text{for} \\quad r \\neq 1\n",
        "$$\n"
      ],
      "metadata": {
        "id": "3nnrfuDxqdqe"
      }
    },
    {
      "cell_type": "markdown",
      "source": [
        "Exercise 1\n"
      ],
      "metadata": {
        "id": "kHbUQ7y4qqnj"
      }
    },
    {
      "cell_type": "code",
      "source": [
        "import sympy as sp\n",
        "\n",
        "# Define the variable\n",
        "n = sp.symbols('n')\n",
        "\n",
        "# Define the first expression\n",
        "expr1 = (n**2 + 3*n) / (2*n**2 - 2*n)\n",
        "\n",
        "# Define the second expression\n",
        "expr2 = (2*n + 3) / (3*n**3 - 1)\n",
        "\n",
        "# Calculate the limits\n",
        "limit1 = sp.limit(expr1, n, sp.oo)\n",
        "limit2 = sp.limit(expr2, n, sp.oo)\n",
        "\n",
        "# Print the results\n",
        "print(\"Limit 1: \", limit1)\n",
        "print(\"Limit 2: \", limit2)\n"
      ],
      "metadata": {
        "id": "GKW6H_tuqr30",
        "outputId": "20d7b9cb-6181-499e-8f0a-8b8b27f18b58",
        "colab": {
          "base_uri": "https://localhost:8080/"
        }
      },
      "execution_count": null,
      "outputs": [
        {
          "output_type": "stream",
          "name": "stdout",
          "text": [
            "Limit 1:  1/2\n",
            "Limit 2:  0\n"
          ]
        }
      ]
    },
    {
      "cell_type": "markdown",
      "source": [
        "Exercise 2"
      ],
      "metadata": {
        "id": "5SPHfnivqvRP"
      }
    },
    {
      "cell_type": "code",
      "source": [
        "import numpy as np\n",
        "import matplotlib.pyplot as plt\n",
        "\n",
        "# Generate n values (starting from 1 to avoid division by zero)\n",
        "n_values = np.arange(1, 1000)\n",
        "\n",
        "# Compute sin(n)/n\n",
        "sin_n_over_n = np.sin(n_values) / n_values\n",
        "\n",
        "# Plot the graph\n",
        "plt.plot(n_values, sin_n_over_n, label=r'$\\frac{\\sin(n)}{n}$')\n",
        "plt.axhline(0, color='black', linewidth=0.5)  # Add a horizontal line at y=0\n",
        "plt.xlabel('n')\n",
        "plt.ylabel(r'$\\frac{\\sin(n)}{n}$')\n",
        "plt.title(r'Behavior of $\\frac{\\sin(n)}{n}$ as $n \\to \\infty$')  # Corrected title\n",
        "plt.legend()\n",
        "plt.grid(True)\n",
        "plt.show()\n"
      ],
      "metadata": {
        "id": "vGYI5jVssHel",
        "outputId": "27e59c41-796e-41a5-a756-e5f31da80733",
        "colab": {
          "base_uri": "https://localhost:8080/",
          "height": 479
        }
      },
      "execution_count": null,
      "outputs": [
        {
          "output_type": "display_data",
          "data": {
            "text/plain": [
              "<Figure size 640x480 with 1 Axes>"
            ],
            "image/png": "[encoded data removed]"
          },
          "metadata": {}
        }
      ]
    },
    {
      "cell_type": "markdown",
      "source": [
        "Exercise 3"
      ],
      "metadata": {
        "id": "vubV0fQSM42X"
      }
    },
    {
      "cell_type": "code",
      "source": [
        "import sympy as sp\n",
        "\n",
        "# Define the variable and sequence expression\n",
        "n = sp.Symbol('n', integer=True, positive=True)\n",
        "sequence = (1 + 1/n)**n\n",
        "\n",
        "# Compute the limit of the sequence\n",
        "limit = sp.limit(sequence, n, sp.oo)\n",
        "\n",
        "print(f\"The limit of the sequence (1 + 1/n)^n as n approaches infinity is: {limit}\")\n"
      ],
      "metadata": {
        "id": "5rTODWgdM-sq",
        "outputId": "9969addf-7c7e-4578-e001-a2293ca0148b",
        "colab": {
          "base_uri": "https://localhost:8080/"
        }
      },
      "execution_count": 1,
      "outputs": [
        {
          "output_type": "stream",
          "name": "stdout",
          "text": [
            "The limit of the sequence (1 + 1/n)^n as n approaches infinity is: E\n"
          ]
        }
      ]
    }
  ]
}