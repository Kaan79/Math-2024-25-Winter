{
  "nbformat": 4,
  "nbformat_minor": 0,
  "metadata": {
    "colab": {
      "provenance": []
    },
    "kernelspec": {
      "name": "python3",
      "display_name": "Python 3"
    },
    "language_info": {
      "name": "python"
    }
  },
  "cells": [
    {
      "cell_type": "markdown",
      "source": [
        "# Derivative Formulas\n",
        "\n",
        "## Basic Derivatives\n",
        "\n",
        "1. **Power Rule**:  \n",
        "   If \\( y = x^n \\), then the derivative is:  \n",
        "   $$ \\frac{d}{dx}(x^n) = n x^{n-1} $$\n",
        "\n",
        "2. **Sum and Difference Rule**:  \n",
        "   If \\( y = f(x) + g(x) \\), then the derivative is:  \n",
        "   $$ \\frac{d}{dx}[f(x) + g(x)] = \\frac{d}{dx}[f(x)] + \\frac{d}{dx}[g(x)] $$\n",
        "\n",
        "   Similarly, for difference:  \n",
        "   $$ \\frac{d}{dx}[f(x) - g(x)] = \\frac{d}{dx}[f(x)] - \\frac{d}{dx}[g(x)] $$\n",
        "\n",
        "3. **Constant Rule**:  \n",
        "   If \\( y = c \\) (where \\( c \\) is a constant), then:  \n",
        "   $$ \\frac{d}{dx}(c) = 0 $$\n",
        "\n",
        "## Common Derivatives\n",
        "\n",
        "1. **Derivative of \\( e^x \\)**:  \n",
        "   $$ \\frac{d}{dx}(e^x) = e^x $$\n",
        "\n",
        "2. **Derivative of \\( \\sin(x) \\)**:  \n",
        "   $$ \\frac{d}{dx}(\\sin(x)) = \\cos(x) $$\n",
        "\n",
        "3. **Derivative of \\( \\cos(x) \\)**:  \n",
        "   $$ \\frac{d}{dx}(\\cos(x)) = -\\sin(x) $$\n",
        "\n",
        "4. **Derivative of \\( \\tan(x) \\)**:  \n",
        "   $$ \\frac{d}{dx}(\\tan(x)) = \\sec^2(x) $$\n",
        "\n",
        "5. **Derivative of \\( \\ln(x) \\)**:  \n",
        "   $$ \\frac{d}{dx}(\\ln(x)) = \\frac{1}{x} $$\n",
        "\n",
        "## Product and Quotient Rules\n",
        "\n",
        "1. **Product Rule**:  \n",
        "   If \\( y = f(x)g(x) \\), then:  \n",
        "   $$ \\frac{d}{dx}[f(x)g(x)] = f'(x)g(x) + f(x)g'(x) $$\n",
        "\n",
        "2. **Quotient Rule**:  \n",
        "   If \\( y = \\frac{f(x)}{g(x)} \\), then:  \n",
        "   $$ \\frac{d}{dx}\\left(\\frac{f(x)}{g(x)}\\right) = \\frac{f'(x)g(x) - f(x)g'(x)}{(g(x))^2} $$\n",
        "\n",
        "## Chain Rule\n",
        "\n",
        "1. **Chain Rule**:  \n",
        "   If \\( y = f(g(x)) \\), then:  \n",
        "   $$ \\frac{d}{dx}[f(g(x))] = f'(g(x)) \\cdot g'(x) $$\n",
        "\n",
        "## Special Derivatives\n",
        "\n",
        "1. **Derivative of \\( \\sqrt{x} \\)**:  \n",
        "   $$ \\frac{d}{dx}(\\sqrt{x}) = \\frac{1}{2\\sqrt{x}} $$\n",
        "\n",
        "2. **Derivative of \\( x^n \\) (for non-integer \\( n \\))**:  \n",
        "   $$ \\frac{d}{dx}(x^n) = n x^{n-1} $$\n",
        "\n",
        "## Example: Derivative of \\( y(x) = -3x + 3 \\)\n",
        "\n",
        "For the function \\( y(x) = -3x + 3 \\), using the power rule, the derivative is:  \n",
        "$$ \\frac{d}{dx}(-3x + 3) = -3 $$\n",
        "\n",
        "This is because the derivative of \\( -3x \\) is \\( -3 \\) and the derivative of the constant \\( 3 \\) is \\( 0 \\).\n",
        "\n",
        "---\n",
        "\n",
        "These formulas will help you to solve most derivative problems, including those involving polynomials, trigonometric functions, and composite functions.\n"
      ],
      "metadata": {
        "id": "lNAvbv8YYfcY"
      }
    },
    {
      "cell_type": "markdown",
      "source": [
        "Exercise 1"
      ],
      "metadata": {
        "id": "WjXaWv5MYE0q"
      }
    },
    {
      "cell_type": "markdown",
      "source": [
        "# Solution: Derivative of \\( y(x) = -3x + 3 \\)\n",
        "\n",
        "---\n",
        "\n",
        "### 1. Given Function\n",
        "\\[\n",
        "y(x) = -3x + 3\n",
        "\\]\n",
        "\n",
        "---\n",
        "\n",
        "### 2. Differentiation Rules\n",
        "- The derivative of a constant (\\( c \\)) is zero:\n",
        "  \\[\n",
        "  \\frac{d}{dx}[c] = 0\n",
        "  \\]\n",
        "- The derivative of a linear term (\\( ax \\)) is the coefficient:\n",
        "  \\[\n",
        "  \\frac{d}{dx}[ax] = a\n",
        "  \\]\n",
        "\n",
        "---\n",
        "\n",
        "### 3. Taking the Derivative\n",
        "We differentiate each term of the function:\n",
        "\\[\n",
        "y'(x) = \\frac{d}{dx}[-3x] + \\frac{d}{dx}[3]\n",
        "\\]\n",
        "\n",
        "- For the first term (\\( -3x \\)):\n",
        "  \\[\n",
        "  \\frac{d}{dx}[-3x] = -3\n",
        "  \\]\n",
        "\n",
        "- For the second term (\\( 3 \\)):\n",
        "  \\[\n",
        "  \\frac{d}{dx}[3] = 0\n",
        "  \\]\n",
        "\n",
        "---\n",
        "\n",
        "### 4. Result\n",
        "Adding the derivatives of the terms:\n",
        "\\[\n",
        "y'(x) = -3 + 0\n",
        "\\]\n",
        "\n",
        "Final result:\n",
        "\\[\n",
        "y'(x) = -3\n",
        "\\]\n",
        "\n",
        "---\n",
        "\n",
        "### Final Answer\n",
        "\\[\n",
        "\\boxed{y'(x) = -3}\n",
        "\\]\n"
      ],
      "metadata": {
        "id": "5l3CzOuHLgpj"
      }
    },
    {
      "cell_type": "code",
      "source": [
        "import sympy as sp\n",
        "\n",
        "# Define the variable\n",
        "x = sp.symbols('x')\n",
        "\n",
        "# Define the function y(x) = -3x + 3\n",
        "y = -3*x + 3\n",
        "\n",
        "# Compute the derivative of y with respect to x\n",
        "derivative = sp.diff(y, x)\n",
        "\n",
        "# Display the result\n",
        "print(\"The derivative of y(x) = -3x + 3 is:\", derivative)\n"
      ],
      "metadata": {
        "id": "R-CKVzU9YDpU",
        "outputId": "cc3c59e3-e337-42cb-962b-a7ac98603c01",
        "colab": {
          "base_uri": "https://localhost:8080/"
        }
      },
      "execution_count": null,
      "outputs": [
        {
          "output_type": "stream",
          "name": "stdout",
          "text": [
            "The derivative of y(x) = -3x + 3 is: -3\n"
          ]
        }
      ]
    },
    {
      "cell_type": "markdown",
      "source": [
        "# Solution: Derivative of \\( y(x) = \\pi x + \\sin(1) \\)\n",
        "\n",
        "---\n",
        "\n",
        "### 1. Given Function\n",
        "\\[\n",
        "y(x) = \\pi x + \\sin(1)\n",
        "\\]\n",
        "\n",
        "---\n",
        "\n",
        "### 2. Differentiation Rules\n",
        "- The derivative of a constant (\\( c \\)) is zero:\n",
        "  \\[\n",
        "  \\frac{d}{dx}[c] = 0\n",
        "  \\]\n",
        "- The derivative of a linear term (\\( ax \\)) is the coefficient:\n",
        "  \\[\n",
        "  \\frac{d}{dx}[ax] = a\n",
        "  \\]\n",
        "\n",
        "---\n",
        "\n",
        "### 3. Taking the Derivative\n",
        "We differentiate each term of the function:\n",
        "\\[\n",
        "y'(x) = \\frac{d}{dx}[\\pi x] + \\frac{d}{dx}[\\sin(1)]\n",
        "\\]\n",
        "\n",
        "- For the first term (\\( \\pi x \\)):\n",
        "  \\[\n",
        "  \\frac{d}{dx}[\\pi x] = \\pi\n",
        "  \\]\n",
        "\n",
        "- For the second term (\\( \\sin(1) \\)):\n",
        "  Since \\( \\sin(1) \\) is a constant (the sine of a constant value), its derivative is:\n",
        "  \\[\n",
        "  \\frac{d}{dx}[\\sin(1)] = 0\n",
        "  \\]\n",
        "\n",
        "---\n",
        "\n",
        "### 4. Result\n",
        "Adding t\n"
      ],
      "metadata": {
        "id": "cKWLJzvqL3zy"
      }
    },
    {
      "cell_type": "code",
      "source": [
        "import sympy as sp\n",
        "\n",
        "# Define the variable\n",
        "x = sp.symbols('x')\n",
        "\n",
        "# Define the function y(x) = πx + sin(1)\n",
        "y = sp.pi * x + sp.sin(1)\n",
        "\n",
        "# Compute the derivative of y with respect to x\n",
        "derivative = sp.diff(y, x)\n",
        "\n",
        "# Display the result\n",
        "print(\"The derivative of y(x) = πx + sin(1) is:\", derivative)\n"
      ],
      "metadata": {
        "id": "aLmauIjIYmfZ",
        "outputId": "1e5a7e26-06a3-4652-88b9-da4bb295bd88",
        "colab": {
          "base_uri": "https://localhost:8080/"
        }
      },
      "execution_count": null,
      "outputs": [
        {
          "output_type": "stream",
          "name": "stdout",
          "text": [
            "The derivative of y(x) = πx + sin(1) is: pi\n"
          ]
        }
      ]
    },
    {
      "cell_type": "markdown",
      "source": [
        "# Solution: Derivative of \\( y(x) = 4 + \\sin(2) \\)\n",
        "\n",
        "---\n",
        "\n",
        "### 1. Given Function\n",
        "\\[\n",
        "y(x) = 4 + \\sin(2)\n",
        "\\]\n",
        "\n",
        "---\n",
        "\n",
        "### 2. Differentiation Rules\n",
        "- The derivative of a constant (\\( c \\)) is zero:\n",
        "  \\[\n",
        "  \\frac{d}{dx}[c] = 0\n",
        "  \\]\n",
        "\n",
        "---\n",
        "\n",
        "### 3. Taking the Derivative\n",
        "We differentiate each term in the function:\n",
        "\n",
        "\\[\n",
        "y'(x) = \\frac{d}{dx}[4] + \\frac{d}{dx}[\\sin(2)]\n",
        "\\]\n",
        "\n",
        "- For the first term (\\( 4 \\)), since it is a constant:\n",
        "  \\[\n",
        "  \\frac{d}{dx}[4] = 0\n",
        "  \\]\n",
        "\n",
        "- For the second term (\\( \\sin(2) \\)), since \\( \\sin(2) \\) is also a constant (the sine of a constant value):\n",
        "  \\[\n",
        "  \\frac{d}{dx}[\\sin(2)] = 0\n",
        "  \\]\n",
        "\n",
        "---\n",
        "\n",
        "### 4. Result\n",
        "Adding the derivatives of the terms:\n",
        "\\[\n",
        "y'(x) = 0 + 0\n",
        "\\]\n",
        "\n",
        "Final result:\n",
        "\\[\n",
        "y'(x) = 0\n",
        "\\]\n",
        "\n",
        "---\n",
        "\n",
        "### Final Answer\n",
        "\\[\n",
        "\\boxed{y'(x) = 0}\n",
        "\\]\n"
      ],
      "metadata": {
        "id": "ciImvZnjMd5Q"
      }
    },
    {
      "cell_type": "code",
      "source": [
        "import sympy as sp\n",
        "\n",
        "# Define the variable\n",
        "x = sp.symbols('x')\n",
        "\n",
        "# Define the function y(x) = 4 + sin(2)\n",
        "y = 4 + sp.sin(2)\n",
        "\n",
        "# Compute the derivative of y with respect to x\n",
        "derivative = sp.diff(y, x)\n",
        "\n",
        "# Display the result\n",
        "print(\"The derivative of y(x) = 4 + sin(2) is:\", derivative)\n"
      ],
      "metadata": {
        "id": "Vf3adNTMoCf9",
        "outputId": "90858443-3ec4-442f-aaea-8da0c622acda",
        "colab": {
          "base_uri": "https://localhost:8080/"
        }
      },
      "execution_count": null,
      "outputs": [
        {
          "output_type": "stream",
          "name": "stdout",
          "text": [
            "The derivative of y(x) = 4 + sin(2) is: 0\n"
          ]
        }
      ]
    },
    {
      "cell_type": "markdown",
      "source": [
        "### Function:\n",
        "\\( y(x) = 2x^3 - 3x^2 + 8x - 9 \\)\n",
        "\n",
        "#### Step 1: First Try (x = 1)\n",
        "\n",
        "I start by trying \\( x = 1 \\) and substituting it into the function:\n",
        "\n",
        "\\[\n",
        "y(1) = 2(1)^3 - 3(1)^2 + 8(1) - 9 = 2 - 3 + 8 - 9 = -2\n",
        "\\]\n",
        "\n",
        "Since the result is negative, \\( x = 1 \\) is not a root.\n",
        "\n",
        "#### Step 2: Second Try (x = 2)\n",
        "\n",
        "Next, I try \\( x = 2 \\):\n",
        "\n",
        "\\[\n",
        "y(2) = 2(2)^3 - 3(2)^2 + 8(2) - 9 = 16 - 12 + 16 - 9 = 11\n",
        "\\]\n",
        "\n",
        "This is not a root either, since the result is positive.\n",
        "\n",
        "#### Step 3: Third Try (x = 3)\n",
        "\n",
        "Now, I try \\( x = 3 \\):\n",
        "\n",
        "\\[\n",
        "y(3) = 2(3)^3 - 3(3)^2 + 8(3) - 9 = 54 - 27 + 24 - 9 = 42\n",
        "\\]\n",
        "\n",
        " his is not a root, as the result is positive.\n",
        "\n"
      ],
      "metadata": {
        "id": "5xnsri_MOzGE"
      }
    },
    {
      "cell_type": "code",
      "source": [
        "import sympy as sp\n",
        "\n",
        "# Define the variable\n",
        "x = sp.symbols('x')\n",
        "\n",
        "# Define the function y(x) = 2x^3 - 3x^2 + 8x - 9\n",
        "y = 2*x**3 - 3*x**2 + 8*x - 9\n",
        "\n",
        "# Compute the derivative of y with respect to x\n",
        "derivative = sp.diff(y, x)\n",
        "\n",
        "# Display the result\n",
        "print(\"The derivative of y(x) = 2x^3 - 3x^2 + 8x - 9 is:\", derivative)\n"
      ],
      "metadata": {
        "id": "wzF0nktMoLaI",
        "outputId": "2f26cfe2-c6ef-4259-f6bf-122953747bf7",
        "colab": {
          "base_uri": "https://localhost:8080/"
        }
      },
      "execution_count": null,
      "outputs": [
        {
          "output_type": "stream",
          "name": "stdout",
          "text": [
            "The derivative of y(x) = 2x^3 - 3x^2 + 8x - 9 is: 6*x**2 - 6*x + 8\n"
          ]
        }
      ]
    },
    {
      "cell_type": "markdown",
      "source": [
        "### Function:\n",
        "\\( y(x) = 6x^{\\frac{1}{3}} \\)\n",
        "\n",
        "#### Step 1: Understanding the Function\n",
        "\n",
        "The function is \\( y(x) = 6x^{\\frac{1}{3}} \\). This means we are taking the cube root of \\( x \\) and multiplying it by 6. In other words, \\( x^{\\frac{1}{3}} \\) represents the cube root of \\( x \\).\n",
        "\n",
        "#### Step 2: Finding the Roots of the Function\n",
        "\n",
        "To find the roots of the function, I set it equal to zero:\n",
        "\n",
        "\\[\n",
        "y(x) = 6x^{\\frac{1}{3}} = 0\n",
        "\\]\n",
        "\n",
        "Now, divide both sides by 6:\n",
        "\n",
        "\\[\n",
        "x^{\\frac{1}{3}} = 0\n",
        "\\]\n",
        "\n",
        "Taking the cube root of both sides, the cube root of zero is still zero. So, we get:\n",
        "\n",
        "\\[\n",
        "x = 0\n",
        "\\]\n",
        "\n",
        "#### Step 3: Conclusion\n",
        "\n",
        "The root of the function is \\( x = 0 \\).\n",
        "\n",
        "#### Step 4: Analyzing the Behavior of the Function\n",
        "\n",
        "For the function \\( y(x) = 6x^{\\frac{1}{3}} \\), at \\( x = 0 \\), the function equals zero. The graph of the function passes through the origin, and as \\( x \\) increases, \\( y(x) \\) takes positive values. Similarly, for negative values of \\( x \\), \\( y(x) \\) takes negative values.\n"
      ],
      "metadata": {
        "id": "4hUmFoPWPBvI"
      }
    },
    {
      "cell_type": "code",
      "source": [
        "def y(x):\n",
        "    return 6 * (x ** (1 / 3))\n",
        "\n",
        "# Örnek kullanım\n",
        "x_value = float(input(\"x değerini girin: \"))\n",
        "result = y(x_value)\n",
        "print(f\"y({x_value}) = {result}\")\n"
      ],
      "metadata": {
        "id": "udbXnsmxaVAG",
        "outputId": "8c1f3ada-7552-4979-898c-2febe22c659a",
        "colab": {
          "base_uri": "https://localhost:8080/"
        }
      },
      "execution_count": null,
      "outputs": [
        {
          "output_type": "stream",
          "name": "stdout",
          "text": [
            "x değerini girin: 8\n",
            "y(8.0) = 12.0\n"
          ]
        }
      ]
    },
    {
      "cell_type": "markdown",
      "source": [
        "Fonksiyonu inceleyelim:\n",
        "\n",
        "𝑦\n",
        "(\n",
        "𝑥\n",
        ")\n",
        "=\n",
        "𝑥\n",
        "y(x)=\n",
        "x\n",
        "​\n",
        " , yani bu fonksiyon pozitif gerçek sayılar için tanımlıdır.\n",
        "Kareköklü fonksiyonun tanım aralığı:\n",
        "𝑥\n",
        "≥\n",
        "0\n",
        "x≥0.\n",
        "Grafiği çizeceksek:\n",
        "\n",
        "𝑥\n",
        "x arttıkça,\n",
        "𝑦\n",
        "(\n",
        "𝑥\n",
        ")\n",
        "y(x) yavaşça artar.\n",
        "Fonksiyonun başlangıç noktası:\n",
        "(\n",
        "0\n",
        ",\n",
        "0\n",
        ")\n",
        "(0,0). Çünkü\n",
        "0\n",
        "=\n",
        "0\n",
        "0\n",
        "​\n",
        " =0.\n",
        "Türevi hesaplayalım (isteğe bağlı):\n",
        "\n",
        "Türev,\n",
        "𝑦\n",
        "′\n",
        "(\n",
        "𝑥\n",
        ")\n",
        "=\n",
        "1\n",
        "2\n",
        "𝑥\n",
        "y\n",
        "′\n",
        " (x)=\n",
        "2\n",
        "x\n",
        "​\n",
        "\n",
        "1\n",
        "​\n",
        " ,\n",
        "𝑥\n",
        ">\n",
        "0\n",
        "x>0 için tanımlıdır.\n",
        "Bu, fonksiyonun eğimidir ve\n",
        "𝑥\n",
        "x arttıkça türev azalır.\n",
        "Özel değerler:\n",
        "\n",
        "𝑥\n",
        "=\n",
        "1\n",
        "x=1 →\n",
        "𝑦\n",
        "(\n",
        "1\n",
        ")\n",
        "=\n",
        "1\n",
        "=\n",
        "1\n",
        "y(1)=\n",
        "1\n",
        "​\n",
        " =1,\n",
        "𝑥\n",
        "=\n",
        "4\n",
        "x=4 →\n",
        "𝑦\n",
        "(\n",
        "4\n",
        ")\n",
        "=\n",
        "4\n",
        "=\n",
        "2\n",
        "y(4)=\n",
        "4\n",
        "​\n",
        " =2,\n",
        "𝑥\n",
        "=\n",
        "9\n",
        "x=9 →\n",
        "𝑦\n",
        "(\n",
        "9\n",
        ")\n",
        "=\n",
        "9\n",
        "=\n",
        "3\n",
        "y(9)=\n",
        "9\n",
        "​\n",
        " =3.\n",
        "Çözüm Özeti:\n",
        "Fonksiyonun çözümü, grafiği ve özel değerleri yukarıdaki gibi incelenmi"
      ],
      "metadata": {
        "id": "k5mslaT5POjX"
      }
    },
    {
      "cell_type": "code",
      "source": [
        "def y(x):\n",
        "    return x ** 0.5\n",
        "\n",
        "# Örnek kullanım\n",
        "x_value = float(input(\"x değerini girin: \"))\n",
        "result = y(x_value)\n",
        "print(f\"y({x_value}) = {result}\")\n",
        "\n"
      ],
      "metadata": {
        "id": "AuhMVPvjaZcJ",
        "outputId": "14c96c1e-88a3-47e3-95d8-b4aab082a8b3",
        "colab": {
          "base_uri": "https://localhost:8080/"
        }
      },
      "execution_count": null,
      "outputs": [
        {
          "output_type": "stream",
          "name": "stdout",
          "text": [
            "x değerini girin: 16\n",
            "y(16.0) = 4.0\n"
          ]
        }
      ]
    },
    {
      "cell_type": "markdown",
      "source": [
        "# Problem: Given Function\n",
        "The function provided is:\n",
        "\n",
        "\\[\n",
        "y(x) = \\sqrt{x}\n",
        "\\]\n",
        "\n",
        "## Solution:\n",
        "\n",
        "### Step 1: Analyze the Domain\n",
        "- The square root function \\( y(x) = \\sqrt{x} \\) is only defined for \\( x \\geq 0 \\).\n",
        "- Therefore, the **domain** of the function is:\n",
        "  \\[\n",
        "  x \\in [0, \\infty)\n",
        "  \\]\n",
        "\n",
        "---\n",
        "\n",
        "### Step 2: Evaluate Specific Points\n",
        "To better understand the behavior of the function, calculate some key values:\n",
        "\n",
        "\\[\n",
        "\\begin{aligned}\n",
        "&\\text{When } x = 0, && y(0) = \\sqrt{0} = 0, \\\\\n",
        "&\\text{When } x = 1, && y(1) = \\sqrt{1} = 1, \\\\\n",
        "&\\text{When } x = 4, && y(4) = \\sqrt{4} = 2, \\\\\n",
        "&\\text{When } x = 9, && y(9) = \\sqrt{9} = 3. \\\\\n",
        "\\end{aligned}\n",
        "\\]\n",
        "\n",
        "---\n",
        "\n",
        "### Step 3: Sketching the Graph\n",
        "- The function starts at \\( (0, 0) \\) and increases as \\( x \\) increases.\n",
        "- It grows more slowly for larger values of \\( x \\) because the square root operation compresses large inputs.\n",
        "- The graph will look like a curve that starts from the origin and rises gradually to the right.\n",
        "\n",
        "---\n",
        "\n",
        "### Step 4: Compute the Derivative (Optional)\n",
        "The derivative of the function can be calculated to determine its rate of change:\n",
        "\n",
        "\\[\n",
        "y'(x) = \\frac{1}{2\\sqrt{x}}, \\quad x > 0\n",
        "\\]\n",
        "\n",
        "- The derivative indicates that the slope of the curve decreases as \\( x \\) increases.\n",
        "- At \\( x = 1 \\), the slope is \\( y'(1) = \\frac{1}{2} \\).\n",
        "- At \\( x = 4 \\), the slope is \\( y'(4) = \\frac{1}{4} \\).\n",
        "\n",
        "---\n",
        "\n",
        "### Summary:\n",
        "- **Domain**: \\( x \\geq 0 \\)\n",
        "- **Key Points**: \\( (0, 0), (1, 1), (4, 2), (9, 3) \\)\n",
        "- **Graph**: Starts at the origin and gradually rises to the right, flattening as \\( x \\) increases.\n",
        "\n"
      ],
      "metadata": {
        "id": "PSjMWxANPtMK"
      }
    },
    {
      "cell_type": "code",
      "source": [
        "import math\n",
        "\n",
        "def y(x):\n",
        "    return math.cos(x) + math.sin(x)\n",
        "\n",
        "# Örnek kullanım\n",
        "x_value = float(input(\"x değerini radyan cinsinden girin: \"))\n",
        "result = y(x_value)\n",
        "print(f\"y({x_value}) = {result}\")\n"
      ],
      "metadata": {
        "id": "vrheu29xas9y",
        "outputId": "61d3c01e-6e4b-464c-a511-bad2706169e8",
        "colab": {
          "base_uri": "https://localhost:8080/"
        }
      },
      "execution_count": null,
      "outputs": [
        {
          "output_type": "stream",
          "name": "stdout",
          "text": [
            "x değerini radyan cinsinden girin: 1.5708\n",
            "y(1.5708) = 0.9999963267881504\n"
          ]
        }
      ]
    },
    {
      "cell_type": "markdown",
      "source": [
        "# Problem: Given Function\n",
        "The function provided is:\n",
        "\n",
        "\\[\n",
        "y(x) = \\cos(x) + \\sin(x)\n",
        "\\]\n",
        "\n",
        "## Solution:\n",
        "\n",
        "### Step 1: Analyze the Function\n",
        "The function \\( y(x) = \\cos(x) + \\sin(x) \\) is composed of the sine and cosine trigonometric functions. These functions are periodic and oscillate between \\(-1\\) and \\(1\\). Therefore, the behavior of \\( y(x) \\) will also be oscillatory.\n",
        "\n",
        "---\n",
        "\n",
        "### Step 2: Rewrite the Function\n",
        "To simplify the analysis, rewrite the function using a trigonometric identity:\n",
        "\n",
        "\\[\n",
        "y(x) = \\sqrt{2} \\cdot \\sin\\left(x + \\frac{\\pi}{4}\\right)\n",
        "\\]\n",
        "\n",
        "This form is derived from the identity:\n",
        "\\[\n",
        "\\cos(x) + \\sin(x) = \\sqrt{2} \\cdot \\sin\\left(x + \\frac{\\pi}{4}\\right)\n",
        "\\]\n",
        "\n",
        "- The amplitude of the function is \\( \\sqrt{2} \\).\n",
        "- The period remains the same as that of the sine and cosine functions, which is \\( 2\\pi \\).\n",
        "- The phase shift is \\( -\\frac{\\pi}{4} \\).\n",
        "\n",
        "---\n",
        "\n",
        "### Step 3: Key Points of the Function\n",
        "To understand the behavior, evaluate the function at specific values of \\( x \\):\n",
        "\n",
        "\\[\n",
        "\\begin{aligned}\n",
        "&\\text{At } x = 0, && y(0) = \\cos(0) + \\sin(0) = 1 + 0 = 1, \\\\\n",
        "&\\text{At } x = \\frac{\\pi}{2}, && y\\left(\\frac{\\pi}{2}\\right) = \\cos\\left(\\frac{\\pi}{2}\\right) + \\sin\\left(\\frac{\\pi}{2}\\right) = 0 + 1 = 1, \\\\\n",
        "&\\text{At } x = \\pi, && y(\\pi) = \\cos(\\pi) + \\sin(\\pi) = -1 + 0 = -1, \\\\\n",
        "&\\text{At } x = \\frac{3\\pi}{2}, && y\\left(\\frac{3\\pi}{2}\\right) = \\cos\\left(\\frac{3\\pi}{2}\\right) + \\sin\\left(\\frac{3\\pi}{2}\\right) = 0 - 1 = -1.\n",
        "\\end{aligned}\n",
        "\\]\n",
        "\n",
        "---\n",
        "\n",
        "### Step 4: Compute the Derivative\n",
        "To analyze the rate of change, calculate the derivative of the function:\n",
        "\n",
        "\\[\n",
        "y'(x) = -\\sin(x) + \\cos(x)\n",
        "\\]\n",
        "\n",
        "This derivative gives the slope of the tangent to the curve at any point \\( x \\).\n",
        "\n",
        "---\n",
        "\n",
        "### Step 5: Critical Points\n",
        "Set \\( y'(x) = 0 \\) to find critical points:\n",
        "\n",
        "\\[\n",
        "-\\sin(x) + \\cos(x) = 0 \\quad \\Rightarrow \\quad \\tan(x) = 1\n",
        "\\]\n",
        "\n",
        "- The critical points occur at \\( x = \\frac{\\pi}{4} + n\\pi \\), where \\( n \\in \\mathbb{Z} \\).\n",
        "\n",
        "---\n",
        "\n",
        "### Summary:\n",
        "- The function \\( y(x) = \\cos(x) + \\sin(x) \\) has an amplitude of \\( \\sqrt{2} \\), a period of \\( 2\\pi \\), and a phase shift of \\( -\\frac{\\pi}{4} \\).\n",
        "- The rewritten form helps us analyze the function's properties, and critical points were identified for deeper understanding.\n",
        "\n"
      ],
      "metadata": {
        "id": "NqUs8IxRQYw3"
      }
    },
    {
      "cell_type": "code",
      "source": [
        "import math\n",
        "\n",
        "def y(x):\n",
        "    return 2 * math.sin(x) * math.cos(x)\n",
        "\n",
        "# Örnek kullanım\n",
        "x_value = float(input(\"x değerini radyan cinsinden girin: \"))\n",
        "result = y(x_value)\n",
        "print(f\"y({x_value}) = {result}\")\n",
        "\n"
      ],
      "metadata": {
        "id": "tmckl0Q0bDox",
        "outputId": "fb0a049e-de0d-4f39-abe8-81326729a7bf",
        "colab": {
          "base_uri": "https://localhost:8080/"
        }
      },
      "execution_count": null,
      "outputs": [
        {
          "output_type": "stream",
          "name": "stdout",
          "text": [
            "x değerini radyan cinsinden girin: 0.7854\n",
            "y(0.7854) = 0.9999999999932537\n"
          ]
        }
      ]
    },
    {
      "cell_type": "markdown",
      "source": [
        "# Problem: Given Function\n",
        "The function provided is:\n",
        "\n",
        "\\[\n",
        "y(x) = 2 \\sin(x) \\cos(x)\n",
        "\\]\n",
        "\n",
        "## Solution:\n",
        "\n",
        "### Step 1: Simplify the Function\n",
        "Using the trigonometric identity:\n",
        "\\[\n",
        "\\sin(2x) = 2 \\sin(x) \\cos(x),\n",
        "\\]\n",
        "we can rewrite the function as:\n",
        "\\[\n",
        "y(x) = \\sin(2x)\n",
        "\\]\n",
        "\n",
        "---\n",
        "\n",
        "### Step 2: Analyze the Function\n",
        "The simplified function \\( y(x) = \\sin(2x) \\) is a sine wave with:\n",
        "- **Amplitude**: \\( 1 \\),\n",
        "- **Period**: The period of \\( \\sin(2x) \\) is:\n",
        "  \\[\n",
        "  T = \\frac{2\\pi}{2} = \\pi\n",
        "  \\]\n",
        "- **Phase Shift**: None (the function is not shifted horizontally).\n",
        "\n",
        "---\n",
        "\n",
        "### Step 3: Evaluate Key Points\n",
        "To understand the behavior, evaluate \\( y(x) \\) at specific points within one period \\( [0, \\pi] \\):\n",
        "\n",
        "\\[\n",
        "\\begin{aligned}\n",
        "&\\text{At } x = 0, && y(0) = \\sin(2 \\cdot 0) = \\sin(0) = 0, \\\\\n",
        "&\\text{At } x = \\frac{\\pi}{4}, && y\\left(\\frac{\\pi}{4}\\right) = \\sin\\left(2 \\cdot \\frac{\\pi}{4}\\right) = \\sin\\left(\\frac{\\pi}{2}\\right) = 1, \\\\\n",
        "&\\text{At } x = \\frac{\\pi}{2}, && y\\left(\\frac{\\pi}{2}\\right) = \\sin(2 \\cdot \\frac{\\pi}{2}) = \\sin(\\pi) = 0, \\\\\n",
        "&\\text{At } x = \\frac{3\\pi}{4}, && y\\left(\\frac{3\\pi}{4}\\right) = \\sin\\left(2 \\cdot \\frac{3\\pi}{4}\\right) = \\sin\\left(\\frac{3\\pi}{2}\\right) = -1, \\\\\n",
        "&\\text{At } x = \\pi, && y(\\pi) = \\sin(2 \\cdot \\pi) = \\sin(2\\pi) = 0.\n",
        "\\end{aligned}\n",
        "\\]\n",
        "\n",
        "---\n",
        "\n",
        "### Step 4: Compute the Derivative\n",
        "To analyze the rate of change, compute the derivative of \\( y(x) = \\sin(2x) \\):\n",
        "\n",
        "\\[\n",
        "y'(x) = 2\\cos(2x)\n",
        "\\]\n",
        "\n",
        "- This derivative represents the slope of the tangent to the curve at any point \\( x \\).\n",
        "- Critical points occur when \\( y'(x) = 0 \\), i.e.:\n",
        "  \\[\n",
        "  \\cos(2x) = 0 \\quad \\Rightarrow \\quad 2x = \\frac{\\pi}{2} + n\\pi, \\quad x = \\frac{\\pi}{4} + \\frac{n\\pi}{2}, \\quad n \\in \\mathbb{Z}.\n",
        "  \\]\n",
        "\n",
        "---\n",
        "\n",
        "### Step 5: Graph Behavior\n",
        "- The function \\( y(x) = \\sin(2x) \\) oscillates between \\(-1\\) and \\( 1 \\).\n",
        "- Its period is \\( \\pi \\), meaning the pattern repeats every \\( \\pi \\) units.\n",
        "\n",
        "---\n",
        "\n",
        "### Summary:\n",
        "- **Simplified Function**: \\( y(x) = \\sin(2x) \\)\n",
        "- **Amplitude**: \\( 1 \\)\n",
        "- **Period**: \\( \\pi \\)\n",
        "- **Key Points**: \\( (0, 0), \\left(\\frac{\\pi}{4}, 1\\right), \\left(\\frac{\\pi}{2}, 0\\right), \\left(\\frac{3\\pi}{4}, -1\\right), (\\pi, 0) \\)\n",
        "- **Derivative**: \\( y'(x) = 2\\cos(2x) \\)"
      ],
      "metadata": {
        "id": "Kz0sXetRQnx8"
      }
    },
    {
      "cell_type": "code",
      "source": [
        "import math\n",
        "\n",
        "def y(x):\n",
        "    return x * math.sin(x)\n",
        "\n",
        "# Örnek kullanım\n",
        "x_value = float(input(\"x değerini radyan cinsinden girin: \"))\n",
        "result = y(x_value)\n",
        "print(f\"y({x_value}) = {result}\")\n",
        "\n"
      ],
      "metadata": {
        "id": "whZooHWibHsZ",
        "outputId": "82f193e3-a904-40b8-dbb1-1a043ef96162",
        "colab": {
          "base_uri": "https://localhost:8080/"
        }
      },
      "execution_count": null,
      "outputs": [
        {
          "output_type": "stream",
          "name": "stdout",
          "text": [
            "x değerini radyan cinsinden girin: 3.1416\n",
            "y(3.1416) = -2.3079482305191492e-05\n"
          ]
        }
      ]
    },
    {
      "cell_type": "markdown",
      "source": [
        "# Problem: Given Function\n",
        "The function provided is:\n",
        "\n",
        "\\[\n",
        "y(x) = x \\sin(x)\n",
        "\\]\n",
        "\n",
        "## Solution:\n",
        "\n",
        "### Step 1: Analyze the Function\n",
        "The function \\( y(x) = x \\sin(x) \\) is the product of two components:\n",
        "- \\( x \\), which is a linear function, grows unbounded as \\( x \\to \\infty \\),\n",
        "- \\( \\sin(x) \\), which oscillates between \\(-1\\) and \\( 1\\).\n",
        "\n",
        "Thus, the behavior of \\( y(x) \\) will involve oscillations that grow in magnitude as \\( x \\) increases.\n",
        "\n",
        "---\n",
        "\n",
        "### Step 2: Compute the Derivative\n",
        "To analyze the critical points and rate of change, compute the derivative of \\( y(x) \\). Using the product rule:\n",
        "\n",
        "\\[\n",
        "y'(x) = \\frac{d}{dx} \\big[x \\sin(x)\\big] = \\sin(x) + x \\cos(x)\n",
        "\\]\n",
        "\n",
        "This derivative will help us determine where \\( y(x) \\) has critical points (local maxima, minima, or inflection points).\n",
        "\n",
        "---\n",
        "\n",
        "### Step 3: Critical Points\n",
        "Set \\( y'(x) = 0 \\) to find critical points:\n",
        "\n",
        "\\[\n",
        "\\sin(x) + x \\cos(x) = 0\n",
        "\\]\n",
        "\n",
        "Rewriting:\n",
        "\\[\n",
        "x \\cos(x) = -\\sin(x)\n",
        "\\]\n",
        "\n",
        "This equation does not have simple analytical solutions, so the critical points would need to be approximated numerically.\n",
        "\n",
        "---\n",
        "\n",
        "### Step 4: Evaluate Key Points\n",
        "To understand the behavior, evaluate \\( y(x) \\) at some specific values of \\( x \\):\n",
        "\n",
        "\\[\n",
        "\\begin{aligned}\n",
        "&\\text{At } x = 0, && y(0) = 0 \\cdot \\sin(0) = 0, \\\\\n",
        "&\\text{At } x = \\frac{\\pi}{2}, && y\\left(\\frac{\\pi}{2}\\right) = \\frac{\\pi}{2} \\cdot \\sin\\left(\\frac{\\pi}{2}\\right) = \\frac{\\pi}{2}, \\\\\n",
        "&\\text{At } x = \\pi, && y(\\pi) = \\pi \\cdot \\sin(\\pi) = 0, \\\\\n",
        "&\\text{At } x = \\frac{3\\pi}{2}, && y\\left(\\frac{3\\pi}{2}\\right) = \\frac{3\\pi}{2} \\cdot \\sin\\left(\\frac{3\\pi}{2}\\right) = -\\frac{3\\pi}{2}, \\\\\n",
        "&\\text{At } x = 2\\pi, && y(2\\pi) = 2\\pi \\cdot \\sin(2\\pi) = 0.\n",
        "\\end{aligned}\n",
        "\\]\n",
        "\n",
        "---\n",
        "\n",
        "### Step 5: Graph Behavior\n",
        "- The function oscillates between increasingly large positive and negative values as \\( x \\) grows.\n",
        "- The zeros of \\( y(x) \\) occur at \\( x = n\\pi \\), where \\( n \\in \\mathbb{Z} \\), because \\( \\sin(n\\pi) = 0 \\).\n",
        "\n",
        "---\n",
        "\n",
        "### Summary:\n",
        "- The function \\( y(x) = x \\sin(x) \\) grows in oscillatory behavior with an amplitude proportional to \\( x \\).\n",
        "- **Derivative**: \\( y'(x) = \\sin(x) + x \\cos(x) \\),\n",
        "- **Zeros**: \\( x = n\\pi \\), where \\( n \\in \\mathbb{Z} \\).\n",
        "\n"
      ],
      "metadata": {
        "id": "XZsxKYskRpj5"
      }
    },
    {
      "cell_type": "code",
      "source": [
        "def y(x):\n",
        "    return (x + 1) ** 2\n",
        "\n",
        "# Örnek kullanım\n",
        "x_value = float(input(\"x değerini girin: \"))\n",
        "result = y(x_value)\n",
        "print(f\"y({x_value}) = {result}\")\n",
        "\n"
      ],
      "metadata": {
        "id": "pUvMh56lbTBu",
        "outputId": "5072d2d1-29bb-43a9-a41c-11ed7134cb9a",
        "colab": {
          "base_uri": "https://localhost:8080/"
        }
      },
      "execution_count": null,
      "outputs": [
        {
          "output_type": "stream",
          "name": "stdout",
          "text": [
            "x değerini girin: 2\n",
            "y(2.0) = 9.0\n"
          ]
        }
      ]
    },
    {
      "cell_type": "markdown",
      "source": [],
      "metadata": {
        "id": "y18f3xNeR5cI"
      }
    },
    {
      "cell_type": "code",
      "source": [
        "def y(x):\n",
        "    return x / (x + 1)\n",
        "\n",
        "# Örnek kullanım\n",
        "x_value = float(input(\"x değerini girin: \"))\n",
        "if x_value == -1:\n",
        "    print(\"x = -1 için tanımsızdır (bölme sıfıra bölünemez).\")\n",
        "else:\n",
        "    result = y(x_value)\n",
        "    print(f\"y({x_value}) = {result}\")\n",
        "\n"
      ],
      "metadata": {
        "id": "R6drkaZybcR4",
        "outputId": "e5a2e31d-c734-476a-912f-6f3245be916d",
        "colab": {
          "base_uri": "https://localhost:8080/"
        }
      },
      "execution_count": null,
      "outputs": [
        {
          "output_type": "stream",
          "name": "stdout",
          "text": [
            "x değerini girin: 1\n",
            "y(1.0) = 0.5\n"
          ]
        }
      ]
    },
    {
      "cell_type": "code",
      "source": [
        "import math\n",
        "\n",
        "def y(x):\n",
        "    return (x + 1) * math.exp(x)\n",
        "\n",
        "# Örnek kullanım\n",
        "x_value = float(input(\"x değerini girin: \"))\n",
        "result = y(x_value)\n",
        "print(f\"y({x_value}) = {result}\")\n"
      ],
      "metadata": {
        "id": "fKwfLxpobli0",
        "outputId": "320c69a9-6341-4545-c4e7-4f0de0f0c4d3",
        "colab": {
          "base_uri": "https://localhost:8080/"
        }
      },
      "execution_count": null,
      "outputs": [
        {
          "output_type": "stream",
          "name": "stdout",
          "text": [
            "x değerini girin: 1\n",
            "y(1.0) = 5.43656365691809\n"
          ]
        }
      ]
    },
    {
      "cell_type": "code",
      "source": [
        "import math\n",
        "\n",
        "def y(x):\n",
        "    return math.sin(x ** 2)\n",
        "\n",
        "# Örnek kullanım\n",
        "x_value = float(input(\"x değerini girin: \"))\n",
        "result = y(x_value)\n",
        "print(f\"y({x_value}) = {result}\")\n",
        "\n"
      ],
      "metadata": {
        "id": "KxUaoDGnbrwp",
        "outputId": "d1001619-3dc5-4270-c48e-31429a7eeddc",
        "colab": {
          "base_uri": "https://localhost:8080/"
        }
      },
      "execution_count": null,
      "outputs": [
        {
          "output_type": "stream",
          "name": "stdout",
          "text": [
            "x değerini girin: 2\n",
            "y(2.0) = -0.7568024953079282\n"
          ]
        }
      ]
    },
    {
      "cell_type": "code",
      "source": [
        "import math\n",
        "\n",
        "def y(x):\n",
        "    return math.exp(-2 * x)\n",
        "\n",
        "# Örnek kullanım\n",
        "x_value = float(input(\"x değerini girin: \"))\n",
        "result = y(x_value)\n",
        "print(f\"y({x_value}) = {result}\")\n"
      ],
      "metadata": {
        "id": "zpWs_lbcb0uA",
        "outputId": "6bf39eaa-c7ac-4580-a161-e90dbc5e81ed",
        "colab": {
          "base_uri": "https://localhost:8080/"
        }
      },
      "execution_count": null,
      "outputs": [
        {
          "output_type": "stream",
          "name": "stdout",
          "text": [
            "x değerini girin: 1\n",
            "y(1.0) = 0.1353352832366127\n"
          ]
        }
      ]
    },
    {
      "cell_type": "code",
      "source": [
        "import math\n",
        "\n",
        "def y(x):\n",
        "    return 1 / math.sin(x + 1)\n",
        "\n",
        "# Örnek kullanım\n",
        "x_value = float(input(\"x değerini girin: \"))\n",
        "if math.sin(x_value + 1) == 0:\n",
        "    print(\"x + 1 için sin(x + 1) sıfırdır, tanımsızdır.\")\n",
        "else:\n",
        "    result = y(x_value)\n",
        "    print(f\"y({x_value}) = {result}\")\n"
      ],
      "metadata": {
        "id": "rXt2Dsi1b3EJ",
        "outputId": "5817ca75-9834-4ffb-c970-b21d67ee798b",
        "colab": {
          "base_uri": "https://localhost:8080/"
        }
      },
      "execution_count": null,
      "outputs": [
        {
          "output_type": "stream",
          "name": "stdout",
          "text": [
            "x değerini girin: 0\n",
            "y(0.0) = 1.1883951057781212\n"
          ]
        }
      ]
    },
    {
      "cell_type": "code",
      "source": [
        "import math\n",
        "\n",
        "def y(x):\n",
        "    return math.sqrt(2 * x + 1)\n",
        "\n",
        "# Örnek kullanım\n",
        "x_value = float(input(\"x değerini girin: \"))\n",
        "if 2 * x_value + 1 < 0:\n",
        "    print(\"İçerideki ifade negatif, karekök tanımsızdır.\")\n",
        "else:\n",
        "    result = y(x_value)\n",
        "    print(f\"y({x_value}) = {result}\")\n"
      ],
      "metadata": {
        "id": "I9QbHmpDcBbd",
        "outputId": "093078db-01c6-4873-d4ba-65c128911151",
        "colab": {
          "base_uri": "https://localhost:8080/"
        }
      },
      "execution_count": null,
      "outputs": [
        {
          "output_type": "stream",
          "name": "stdout",
          "text": [
            "x değerini girin: 2\n",
            "y(2.0) = 2.23606797749979\n"
          ]
        }
      ]
    },
    {
      "cell_type": "markdown",
      "source": [
        "Exercise 2"
      ],
      "metadata": {
        "id": "qRzTmbwHcHgh"
      }
    },
    {
      "cell_type": "code",
      "source": [
        "import sympy as sp\n",
        "\n",
        "# Define the symbol x\n",
        "x = sp.symbols('x')\n",
        "\n",
        "# Define the function ln(sin(x))\n",
        "f = sp.ln(sp.sin(x))\n",
        "\n",
        "# Compute the derivative of the function with respect to x\n",
        "derivative = sp.diff(f, x)\n",
        "\n",
        "# Simplify the result\n",
        "simplified_derivative = sp.simplify(derivative)\n",
        "\n",
        "# Print the result\n",
        "print(\"The derivative of ln(sin(x)) is:\", simplified_derivative)\n"
      ],
      "metadata": {
        "id": "CRRArsSxcJbb",
        "outputId": "bfb78a83-6c34-4415-fc89-39d742676b74",
        "colab": {
          "base_uri": "https://localhost:8080/"
        }
      },
      "execution_count": null,
      "outputs": [
        {
          "output_type": "stream",
          "name": "stdout",
          "text": [
            "The derivative of ln(sin(x)) is: 1/tan(x)\n"
          ]
        }
      ]
    },
    {
      "cell_type": "markdown",
      "source": [
        "Exercise 3\n"
      ],
      "metadata": {
        "id": "yGfvubGkcTa3"
      }
    },
    {
      "cell_type": "code",
      "source": [
        "import sympy as sp\n",
        "\n",
        "# Define the symbol x\n",
        "x = sp.symbols('x')\n",
        "\n",
        "# Define the function f(x) = cos(x)\n",
        "f = sp.cos(x)\n",
        "\n",
        "# Compute the first and second derivatives of f(x)\n",
        "f_prime = sp.diff(f, x)\n",
        "f_double_prime = sp.diff(f_prime, x)\n",
        "\n",
        "# Simplify the second derivative\n",
        "simplified_f_double_prime = sp.simplify(f_double_prime)\n",
        "\n",
        "# Print the results\n",
        "print(\"f'(x) = \", f_prime)\n",
        "import sympy as sp\n",
        "\n",
        "# Define the symbol x\n",
        "x = sp.symbols('x')\n",
        "\n",
        "# Define the function f(x) = cos(x)\n",
        "f = sp.cos(x)\n",
        "\n",
        "# Compute the first and second derivatives of f(x)\n",
        "f_prime = sp.diff(f, x)\n",
        "f_double_prime = sp.diff(f_prime, x)\n",
        "\n",
        "# Simplify the second derivative\n",
        "simplified_f_double_prime = sp.simplify(f_double_prime)\n",
        "\n",
        "# Print the results\n",
        "print(\"f'(x) = \", f_prime)\n",
        "print(\"f''(x) = \", f_double_prime)\n",
        "print(\"Is f''(x) = -f(x)?\", simplified_f_double_prime == -f)"
      ],
      "metadata": {
        "id": "tF1gRr1ncWrq",
        "outputId": "1be734b4-4fc4-4fc1-dcbd-508f866e8a95",
        "colab": {
          "base_uri": "https://localhost:8080/"
        }
      },
      "execution_count": null,
      "outputs": [
        {
          "output_type": "stream",
          "name": "stdout",
          "text": [
            "f'(x) =  -sin(x)\n",
            "f'(x) =  -sin(x)\n",
            "f''(x) =  -cos(x)\n",
            "Is f''(x) = -f(x)? True\n"
          ]
        }
      ]
    },
    {
      "cell_type": "markdown",
      "source": [
        "Exercise 4"
      ],
      "metadata": {
        "id": "BLTo3pCocdYh"
      }
    },
    {
      "cell_type": "code",
      "source": [
        "import sympy as sp\n",
        "\n",
        "# Define the symbol x\n",
        "x = sp.symbols('x')\n",
        "\n",
        "# Define the function sin(x) / x\n",
        "f = sp.sin(x) / x\n",
        "\n",
        "# Compute the limit as x approaches 0\n",
        "limit_value = sp.limit(f, x, 0)\n",
        "\n",
        "# Print the result\n",
        "print(\"The limit is:\", limit_value)\n"
      ],
      "metadata": {
        "id": "lHJoOGVmcdQZ",
        "outputId": "b69cfd45-8361-478e-bf23-670ed7fe3530",
        "colab": {
          "base_uri": "https://localhost:8080/"
        }
      },
      "execution_count": null,
      "outputs": [
        {
          "output_type": "stream",
          "name": "stdout",
          "text": [
            "The limit is: 1\n"
          ]
        }
      ]
    },
    {
      "cell_type": "code",
      "source": [
        "import sympy as sp\n",
        "\n",
        "# Define the symbol x\n",
        "x = sp.symbols('x')\n",
        "\n",
        "# Define the function ln(x) / x\n",
        "f = sp.ln(x) / x\n",
        "\n",
        "# Compute the limit as x approaches infinity\n",
        "limit_value = sp.limit(f, x, sp.oo)\n",
        "\n",
        "# Print the result\n",
        "print(\"The limit is:\", limit_value)\n"
      ],
      "metadata": {
        "id": "LYR1tcCgchCu",
        "outputId": "868aaef7-cd60-47a4-b3eb-7f4556dce14d",
        "colab": {
          "base_uri": "https://localhost:8080/"
        }
      },
      "execution_count": null,
      "outputs": [
        {
          "output_type": "stream",
          "name": "stdout",
          "text": [
            "The limit is: 0\n"
          ]
        }
      ]
    },
    {
      "cell_type": "code",
      "source": [
        "import sympy as sp\n",
        "\n",
        "# Define the symbol x\n",
        "x = sp.symbols('x')\n",
        "\n",
        "# Define the function ln(x) / x\n",
        "f = sp.ln(x) / x\n",
        "\n",
        "# Compute the limit as x approaches infinity\n",
        "limit_value = sp.limit(f, x, sp.oo)\n",
        "\n",
        "# Print the result\n",
        "print(\"The limit is:\", limit_value)\n"
      ],
      "metadata": {
        "id": "gFIqeGHLcod1",
        "outputId": "9406a687-4ec1-4d1c-cdab-f048419b5095",
        "colab": {
          "base_uri": "https://localhost:8080/"
        }
      },
      "execution_count": null,
      "outputs": [
        {
          "output_type": "stream",
          "name": "stdout",
          "text": [
            "The limit is: 0\n"
          ]
        }
      ]
    },
    {
      "cell_type": "markdown",
      "source": [
        "Exercise 5"
      ],
      "metadata": {
        "id": "3PIqi69gcssZ"
      }
    },
    {
      "cell_type": "code",
      "source": [
        "import sympy as sp\n",
        "\n",
        "# Define the symbol t\n",
        "t = sp.symbols('t')\n",
        "\n",
        "# Define the position function x(t)\n",
        "x = 3 * t**2 - 6 * t + 1\n",
        "\n",
        "# Compute the first derivative (velocity)\n",
        "V = sp.diff(x, t)\n",
        "\n",
        "# Compute the second derivative (acceleration)\n",
        "a = sp.diff(V, t)\n",
        "\n",
        "# Evaluate the velocity and acceleration at t = 2\n",
        "V_at_2 = V.subs(t, 2)\n",
        "a_at_2 = a.subs(t, 2)\n",
        "\n",
        "# Print the results\n",
        "print(\"Velocity at t = 2:\", V_at_2)\n",
        "print(\"Acceleration at t = 2:\", a_at_2)\n"
      ],
      "metadata": {
        "id": "h2nWjVdPcuTc",
        "outputId": "6096d3ec-b8c8-4e63-cea2-041646498a3a",
        "colab": {
          "base_uri": "https://localhost:8080/"
        }
      },
      "execution_count": null,
      "outputs": [
        {
          "output_type": "stream",
          "name": "stdout",
          "text": [
            "Velocity at t = 2: 6\n",
            "Acceleration at t = 2: 6\n"
          ]
        }
      ]
    },
    {
      "cell_type": "markdown",
      "source": [
        "Exercise 6"
      ],
      "metadata": {
        "id": "gMTKWGhxfFgI"
      }
    },
    {
      "cell_type": "code",
      "source": [
        "import sympy as sp\n",
        "\n",
        "# Define the symbol\n",
        "x = sp.symbols('x')\n",
        "\n",
        "# Define functions\n",
        "functions = {\n",
        "    \"y1\": sp.sqrt(x),\n",
        "    \"y2\": sp.cos(x) + sp.sin(x),\n",
        "    \"y3\": 2 * sp.sin(x) * sp.cos(x),\n",
        "    \"y4\": x * sp.sin(x),\n",
        "    \"y5\": (x + 1) * (x + 1),\n",
        "    \"y6\": -x / (x + 1),\n",
        "    \"y7\": (x + 1) * sp.exp(x),\n",
        "    \"y8\": sp.sin(x**2),\n",
        "    \"y9\": sp.exp(-2 * x),\n",
        "    \"y10\": 1 / sp.sin(x + 1),\n",
        "    \"y11\": sp.sqrt(2 * x + 1)\n",
        "}\n",
        "\n",
        "# Calculate derivatives\n",
        "derivatives = {name: sp.diff(func, x) for name, func in functions.items()}\n",
        "\n",
        "# Print results\n",
        "for name, func in functions.items():\n",
        "    print(f\"{name}(x) = {func}\")\n",
        "    print(f\"{name}'(x) = {derivatives[name]}\")\n",
        "    print()\n"
      ],
      "metadata": {
        "id": "MM0RoFHDfEOB",
        "outputId": "8d682402-0b74-45c7-c145-b480071b1a53",
        "colab": {
          "base_uri": "https://localhost:8080/"
        }
      },
      "execution_count": null,
      "outputs": [
        {
          "output_type": "stream",
          "name": "stdout",
          "text": [
            "y1(x) = sqrt(x)\n",
            "y1'(x) = 1/(2*sqrt(x))\n",
            "\n",
            "y2(x) = sin(x) + cos(x)\n",
            "y2'(x) = -sin(x) + cos(x)\n",
            "\n",
            "y3(x) = 2*sin(x)*cos(x)\n",
            "y3'(x) = -2*sin(x)**2 + 2*cos(x)**2\n",
            "\n",
            "y4(x) = x*sin(x)\n",
            "y4'(x) = x*cos(x) + sin(x)\n",
            "\n",
            "y5(x) = (x + 1)**2\n",
            "y5'(x) = 2*x + 2\n",
            "\n",
            "y6(x) = -x/(x + 1)\n",
            "y6'(x) = x/(x + 1)**2 - 1/(x + 1)\n",
            "\n",
            "y7(x) = (x + 1)*exp(x)\n",
            "y7'(x) = (x + 1)*exp(x) + exp(x)\n",
            "\n",
            "y8(x) = sin(x**2)\n",
            "y8'(x) = 2*x*cos(x**2)\n",
            "\n",
            "y9(x) = exp(-2*x)\n",
            "y9'(x) = -2*exp(-2*x)\n",
            "\n",
            "y10(x) = 1/sin(x + 1)\n",
            "y10'(x) = -cos(x + 1)/sin(x + 1)**2\n",
            "\n",
            "y11(x) = sqrt(2*x + 1)\n",
            "y11'(x) = 1/sqrt(2*x + 1)\n",
            "\n"
          ]
        }
      ]
    },
    {
      "cell_type": "markdown",
      "source": [
        "Exercise 7"
      ],
      "metadata": {
        "id": "wzijO-bxfIkl"
      }
    },
    {
      "cell_type": "code",
      "source": [
        "import sympy as sp\n",
        "\n",
        "# Define the symbol\n",
        "x = sp.symbols('x')\n",
        "\n",
        "# Define the function\n",
        "y = sp.cos(x) + sp.sin(x)\n",
        "\n",
        "# Compute the derivative\n",
        "dy = sp.diff(y, x)\n",
        "\n",
        "# Print the results\n",
        "print(\"y(x) =\", y)\n",
        "print(\"y'(x) =\", dy)\n"
      ],
      "metadata": {
        "id": "2WPMxLKTfVbM",
        "outputId": "f2ea9611-972a-462f-be04-313e13287bbf",
        "colab": {
          "base_uri": "https://localhost:8080/"
        }
      },
      "execution_count": null,
      "outputs": [
        {
          "output_type": "stream",
          "name": "stdout",
          "text": [
            "y(x) = sin(x) + cos(x)\n",
            "y'(x) = -sin(x) + cos(x)\n"
          ]
        }
      ]
    },
    {
      "cell_type": "markdown",
      "source": [
        "Exercise 8\n"
      ],
      "metadata": {
        "id": "d0CKhdODfNay"
      }
    },
    {
      "cell_type": "code",
      "source": [
        "import sympy as sp\n",
        "\n",
        "# Define the symbol\n",
        "x = sp.symbols('x')\n",
        "\n",
        "# Define the function\n",
        "y = 2 * sp.sin(x) * sp.cos(x)\n",
        "\n",
        "# Compute the derivative\n",
        "dy = sp.diff(y, x)\n",
        "\n",
        "# Print the results\n",
        "print(\"y(x) =\", y)\n",
        "print(\"y'(x) =\", dy)\n"
      ],
      "metadata": {
        "id": "zcDxnYqKfdqX",
        "outputId": "929317ba-909c-4ef8-bd9d-f47d0476bec3",
        "colab": {
          "base_uri": "https://localhost:8080/"
        }
      },
      "execution_count": null,
      "outputs": [
        {
          "output_type": "stream",
          "name": "stdout",
          "text": [
            "y(x) = 2*sin(x)*cos(x)\n",
            "y'(x) = -2*sin(x)**2 + 2*cos(x)**2\n"
          ]
        }
      ]
    },
    {
      "cell_type": "markdown",
      "source": [
        "Exercise 9"
      ],
      "metadata": {
        "id": "c_UvMfSGfOdX"
      }
    },
    {
      "cell_type": "code",
      "source": [
        "import sympy as sp\n",
        "\n",
        "# Define the symbol\n",
        "x = sp.symbols('x')\n",
        "\n",
        "# Define the function\n",
        "y = x * sp.sin(x)\n",
        "\n",
        "# Compute the derivative\n",
        "dy = sp.diff(y, x)\n",
        "\n",
        "# Print the results\n",
        "print(\"y(x) =\", y)\n",
        "print(\"y'(x) =\", dy)\n"
      ],
      "metadata": {
        "id": "RGOMi7zffpCz",
        "outputId": "77999d9b-853e-42ce-a379-047e656b7792",
        "colab": {
          "base_uri": "https://localhost:8080/"
        }
      },
      "execution_count": null,
      "outputs": [
        {
          "output_type": "stream",
          "name": "stdout",
          "text": [
            "y(x) = x*sin(x)\n",
            "y'(x) = x*cos(x) + sin(x)\n"
          ]
        }
      ]
    },
    {
      "cell_type": "markdown",
      "source": [
        "Exercise 10"
      ],
      "metadata": {
        "id": "xUKHZM91fPWf"
      }
    },
    {
      "cell_type": "code",
      "source": [
        "import sympy as sp\n",
        "\n",
        "# Define the symbol\n",
        "x = sp.symbols('x')\n",
        "\n",
        "# Define the function\n",
        "y = (x + 1) * (x + 1)  # Equivalent to (x + 1)^2\n",
        "\n",
        "# Compute the derivative\n",
        "dy = sp.diff(y, x)\n",
        "\n",
        "# Print the results\n",
        "print(\"y(x) =\", y)\n",
        "print(\"y'(x) =\", dy)\n",
        "\n"
      ],
      "metadata": {
        "id": "ZXJNraA8fq9G",
        "outputId": "925f939e-5a16-4461-b3c9-068fb037bb8d",
        "colab": {
          "base_uri": "https://localhost:8080/"
        }
      },
      "execution_count": null,
      "outputs": [
        {
          "output_type": "stream",
          "name": "stdout",
          "text": [
            "y(x) = (x + 1)**2\n",
            "y'(x) = 2*x + 2\n"
          ]
        }
      ]
    },
    {
      "cell_type": "markdown",
      "source": [
        "Exercise 11"
      ],
      "metadata": {
        "id": "ycpGliKOfyH1"
      }
    },
    {
      "cell_type": "code",
      "source": [
        "import sympy as sp\n",
        "\n",
        "# Define the symbol\n",
        "x = sp.symbols('x')\n",
        "\n",
        "# Define the function\n",
        "y = x / (x + 1)\n",
        "\n",
        "# Compute the derivative\n",
        "dy = sp.diff(y, x)\n",
        "\n",
        "# Print the results\n",
        "print(\"y(x) =\", y)\n",
        "print(\"y'(x) =\", dy)\n"
      ],
      "metadata": {
        "id": "Dnm3jc57gCtn",
        "outputId": "fe424410-1499-4b21-f146-31ef24c0a014",
        "colab": {
          "base_uri": "https://localhost:8080/"
        }
      },
      "execution_count": null,
      "outputs": [
        {
          "output_type": "stream",
          "name": "stdout",
          "text": [
            "y(x) = x/(x + 1)\n",
            "y'(x) = -x/(x + 1)**2 + 1/(x + 1)\n"
          ]
        }
      ]
    },
    {
      "cell_type": "markdown",
      "source": [
        "Exercise 12\n"
      ],
      "metadata": {
        "id": "eh3dAnJqfy-C"
      }
    },
    {
      "cell_type": "code",
      "source": [
        "import numpy as np\n",
        "import matplotlib.pyplot as plt\n",
        "\n",
        "# Define the function\n",
        "def y(x):\n",
        "    return (x + 1) * np.exp(x)\n",
        "\n",
        "# Generate x values\n",
        "x = np.linspace(-5, 5, 400)\n",
        "\n",
        "# Calculate corresponding y values\n",
        "y_values = y(x)\n",
        "\n",
        "# Plot the graph\n",
        "plt.plot(x, y_values, label=r\"$y(x) = (x + 1) \\exp(x)$\")\n",
        "plt.title(\"Plot of y(x) = (x + 1) * exp(x)\")\n",
        "plt.xlabel(\"x\")\n",
        "plt.ylabel(\"y(x)\")\n",
        "plt.grid(True)\n",
        "plt.legend()\n",
        "plt.show()\n"
      ],
      "metadata": {
        "id": "VcO__VKJgNVV",
        "outputId": "b3ddaf31-a5cd-428e-9561-0c2ad77c352b",
        "colab": {
          "base_uri": "https://localhost:8080/",
          "height": 472
        }
      },
      "execution_count": null,
      "outputs": [
        {
          "output_type": "display_data",
          "data": {
            "text/plain": [
              "<Figure size 640x480 with 1 Axes>"
            ],
            "image/png": "[encoded data removed]"
          },
          "metadata": {}
        }
      ]
    },
    {
      "cell_type": "markdown",
      "source": [
        "Exercise 13"
      ],
      "metadata": {
        "id": "2Sr8_yllf1gc"
      }
    },
    {
      "cell_type": "code",
      "source": [
        "import numpy as np\n",
        "import matplotlib.pyplot as plt\n",
        "\n",
        "# Define the function\n",
        "def y(x):\n",
        "    return np.sin(x**2)\n",
        "\n",
        "# Generate x values\n",
        "x = np.linspace(-5, 5, 400)\n",
        "\n",
        "# Calculate corresponding y values\n",
        "y_values = y(x)\n",
        "\n",
        "# Plot the graph\n",
        "plt.plot(x, y_values, label=r\"$y(x) = \\sin(x^2)$\")\n",
        "plt.title(\"Plot of y(x) = sin(x^2)\")\n",
        "plt.xlabel(\"x\")\n",
        "plt.ylabel(\"y(x)\")\n",
        "plt.grid(True)\n",
        "plt.legend()\n",
        "plt.show()\n"
      ],
      "metadata": {
        "id": "Ss9NuS5mgdzd",
        "outputId": "4aefa2eb-9fe5-42a5-e2fc-c5a36eea3132",
        "colab": {
          "base_uri": "https://localhost:8080/",
          "height": 472
        }
      },
      "execution_count": null,
      "outputs": [
        {
          "output_type": "display_data",
          "data": {
            "text/plain": [
              "<Figure size 640x480 with 1 Axes>"
            ],
            "image/png": "[encoded data removed]"
          },
          "metadata": {}
        }
      ]
    },
    {
      "cell_type": "markdown",
      "source": [
        "Exercise 14"
      ],
      "metadata": {
        "id": "0-WHqXCtf2h9"
      }
    },
    {
      "cell_type": "code",
      "source": [
        "import numpy as np\n",
        "import matplotlib.pyplot as plt\n",
        "\n",
        "# Define the function\n",
        "def y(x):\n",
        "    return np.exp(-2 * x)\n",
        "\n",
        "# Generate x values\n",
        "x = np.linspace(-2, 2, 400)\n",
        "\n",
        "# Calculate corresponding y values\n",
        "y_values = y(x)\n",
        "\n",
        "# Plot the graph\n",
        "plt.plot(x, y_values, label=r\"$y(x) = \\exp(-2x)$\")\n",
        "plt.title(\"Plot of y(x) = exp(-2x)\")\n",
        "plt.xlabel(\"x\")\n",
        "plt.ylabel(\"y(x)\")\n",
        "plt.grid(True)\n",
        "plt.legend()\n",
        "plt.show()\n",
        "\n"
      ],
      "metadata": {
        "id": "gnTf3Ex5gkYV",
        "outputId": "5c5153a7-9072-4dac-d048-4d2aef625dbb",
        "colab": {
          "base_uri": "https://localhost:8080/",
          "height": 472
        }
      },
      "execution_count": null,
      "outputs": [
        {
          "output_type": "display_data",
          "data": {
            "text/plain": [
              "<Figure size 640x480 with 1 Axes>"
            ],
            "image/png": "[encoded data removed]"
          },
          "metadata": {}
        }
      ]
    },
    {
      "cell_type": "markdown",
      "source": [
        "Exercise 15"
      ],
      "metadata": {
        "id": "pZPCHZEKf3bP"
      }
    },
    {
      "cell_type": "code",
      "source": [
        "import numpy as np\n",
        "import matplotlib.pyplot as plt\n",
        "\n",
        "# Define the function\n",
        "def y(x):\n",
        "    return 1 / np.sin(x + 1)\n",
        "\n",
        "# Generate x values, avoiding values where sin(x + 1) is zero\n",
        "x = np.linspace(-10, 10, 400)\n",
        "x = x[np.abs(np.sin(x + 1)) > 0.1]  # Avoid singularities (divisions by zero)\n",
        "\n",
        "# Calculate corresponding y values\n",
        "y_values = y(x)\n",
        "\n",
        "# Plot the graph\n",
        "plt.plot(x, y_values, label=r\"$y(x) = \\frac{1}{\\sin(x + 1)}$\")\n",
        "plt.title(\"Plot of y(x) = 1 / sin(x + 1)\")\n",
        "plt.xlabel(\"x\")\n",
        "plt.ylabel(\"y(x)\")\n",
        "plt.grid(True)\n",
        "plt.legend()\n",
        "plt.show()\n"
      ],
      "metadata": {
        "id": "l9uGtEykgpFK",
        "outputId": "65535816-94ca-48cf-ca50-3f8c503edcf3",
        "colab": {
          "base_uri": "https://localhost:8080/",
          "height": 472
        }
      },
      "execution_count": null,
      "outputs": [
        {
          "output_type": "display_data",
          "data": {
            "text/plain": [
              "<Figure size 640x480 with 1 Axes>"
            ],
            "image/png": "[encoded data removed]"
          },
          "metadata": {}
        }
      ]
    },
    {
      "cell_type": "markdown",
      "source": [
        "Exercise 16"
      ],
      "metadata": {
        "id": "66IGbBIlf4d-"
      }
    },
    {
      "cell_type": "code",
      "source": [
        "import numpy as np\n",
        "import matplotlib.pyplot as plt\n",
        "\n",
        "# Define the function\n",
        "def y(x):\n",
        "    return np.sqrt(2 * x + 1)\n",
        "\n",
        "# Generate x values, making sure the argument of the square root is non-negative\n",
        "x = np.linspace(-0.5, 5, 400)  # x must be >= -1/2 to avoid complex values\n",
        "\n",
        "# Calculate corresponding y values\n",
        "y_values = y(x)\n",
        "\n",
        "# Plot the graph\n",
        "plt.plot(x, y_values, label=r\"$y(x) = \\sqrt{2x + 1}$\")\n",
        "plt.title(\"Plot of y(x) = sqrt(2x + 1)\")\n",
        "plt.xlabel(\"x\")\n",
        "plt.ylabel(\"y(x)\")\n",
        "plt.grid(True)\n",
        "plt.legend()\n",
        "plt.show()\n"
      ],
      "metadata": {
        "id": "eZd4t0lyg2VT",
        "outputId": "7631e480-4c60-4cd2-e7a0-1b17c7a1e35e",
        "colab": {
          "base_uri": "https://localhost:8080/",
          "height": 472
        }
      },
      "execution_count": null,
      "outputs": [
        {
          "output_type": "display_data",
          "data": {
            "text/plain": [
              "<Figure size 640x480 with 1 Axes>"
            ],
            "image/png": "[encoded data removed]"
          },
          "metadata": {}
        }
      ]
    },
    {
      "cell_type": "markdown",
      "source": [
        "Exercise 2.1"
      ],
      "metadata": {
        "id": "T4owCdKCg92U"
      }
    },
    {
      "cell_type": "code",
      "source": [
        "import numpy as np\n",
        "import matplotlib.pyplot as plt\n",
        "\n",
        "# Define the function y = ln(sin(x))\n",
        "def y(x):\n",
        "    return np.log(np.sin(x))\n",
        "\n",
        "# Define the derivative of y = ln(sin(x)), which is cot(x)\n",
        "def derivative_y(x):\n",
        "    return np.cos(x) / np.sin(x)\n",
        "\n",
        "# Generate x values, avoiding points where sin(x) is zero (to avoid division by zero)\n",
        "x = np.linspace(0.1, 10, 400)\n",
        "\n",
        "# Calculate y values and derivative values\n",
        "y_values = y(x)\n",
        "derivative_values = derivative_y(x)\n",
        "\n",
        "# Plot the function and its derivative\n",
        "plt.plot(x, y_values, label=r\"$y(x) = \\ln(\\sin(x))$\", color='blue')\n",
        "plt.plot(x, derivative_values, label=r\"$\\frac{d}{dx} \\ln(\\sin(x)) = \\cot(x)$\", color='red', linestyle='dashed')\n",
        "\n",
        "# Add labels and title\n",
        "plt.title(\"Plot of y(x) = ln(sin(x)) and its Derivative\")\n",
        "plt.xlabel(\"x\")\n",
        "plt.ylabel(\"y(x) and Derivative\")\n",
        "plt.grid(True)\n",
        "plt.legend()\n",
        "plt.show()\n"
      ],
      "metadata": {
        "id": "pZl1Teerg_X0",
        "outputId": "5eab81c7-1b26-4884-ccf9-291071381670",
        "colab": {
          "base_uri": "https://localhost:8080/",
          "height": 507
        }
      },
      "execution_count": null,
      "outputs": [
        {
          "output_type": "stream",
          "name": "stderr",
          "text": [
            "<ipython-input-12-aaa3626db6df>:6: RuntimeWarning: invalid value encountered in log\n",
            "  return np.log(np.sin(x))\n"
          ]
        },
        {
          "output_type": "display_data",
          "data": {
            "text/plain": [
              "<Figure size 640x480 with 1 Axes>"
            ],
            "image/png": "[encoded data removed]"
          },
          "metadata": {}
        }
      ]
    },
    {
      "cell_type": "markdown",
      "source": [
        "Exercise 3.1\n"
      ],
      "metadata": {
        "id": "858eU2DzhJ6m"
      }
    },
    {
      "cell_type": "code",
      "source": [
        "import numpy as np\n",
        "import matplotlib.pyplot as plt\n",
        "\n",
        "# Define the function f(x) = cos(x)\n",
        "def f(x):\n",
        "    return np.cos(x)\n",
        "\n",
        "# Define the first derivative f'(x) = -sin(x)\n",
        "def f_prime(x):\n",
        "    return -np.sin(x)\n",
        "\n",
        "# Define the second derivative f''(x) = -cos(x)\n",
        "def f_double_prime(x):\n",
        "    return -np.cos(x)\n",
        "\n",
        "# Generate x values\n",
        "x = np.linspace(0, 2 * np.pi, 400)\n",
        "\n",
        "# Calculate f(x), f'(x), and f''(x)\n",
        "f_values = f(x)\n",
        "f_prime_values = f_prime(x)\n",
        "f_double_prime_values = f_double_prime(x)\n",
        "\n",
        "# Plot the functions\n",
        "plt.plot(x, f_values, label=r\"$f(x) = \\cos(x)$\", color='blue')\n",
        "plt.plot(x, f_prime_values, label=r\"$f'(x) = -\\sin(x)$\", color='green', linestyle='dashed')\n",
        "plt.plot(x, f_double_prime_values, label=r\"$f''(x) = -\\cos(x)$\", color='red', linestyle='dotted')\n",
        "\n",
        "# Add labels and title\n",
        "plt.title(\"Plot of $f(x)$, $f'(x)$, and $f''(x)$ for $f(x) = \\cos(x)$\")\n",
        "plt.xlabel(\"x\")\n",
        "plt.ylabel(\"y\")\n",
        "plt.grid(True)\n",
        "plt.legend()\n",
        "plt.show()\n"
      ],
      "metadata": {
        "id": "fZcp8FRWhLL-",
        "outputId": "9d526fd4-4854-4d55-fb28-0559d7ce02d2",
        "colab": {
          "base_uri": "https://localhost:8080/",
          "height": 474
        }
      },
      "execution_count": null,
      "outputs": [
        {
          "output_type": "display_data",
          "data": {
            "text/plain": [
              "<Figure size 640x480 with 1 Axes>"
            ],
            "image/png": "[encoded data removed]"
          },
          "metadata": {}
        }
      ]
    },
    {
      "cell_type": "markdown",
      "source": [
        "Exercise 4.1\n"
      ],
      "metadata": {
        "id": "qelYuZY7hTZk"
      }
    },
    {
      "cell_type": "code",
      "source": [
        "import numpy as np\n",
        "import matplotlib.pyplot as plt\n",
        "\n",
        "# Define the function f(x) = sin(x) / x\n",
        "def f(x):\n",
        "    # Avoid division by zero by replacing x=0 with a small value\n",
        "    return np.sin(x) / x\n",
        "\n",
        "# Generate x values, avoiding zero directly (using a small value near zero)\n",
        "x = np.linspace(-0.1, 0.1, 400)\n",
        "x = x[x != 0]  # Exclude x = 0\n",
        "\n",
        "# Calculate corresponding y values\n",
        "y_values = f(x)\n",
        "\n",
        "# Plot the graph\n",
        "plt.plot(x, y_values, label=r\"$\\frac{\\sin(x)}{x}$\")\n",
        "plt.axhline(1, color='red', linestyle='dashed', label='y = 1 (limit value)')\n",
        "\n",
        "# Add labels and title\n",
        "plt.title(r\"Plot of $\\frac{\\sin(x)}{x}$ as $x \\to 0$\")\n",
        "plt.xlabel(\"x\")\n",
        "plt.ylabel(r\"$\\frac{\\sin(x)}{x}$\")\n",
        "plt.grid(True)\n",
        "plt.legend()\n",
        "plt.show()\n"
      ],
      "metadata": {
        "id": "GZsWhCzZhVHN",
        "outputId": "361e5b85-ac9f-41ac-8f74-1b1faa47c223",
        "colab": {
          "base_uri": "https://localhost:8080/",
          "height": 479
        }
      },
      "execution_count": null,
      "outputs": [
        {
          "output_type": "display_data",
          "data": {
            "text/plain": [
              "<Figure size 640x480 with 1 Axes>"
            ],
            "image/png": "[encoded data removed]"
          },
          "metadata": {}
        }
      ]
    },
    {
      "cell_type": "markdown",
      "source": [
        "Exercise 4.2\n"
      ],
      "metadata": {
        "id": "6qJbidzGhgMH"
      }
    },
    {
      "cell_type": "code",
      "source": [
        "import numpy as np\n",
        "import matplotlib.pyplot as plt\n",
        "\n",
        "# Define the function f(x) = ln(x) / x\n",
        "def f(x):\n",
        "    return np.log(x) / x\n",
        "\n",
        "# Generate x values, starting from a small positive value to avoid division by zero\n",
        "x = np.linspace(1, 100, 400)\n",
        "\n",
        "# Calculate corresponding y values\n",
        "y_values = f(x)\n",
        "\n",
        "# Plot the graph\n",
        "plt.plot(x, y_values, label=r\"$\\frac{\\ln(x)}{x}$\")\n",
        "\n",
        "# Add horizontal line y = 0 to show the limiting value\n",
        "plt.axhline(0, color='red', linestyle='dashed', label=\"y = 0 (limit value)\")\n",
        "\n",
        "# Add labels and title\n",
        "plt.title(r\"Plot of $\\frac{\\ln(x)}{x}$ as $x \\to \\infty$\")\n",
        "plt.xlabel(\"x\")\n",
        "plt.ylabel(r\"$\\frac{\\ln(x)}{x}$\")\n",
        "plt.grid(True)\n",
        "plt.legend()\n",
        "plt.show()\n"
      ],
      "metadata": {
        "id": "VnuwIrIqhjcf",
        "outputId": "cb24d2d8-b31a-4557-f7ac-e6ea8a78fcc7",
        "colab": {
          "base_uri": "https://localhost:8080/",
          "height": 479
        }
      },
      "execution_count": null,
      "outputs": [
        {
          "output_type": "display_data",
          "data": {
            "text/plain": [
              "<Figure size 640x480 with 1 Axes>"
            ],
            "image/png": "[encoded data removed]"
          },
          "metadata": {}
        }
      ]
    },
    {
      "cell_type": "markdown",
      "source": [
        "Exercise 4.3"
      ],
      "metadata": {
        "id": "bDHBAJPYhhY1"
      }
    },
    {
      "cell_type": "code",
      "source": [
        "import numpy as np\n",
        "import matplotlib.pyplot as plt\n",
        "\n",
        "# Define the function f(x) = exp(x) / x\n",
        "def f(x):\n",
        "    return np.exp(x) / x\n",
        "\n",
        "# Generate x values starting from 1 to avoid division by zero\n",
        "x = np.linspace(1, 20, 400)\n",
        "\n",
        "# Calculate corresponding y values\n",
        "y_values = f(x)\n",
        "\n",
        "# Plot the graph\n",
        "plt.plot(x, y_values, label=r\"$\\frac{\\exp(x)}{x}$\")\n",
        "\n",
        "# Add labels and title\n",
        "plt.title(r\"Plot of $\\frac{\\exp(x)}{x}$ as $x \\to \\infty$\")\n",
        "plt.xlabel(\"x\")\n",
        "plt.ylabel(r\"$\\frac{\\exp(x)}{x}$\")\n",
        "plt.grid(True)\n",
        "plt.legend()\n",
        "plt.show()\n",
        "\n"
      ],
      "metadata": {
        "id": "akfds8K_hpjy",
        "outputId": "adf519e4-3fdf-4d92-f684-8617bc103c77",
        "colab": {
          "base_uri": "https://localhost:8080/",
          "height": 480
        }
      },
      "execution_count": null,
      "outputs": [
        {
          "output_type": "display_data",
          "data": {
            "text/plain": [
              "<Figure size 640x480 with 1 Axes>"
            ],
            "image/png": "[encoded data removed]"
          },
          "metadata": {}
        }
      ]
    },
    {
      "cell_type": "markdown",
      "source": [
        "Exercise 5"
      ],
      "metadata": {
        "id": "i_S3IyCrhr5e"
      }
    },
    {
      "cell_type": "code",
      "source": [
        "import sympy as sp\n",
        "\n",
        "# Define the variable and position function\n",
        "t = sp.symbols('t')\n",
        "x = 3 * t**2 - 6 * t + 1\n",
        "\n",
        "# Compute the first and second derivatives (velocity and acceleration)\n",
        "V = sp.diff(x, t)  # Velocity = x'(t)\n",
        "a = sp.diff(V, t)  # Acceleration = V'(t) = x''(t)\n",
        "\n",
        "# Calculate velocity and acceleration at t = 2\n",
        "velocity_at_2 = V.subs(t, 2)\n",
        "acceleration_at_2 = a.subs(t, 2)\n",
        "\n",
        "# Print the results\n",
        "print(f\"Velocity at t = 2: {velocity_at_2}\")\n",
        "print(f\"Acceleration at t = 2: {acceleration_at_2}\")\n"
      ],
      "metadata": {
        "id": "y44K9ue5htKa",
        "outputId": "6173343a-bffd-4062-e164-f21455fa13c5",
        "colab": {
          "base_uri": "https://localhost:8080/"
        }
      },
      "execution_count": null,
      "outputs": [
        {
          "output_type": "stream",
          "name": "stdout",
          "text": [
            "Velocity at t = 2: 6\n",
            "Acceleration at t = 2: 6\n"
          ]
        }
      ]
    }
  ]
}