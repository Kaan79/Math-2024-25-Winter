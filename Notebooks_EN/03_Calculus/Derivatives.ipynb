{
  "nbformat": 4,
  "nbformat_minor": 0,
  "metadata": {
    "colab": {
      "provenance": []
    },
    "kernelspec": {
      "name": "python3",
      "display_name": "Python 3"
    },
    "language_info": {
      "name": "python"
    }
  },
  "cells": [
    {
      "cell_type": "markdown",
      "source": [
        "# Derivative Formulas\n",
        "\n",
        "## Basic Derivatives\n",
        "\n",
        "1. **Power Rule**:  \n",
        "   If \\( y = x^n \\), then the derivative is:  \n",
        "   $$ \\frac{d}{dx}(x^n) = n x^{n-1} $$\n",
        "\n",
        "2. **Sum and Difference Rule**:  \n",
        "   If \\( y = f(x) + g(x) \\), then the derivative is:  \n",
        "   $$ \\frac{d}{dx}[f(x) + g(x)] = \\frac{d}{dx}[f(x)] + \\frac{d}{dx}[g(x)] $$\n",
        "\n",
        "   Similarly, for difference:  \n",
        "   $$ \\frac{d}{dx}[f(x) - g(x)] = \\frac{d}{dx}[f(x)] - \\frac{d}{dx}[g(x)] $$\n",
        "\n",
        "3. **Constant Rule**:  \n",
        "   If \\( y = c \\) (where \\( c \\) is a constant), then:  \n",
        "   $$ \\frac{d}{dx}(c) = 0 $$\n",
        "\n",
        "## Common Derivatives\n",
        "\n",
        "1. **Derivative of \\( e^x \\)**:  \n",
        "   $$ \\frac{d}{dx}(e^x) = e^x $$\n",
        "\n",
        "2. **Derivative of \\( \\sin(x) \\)**:  \n",
        "   $$ \\frac{d}{dx}(\\sin(x)) = \\cos(x) $$\n",
        "\n",
        "3. **Derivative of \\( \\cos(x) \\)**:  \n",
        "   $$ \\frac{d}{dx}(\\cos(x)) = -\\sin(x) $$\n",
        "\n",
        "4. **Derivative of \\( \\tan(x) \\)**:  \n",
        "   $$ \\frac{d}{dx}(\\tan(x)) = \\sec^2(x) $$\n",
        "\n",
        "5. **Derivative of \\( \\ln(x) \\)**:  \n",
        "   $$ \\frac{d}{dx}(\\ln(x)) = \\frac{1}{x} $$\n",
        "\n",
        "## Product and Quotient Rules\n",
        "\n",
        "1. **Product Rule**:  \n",
        "   If \\( y = f(x)g(x) \\), then:  \n",
        "   $$ \\frac{d}{dx}[f(x)g(x)] = f'(x)g(x) + f(x)g'(x) $$\n",
        "\n",
        "2. **Quotient Rule**:  \n",
        "   If \\( y = \\frac{f(x)}{g(x)} \\), then:  \n",
        "   $$ \\frac{d}{dx}\\left(\\frac{f(x)}{g(x)}\\right) = \\frac{f'(x)g(x) - f(x)g'(x)}{(g(x))^2} $$\n",
        "\n",
        "## Chain Rule\n",
        "\n",
        "1. **Chain Rule**:  \n",
        "   If \\( y = f(g(x)) \\), then:  \n",
        "   $$ \\frac{d}{dx}[f(g(x))] = f'(g(x)) \\cdot g'(x) $$\n",
        "\n",
        "## Special Derivatives\n",
        "\n",
        "1. **Derivative of \\( \\sqrt{x} \\)**:  \n",
        "   $$ \\frac{d}{dx}(\\sqrt{x}) = \\frac{1}{2\\sqrt{x}} $$\n",
        "\n",
        "2. **Derivative of \\( x^n \\) (for non-integer \\( n \\))**:  \n",
        "   $$ \\frac{d}{dx}(x^n) = n x^{n-1} $$\n",
        "\n",
        "## Example: Derivative of \\( y(x) = -3x + 3 \\)\n",
        "\n",
        "For the function \\( y(x) = -3x + 3 \\), using the power rule, the derivative is:  \n",
        "$$ \\frac{d}{dx}(-3x + 3) = -3 $$\n",
        "\n",
        "This is because the derivative of \\( -3x \\) is \\( -3 \\) and the derivative of the constant \\( 3 \\) is \\( 0 \\).\n",
        "\n",
        "---\n",
        "\n",
        "These formulas will help you to solve most derivative problems, including those involving polynomials, trigonometric functions, and composite functions.\n"
      ],
      "metadata": {
        "id": "lNAvbv8YYfcY"
      }
    },
    {
      "cell_type": "markdown",
      "source": [
        "Exercise 1"
      ],
      "metadata": {
        "id": "WjXaWv5MYE0q"
      }
    },
    {
      "cell_type": "code",
      "source": [
        "import sympy as sp\n",
        "\n",
        "# Define the variable\n",
        "x = sp.symbols('x')\n",
        "\n",
        "# Define the function y(x) = -3x + 3\n",
        "y = -3*x + 3\n",
        "\n",
        "# Compute the derivative of y with respect to x\n",
        "derivative = sp.diff(y, x)\n",
        "\n",
        "# Display the result\n",
        "print(\"The derivative of y(x) = -3x + 3 is:\", derivative)\n"
      ],
      "metadata": {
        "id": "R-CKVzU9YDpU",
        "outputId": "cc3c59e3-e337-42cb-962b-a7ac98603c01",
        "colab": {
          "base_uri": "https://localhost:8080/"
        }
      },
      "execution_count": null,
      "outputs": [
        {
          "output_type": "stream",
          "name": "stdout",
          "text": [
            "The derivative of y(x) = -3x + 3 is: -3\n"
          ]
        }
      ]
    },
    {
      "cell_type": "code",
      "source": [
        "import sympy as sp\n",
        "\n",
        "# Define the variable\n",
        "x = sp.symbols('x')\n",
        "\n",
        "# Define the function y(x) = πx + sin(1)\n",
        "y = sp.pi * x + sp.sin(1)\n",
        "\n",
        "# Compute the derivative of y with respect to x\n",
        "derivative = sp.diff(y, x)\n",
        "\n",
        "# Display the result\n",
        "print(\"The derivative of y(x) = πx + sin(1) is:\", derivative)\n"
      ],
      "metadata": {
        "id": "aLmauIjIYmfZ",
        "outputId": "1e5a7e26-06a3-4652-88b9-da4bb295bd88",
        "colab": {
          "base_uri": "https://localhost:8080/"
        }
      },
      "execution_count": null,
      "outputs": [
        {
          "output_type": "stream",
          "name": "stdout",
          "text": [
            "The derivative of y(x) = πx + sin(1) is: pi\n"
          ]
        }
      ]
    },
    {
      "cell_type": "code",
      "source": [
        "import sympy as sp\n",
        "\n",
        "# Define the variable\n",
        "x = sp.symbols('x')\n",
        "\n",
        "# Define the function y(x) = 4 + sin(2)\n",
        "y = 4 + sp.sin(2)\n",
        "\n",
        "# Compute the derivative of y with respect to x\n",
        "derivative = sp.diff(y, x)\n",
        "\n",
        "# Display the result\n",
        "print(\"The derivative of y(x) = 4 + sin(2) is:\", derivative)\n"
      ],
      "metadata": {
        "id": "Vf3adNTMoCf9",
        "outputId": "90858443-3ec4-442f-aaea-8da0c622acda",
        "colab": {
          "base_uri": "https://localhost:8080/"
        }
      },
      "execution_count": null,
      "outputs": [
        {
          "output_type": "stream",
          "name": "stdout",
          "text": [
            "The derivative of y(x) = 4 + sin(2) is: 0\n"
          ]
        }
      ]
    },
    {
      "cell_type": "code",
      "source": [
        "import sympy as sp\n",
        "\n",
        "# Define the variable\n",
        "x = sp.symbols('x')\n",
        "\n",
        "# Define the function y(x) = 2x^3 - 3x^2 + 8x - 9\n",
        "y = 2*x**3 - 3*x**2 + 8*x - 9\n",
        "\n",
        "# Compute the derivative of y with respect to x\n",
        "derivative = sp.diff(y, x)\n",
        "\n",
        "# Display the result\n",
        "print(\"The derivative of y(x) = 2x^3 - 3x^2 + 8x - 9 is:\", derivative)\n"
      ],
      "metadata": {
        "id": "wzF0nktMoLaI",
        "outputId": "2f26cfe2-c6ef-4259-f6bf-122953747bf7",
        "colab": {
          "base_uri": "https://localhost:8080/"
        }
      },
      "execution_count": null,
      "outputs": [
        {
          "output_type": "stream",
          "name": "stdout",
          "text": [
            "The derivative of y(x) = 2x^3 - 3x^2 + 8x - 9 is: 6*x**2 - 6*x + 8\n"
          ]
        }
      ]
    },
    {
      "cell_type": "code",
      "source": [
        "def y(x):\n",
        "    return 6 * (x ** (1 / 3))\n",
        "\n",
        "# Örnek kullanım\n",
        "x_value = float(input(\"x değerini girin: \"))\n",
        "result = y(x_value)\n",
        "print(f\"y({x_value}) = {result}\")\n"
      ],
      "metadata": {
        "id": "udbXnsmxaVAG",
        "outputId": "8c1f3ada-7552-4979-898c-2febe22c659a",
        "colab": {
          "base_uri": "https://localhost:8080/"
        }
      },
      "execution_count": 1,
      "outputs": [
        {
          "output_type": "stream",
          "name": "stdout",
          "text": [
            "x değerini girin: 8\n",
            "y(8.0) = 12.0\n"
          ]
        }
      ]
    },
    {
      "cell_type": "code",
      "source": [
        "def y(x):\n",
        "    return x ** 0.5\n",
        "\n",
        "# Örnek kullanım\n",
        "x_value = float(input(\"x değerini girin: \"))\n",
        "result = y(x_value)\n",
        "print(f\"y({x_value}) = {result}\")\n",
        "\n"
      ],
      "metadata": {
        "id": "AuhMVPvjaZcJ",
        "outputId": "14c96c1e-88a3-47e3-95d8-b4aab082a8b3",
        "colab": {
          "base_uri": "https://localhost:8080/"
        }
      },
      "execution_count": 2,
      "outputs": [
        {
          "output_type": "stream",
          "name": "stdout",
          "text": [
            "x değerini girin: 16\n",
            "y(16.0) = 4.0\n"
          ]
        }
      ]
    },
    {
      "cell_type": "code",
      "source": [
        "import math\n",
        "\n",
        "def y(x):\n",
        "    return math.cos(x) + math.sin(x)\n",
        "\n",
        "# Örnek kullanım\n",
        "x_value = float(input(\"x değerini radyan cinsinden girin: \"))\n",
        "result = y(x_value)\n",
        "print(f\"y({x_value}) = {result}\")\n"
      ],
      "metadata": {
        "id": "vrheu29xas9y",
        "outputId": "61d3c01e-6e4b-464c-a511-bad2706169e8",
        "colab": {
          "base_uri": "https://localhost:8080/"
        }
      },
      "execution_count": 4,
      "outputs": [
        {
          "output_type": "stream",
          "name": "stdout",
          "text": [
            "x değerini radyan cinsinden girin: 1.5708\n",
            "y(1.5708) = 0.9999963267881504\n"
          ]
        }
      ]
    },
    {
      "cell_type": "code",
      "source": [
        "import math\n",
        "\n",
        "def y(x):\n",
        "    return 2 * math.sin(x) * math.cos(x)\n",
        "\n",
        "# Örnek kullanım\n",
        "x_value = float(input(\"x değerini radyan cinsinden girin: \"))\n",
        "result = y(x_value)\n",
        "print(f\"y({x_value}) = {result}\")\n",
        "\n"
      ],
      "metadata": {
        "id": "tmckl0Q0bDox",
        "outputId": "fb0a049e-de0d-4f39-abe8-81326729a7bf",
        "colab": {
          "base_uri": "https://localhost:8080/"
        }
      },
      "execution_count": 5,
      "outputs": [
        {
          "output_type": "stream",
          "name": "stdout",
          "text": [
            "x değerini radyan cinsinden girin: 0.7854\n",
            "y(0.7854) = 0.9999999999932537\n"
          ]
        }
      ]
    },
    {
      "cell_type": "code",
      "source": [
        "import math\n",
        "\n",
        "def y(x):\n",
        "    return x * math.sin(x)\n",
        "\n",
        "# Örnek kullanım\n",
        "x_value = float(input(\"x değerini radyan cinsinden girin: \"))\n",
        "result = y(x_value)\n",
        "print(f\"y({x_value}) = {result}\")\n",
        "\n"
      ],
      "metadata": {
        "id": "whZooHWibHsZ",
        "outputId": "82f193e3-a904-40b8-dbb1-1a043ef96162",
        "colab": {
          "base_uri": "https://localhost:8080/"
        }
      },
      "execution_count": 6,
      "outputs": [
        {
          "output_type": "stream",
          "name": "stdout",
          "text": [
            "x değerini radyan cinsinden girin: 3.1416\n",
            "y(3.1416) = -2.3079482305191492e-05\n"
          ]
        }
      ]
    },
    {
      "cell_type": "code",
      "source": [
        "def y(x):\n",
        "    return (x + 1) ** 2\n",
        "\n",
        "# Örnek kullanım\n",
        "x_value = float(input(\"x değerini girin: \"))\n",
        "result = y(x_value)\n",
        "print(f\"y({x_value}) = {result}\")\n",
        "\n"
      ],
      "metadata": {
        "id": "pUvMh56lbTBu",
        "outputId": "5072d2d1-29bb-43a9-a41c-11ed7134cb9a",
        "colab": {
          "base_uri": "https://localhost:8080/"
        }
      },
      "execution_count": 7,
      "outputs": [
        {
          "output_type": "stream",
          "name": "stdout",
          "text": [
            "x değerini girin: 2\n",
            "y(2.0) = 9.0\n"
          ]
        }
      ]
    },
    {
      "cell_type": "code",
      "source": [
        "def y(x):\n",
        "    return x / (x + 1)\n",
        "\n",
        "# Örnek kullanım\n",
        "x_value = float(input(\"x değerini girin: \"))\n",
        "if x_value == -1:\n",
        "    print(\"x = -1 için tanımsızdır (bölme sıfıra bölünemez).\")\n",
        "else:\n",
        "    result = y(x_value)\n",
        "    print(f\"y({x_value}) = {result}\")\n",
        "\n"
      ],
      "metadata": {
        "id": "R6drkaZybcR4",
        "outputId": "e5a2e31d-c734-476a-912f-6f3245be916d",
        "colab": {
          "base_uri": "https://localhost:8080/"
        }
      },
      "execution_count": 8,
      "outputs": [
        {
          "output_type": "stream",
          "name": "stdout",
          "text": [
            "x değerini girin: 1\n",
            "y(1.0) = 0.5\n"
          ]
        }
      ]
    },
    {
      "cell_type": "code",
      "source": [
        "import math\n",
        "\n",
        "def y(x):\n",
        "    return (x + 1) * math.exp(x)\n",
        "\n",
        "# Örnek kullanım\n",
        "x_value = float(input(\"x değerini girin: \"))\n",
        "result = y(x_value)\n",
        "print(f\"y({x_value}) = {result}\")\n"
      ],
      "metadata": {
        "id": "fKwfLxpobli0",
        "outputId": "320c69a9-6341-4545-c4e7-4f0de0f0c4d3",
        "colab": {
          "base_uri": "https://localhost:8080/"
        }
      },
      "execution_count": 9,
      "outputs": [
        {
          "output_type": "stream",
          "name": "stdout",
          "text": [
            "x değerini girin: 1\n",
            "y(1.0) = 5.43656365691809\n"
          ]
        }
      ]
    },
    {
      "cell_type": "code",
      "source": [
        "import math\n",
        "\n",
        "def y(x):\n",
        "    return math.sin(x ** 2)\n",
        "\n",
        "# Örnek kullanım\n",
        "x_value = float(input(\"x değerini girin: \"))\n",
        "result = y(x_value)\n",
        "print(f\"y({x_value}) = {result}\")\n",
        "\n"
      ],
      "metadata": {
        "id": "KxUaoDGnbrwp",
        "outputId": "d1001619-3dc5-4270-c48e-31429a7eeddc",
        "colab": {
          "base_uri": "https://localhost:8080/"
        }
      },
      "execution_count": 10,
      "outputs": [
        {
          "output_type": "stream",
          "name": "stdout",
          "text": [
            "x değerini girin: 2\n",
            "y(2.0) = -0.7568024953079282\n"
          ]
        }
      ]
    },
    {
      "cell_type": "code",
      "source": [
        "import math\n",
        "\n",
        "def y(x):\n",
        "    return math.exp(-2 * x)\n",
        "\n",
        "# Örnek kullanım\n",
        "x_value = float(input(\"x değerini girin: \"))\n",
        "result = y(x_value)\n",
        "print(f\"y({x_value}) = {result}\")\n"
      ],
      "metadata": {
        "id": "zpWs_lbcb0uA",
        "outputId": "6bf39eaa-c7ac-4580-a161-e90dbc5e81ed",
        "colab": {
          "base_uri": "https://localhost:8080/"
        }
      },
      "execution_count": 11,
      "outputs": [
        {
          "output_type": "stream",
          "name": "stdout",
          "text": [
            "x değerini girin: 1\n",
            "y(1.0) = 0.1353352832366127\n"
          ]
        }
      ]
    },
    {
      "cell_type": "code",
      "source": [
        "import math\n",
        "\n",
        "def y(x):\n",
        "    return 1 / math.sin(x + 1)\n",
        "\n",
        "# Örnek kullanım\n",
        "x_value = float(input(\"x değerini girin: \"))\n",
        "if math.sin(x_value + 1) == 0:\n",
        "    print(\"x + 1 için sin(x + 1) sıfırdır, tanımsızdır.\")\n",
        "else:\n",
        "    result = y(x_value)\n",
        "    print(f\"y({x_value}) = {result}\")\n"
      ],
      "metadata": {
        "id": "rXt2Dsi1b3EJ",
        "outputId": "5817ca75-9834-4ffb-c970-b21d67ee798b",
        "colab": {
          "base_uri": "https://localhost:8080/"
        }
      },
      "execution_count": 12,
      "outputs": [
        {
          "output_type": "stream",
          "name": "stdout",
          "text": [
            "x değerini girin: 0\n",
            "y(0.0) = 1.1883951057781212\n"
          ]
        }
      ]
    },
    {
      "cell_type": "code",
      "source": [
        "import math\n",
        "\n",
        "def y(x):\n",
        "    return math.sqrt(2 * x + 1)\n",
        "\n",
        "# Örnek kullanım\n",
        "x_value = float(input(\"x değerini girin: \"))\n",
        "if 2 * x_value + 1 < 0:\n",
        "    print(\"İçerideki ifade negatif, karekök tanımsızdır.\")\n",
        "else:\n",
        "    result = y(x_value)\n",
        "    print(f\"y({x_value}) = {result}\")\n"
      ],
      "metadata": {
        "id": "I9QbHmpDcBbd",
        "outputId": "093078db-01c6-4873-d4ba-65c128911151",
        "colab": {
          "base_uri": "https://localhost:8080/"
        }
      },
      "execution_count": 13,
      "outputs": [
        {
          "output_type": "stream",
          "name": "stdout",
          "text": [
            "x değerini girin: 2\n",
            "y(2.0) = 2.23606797749979\n"
          ]
        }
      ]
    },
    {
      "cell_type": "markdown",
      "source": [
        "Exercise 2"
      ],
      "metadata": {
        "id": "qRzTmbwHcHgh"
      }
    },
    {
      "cell_type": "code",
      "source": [
        "import sympy as sp\n",
        "\n",
        "# Define the symbol x\n",
        "x = sp.symbols('x')\n",
        "\n",
        "# Define the function ln(sin(x))\n",
        "f = sp.ln(sp.sin(x))\n",
        "\n",
        "# Compute the derivative of the function with respect to x\n",
        "derivative = sp.diff(f, x)\n",
        "\n",
        "# Simplify the result\n",
        "simplified_derivative = sp.simplify(derivative)\n",
        "\n",
        "# Print the result\n",
        "print(\"The derivative of ln(sin(x)) is:\", simplified_derivative)\n"
      ],
      "metadata": {
        "id": "CRRArsSxcJbb",
        "outputId": "bfb78a83-6c34-4415-fc89-39d742676b74",
        "colab": {
          "base_uri": "https://localhost:8080/"
        }
      },
      "execution_count": 14,
      "outputs": [
        {
          "output_type": "stream",
          "name": "stdout",
          "text": [
            "The derivative of ln(sin(x)) is: 1/tan(x)\n"
          ]
        }
      ]
    },
    {
      "cell_type": "markdown",
      "source": [
        "Exercise 3\n"
      ],
      "metadata": {
        "id": "yGfvubGkcTa3"
      }
    },
    {
      "cell_type": "code",
      "source": [
        "import sympy as sp\n",
        "\n",
        "# Define the symbol x\n",
        "x = sp.symbols('x')\n",
        "\n",
        "# Define the function f(x) = cos(x)\n",
        "f = sp.cos(x)\n",
        "\n",
        "# Compute the first and second derivatives of f(x)\n",
        "f_prime = sp.diff(f, x)\n",
        "f_double_prime = sp.diff(f_prime, x)\n",
        "\n",
        "# Simplify the second derivative\n",
        "simplified_f_double_prime = sp.simplify(f_double_prime)\n",
        "\n",
        "# Print the results\n",
        "print(\"f'(x) = \", f_prime)\n",
        "import sympy as sp\n",
        "\n",
        "# Define the symbol x\n",
        "x = sp.symbols('x')\n",
        "\n",
        "# Define the function f(x) = cos(x)\n",
        "f = sp.cos(x)\n",
        "\n",
        "# Compute the first and second derivatives of f(x)\n",
        "f_prime = sp.diff(f, x)\n",
        "f_double_prime = sp.diff(f_prime, x)\n",
        "\n",
        "# Simplify the second derivative\n",
        "simplified_f_double_prime = sp.simplify(f_double_prime)\n",
        "\n",
        "# Print the results\n",
        "print(\"f'(x) = \", f_prime)\n",
        "print(\"f''(x) = \", f_double_prime)\n",
        "print(\"Is f''(x) = -f(x)?\", simplified_f_double_prime == -f)"
      ],
      "metadata": {
        "id": "tF1gRr1ncWrq",
        "outputId": "1be734b4-4fc4-4fc1-dcbd-508f866e8a95",
        "colab": {
          "base_uri": "https://localhost:8080/"
        }
      },
      "execution_count": 16,
      "outputs": [
        {
          "output_type": "stream",
          "name": "stdout",
          "text": [
            "f'(x) =  -sin(x)\n",
            "f'(x) =  -sin(x)\n",
            "f''(x) =  -cos(x)\n",
            "Is f''(x) = -f(x)? True\n"
          ]
        }
      ]
    },
    {
      "cell_type": "markdown",
      "source": [
        "Exercise 4"
      ],
      "metadata": {
        "id": "BLTo3pCocdYh"
      }
    },
    {
      "cell_type": "code",
      "source": [
        "import sympy as sp\n",
        "\n",
        "# Define the symbol x\n",
        "x = sp.symbols('x')\n",
        "\n",
        "# Define the function sin(x) / x\n",
        "f = sp.sin(x) / x\n",
        "\n",
        "# Compute the limit as x approaches 0\n",
        "limit_value = sp.limit(f, x, 0)\n",
        "\n",
        "# Print the result\n",
        "print(\"The limit is:\", limit_value)\n"
      ],
      "metadata": {
        "id": "lHJoOGVmcdQZ",
        "outputId": "b69cfd45-8361-478e-bf23-670ed7fe3530",
        "colab": {
          "base_uri": "https://localhost:8080/"
        }
      },
      "execution_count": 17,
      "outputs": [
        {
          "output_type": "stream",
          "name": "stdout",
          "text": [
            "The limit is: 1\n"
          ]
        }
      ]
    },
    {
      "cell_type": "code",
      "source": [
        "import sympy as sp\n",
        "\n",
        "# Define the symbol x\n",
        "x = sp.symbols('x')\n",
        "\n",
        "# Define the function ln(x) / x\n",
        "f = sp.ln(x) / x\n",
        "\n",
        "# Compute the limit as x approaches infinity\n",
        "limit_value = sp.limit(f, x, sp.oo)\n",
        "\n",
        "# Print the result\n",
        "print(\"The limit is:\", limit_value)\n"
      ],
      "metadata": {
        "id": "LYR1tcCgchCu",
        "outputId": "868aaef7-cd60-47a4-b3eb-7f4556dce14d",
        "colab": {
          "base_uri": "https://localhost:8080/"
        }
      },
      "execution_count": 18,
      "outputs": [
        {
          "output_type": "stream",
          "name": "stdout",
          "text": [
            "The limit is: 0\n"
          ]
        }
      ]
    },
    {
      "cell_type": "code",
      "source": [
        "import sympy as sp\n",
        "\n",
        "# Define the symbol x\n",
        "x = sp.symbols('x')\n",
        "\n",
        "# Define the function ln(x) / x\n",
        "f = sp.ln(x) / x\n",
        "\n",
        "# Compute the limit as x approaches infinity\n",
        "limit_value = sp.limit(f, x, sp.oo)\n",
        "\n",
        "# Print the result\n",
        "print(\"The limit is:\", limit_value)\n"
      ],
      "metadata": {
        "id": "gFIqeGHLcod1",
        "outputId": "9406a687-4ec1-4d1c-cdab-f048419b5095",
        "colab": {
          "base_uri": "https://localhost:8080/"
        }
      },
      "execution_count": 19,
      "outputs": [
        {
          "output_type": "stream",
          "name": "stdout",
          "text": [
            "The limit is: 0\n"
          ]
        }
      ]
    },
    {
      "cell_type": "markdown",
      "source": [
        "Exercise 5"
      ],
      "metadata": {
        "id": "3PIqi69gcssZ"
      }
    },
    {
      "cell_type": "code",
      "source": [
        "import sympy as sp\n",
        "\n",
        "# Define the symbol t\n",
        "t = sp.symbols('t')\n",
        "\n",
        "# Define the position function x(t)\n",
        "x = 3 * t**2 - 6 * t + 1\n",
        "\n",
        "# Compute the first derivative (velocity)\n",
        "V = sp.diff(x, t)\n",
        "\n",
        "# Compute the second derivative (acceleration)\n",
        "a = sp.diff(V, t)\n",
        "\n",
        "# Evaluate the velocity and acceleration at t = 2\n",
        "V_at_2 = V.subs(t, 2)\n",
        "a_at_2 = a.subs(t, 2)\n",
        "\n",
        "# Print the results\n",
        "print(\"Velocity at t = 2:\", V_at_2)\n",
        "print(\"Acceleration at t = 2:\", a_at_2)\n"
      ],
      "metadata": {
        "id": "h2nWjVdPcuTc",
        "outputId": "6096d3ec-b8c8-4e63-cea2-041646498a3a",
        "colab": {
          "base_uri": "https://localhost:8080/"
        }
      },
      "execution_count": 20,
      "outputs": [
        {
          "output_type": "stream",
          "name": "stdout",
          "text": [
            "Velocity at t = 2: 6\n",
            "Acceleration at t = 2: 6\n"
          ]
        }
      ]
    }
  ]
}