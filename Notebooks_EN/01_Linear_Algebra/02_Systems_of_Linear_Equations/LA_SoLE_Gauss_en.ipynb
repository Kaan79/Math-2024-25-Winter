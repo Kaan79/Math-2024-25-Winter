{
  "cells": [
    {
      "cell_type": "markdown",
      "metadata": {
        "id": "mXkLHOFPHalq"
      },
      "source": [
        "# Gaussian Elimination Method\n",
        "\n",
        "Solving a system of linear equations using the Gaussian elimination method involves transforming the coefficient matrix of the system into an upper triangular matrix, followed by solving the system using back substitution.\n",
        "\n",
        "This is one of the most fundamental methods for solving systems of linear equations, especially in cases where the number of unknowns is different from the number of equations."
      ]
    },
    {
      "cell_type": "markdown",
      "source": [
        "# Gaussian Elimination Method Notes\n",
        "\n",
        "## Overview\n",
        "The **Gaussian Elimination Method** is a systematic way to solve a system of linear equations. It involves the following steps:\n",
        "\n",
        "1. **Form the augmented matrix** from the system of equations.\n",
        "2. Use **row operations** to transform the matrix into **row echelon form**.\n",
        "3. Further simplify to **reduced row echelon form (optional)**.\n",
        "4. Solve the equations using **back-substitution**.\n",
        "\n",
        "---\n",
        "\n",
        "## Augmented Matrix\n",
        "Given a system of equations:\n",
        "\\[\n",
        "\\begin{aligned}\n",
        "a_{11}x_1 + a_{12}x_2 + \\cdots + a_{1n}x_n &= b_1 \\\\\\\\\n",
        "a_{21}x_1 + a_{22}x_2 + \\cdots + a_{2n}x_n &= b_2 \\\\\\\\\n",
        "\\vdots \\\\\\\\\n",
        "a_{m1}x_1 + a_{m2}x_2 + \\cdots + a_{mn}x_n &= b_m\n",
        "\\end{aligned}\n",
        "\\]\n",
        "\n",
        "The augmented matrix is:\n",
        "\\[\n",
        "\\begin{bmatrix}\n",
        "a_{11} & a_{12} & \\cdots & a_{1n} & | & b_1 \\\\\\\\\n",
        "a_{21} & a_{22} & \\cdots & a_{2n} & | & b_2 \\\\\\\\\n",
        "\\vdots & \\vdots & \\ddots & \\vdots & | & \\vdots \\\\\\\\\n",
        "a_{m1} & a_{m2} & \\cdots & a_{mn} & | & b_m\n",
        "\\end{bmatrix}\n",
        "\\]\n",
        "\n",
        "---\n",
        "\n",
        "## Row Operations\n",
        "The following row operations are allowed:\n",
        "1. **Swap two rows:** \\( R_i \\leftrightarrow R_j \\)\n",
        "2. **Multiply a row by a scalar:** \\( R_i \\to k \\cdot R_i \\), \\( k \\\\neq 0 \\)\n",
        "3. **Add or subtract a multiple of one row to another row:** \\( R_i \\to R_i + k \\cdot R_j \\)\n",
        "\n",
        "---\n",
        "\n",
        "## Row Echelon Form\n",
        "An augmented matrix is in **row echelon form** if:\n",
        "1. All zero rows (if any) are at the bottom.\n",
        "2. The leading (first nonzero) entry in each row is to the right of the leading entry in the row above it.\n",
        "3. The leading entry in each row is **1** (optional for standard echelon form).\n",
        "\n",
        "Example:\n",
        "\\[\n",
        "\\begin{bmatrix}\n",
        "1 & a & b & | & c \\\\\\\\\n",
        "0 & 1 & d & | & e \\\\\\\\\n",
        "0 & 0 & 1 & | & f\n",
        "\\end{bmatrix}\n",
        "\\]\n",
        "\n",
        "---\n",
        "\n",
        "## Back-Substitution\n",
        "Once the matrix is in row echelon form:\n",
        "\\[\n",
        "\\begin{aligned}\n",
        "x_n &= f \\\\\\\\\n",
        "x_{n-1} &= e - d \\cdot x_n \\\\\\\\\n",
        "x_{n-2} &= c - b \\cdot x_{n-1} - a \\cdot x_n \\\\\\\\\n",
        "\\vdots\n",
        "\\end{aligned}\n",
        "\\]\n",
        "\n",
        "---\n",
        "\n",
        "## Reduced Row Echelon Form (Optional)\n",
        "In **reduced row echelon form**, every leading \\( 1 \\) has zeros above and below it.\n",
        "\n",
        "Example:\n",
        "\\[\n",
        "\\begin{bmatrix}\n",
        "1 & 0 & 0 & | & x \\\\\\\\\n",
        "0 & 1 & 0 & | & y \\\\\\\\\n",
        "0 & 0 & 1 & | & z\n",
        "\\end{bmatrix}\n",
        "\\]\n",
        "\n",
        "---\n",
        "\n",
        "## Example Problem\n",
        "Solve the system:\n",
        "\\[\n",
        "\\begin{aligned}\n",
        "x_1 + 2x_2 + 3x_3 &= 10 \\\\\\\\\n",
        "4x_1 + 5x_2 + 6x_3 &= 11 \\\\\\\\\n",
        "7x_1 + 8x_2 + 12x_3 &= 18\n",
        "\\end{aligned}\n",
        "\\]\n",
        "\n",
        "1. Write the augmented matrix:\n",
        "\\[\n",
        "\\begin{bmatrix}\n",
        "1 & 2 & 3 & | & 10 \\\\\\\\\n",
        "4 & 5 & 6 & | & 11 \\\\\\\\\n",
        "7 & 8 & 12 & | & 18\n",
        "\\end{bmatrix}\n",
        "\\]\n",
        "\n",
        "2. Apply row operations to simplify.\n",
        "\n",
        "---\n",
        "\n",
        "## Tips for Gaussian Elimination\n",
        "- Always simplify rows after each operation.\n",
        "- Avoid fractions until the final steps if possible.\n",
        "- Use pivot elements efficiently to reduce computation.\n",
        "\n",
        "\n"
      ],
      "metadata": {
        "id": "e2Jwf4Uyng_C"
      }
    },
    {
      "cell_type": "code",
      "execution_count": null,
      "metadata": {
        "id": "mrDtzh5iHalu",
        "outputId": "dd7866b9-bc37-4684-dc65-d29e8ef36b94"
      },
      "outputs": [
        {
          "data": {
            "text/markdown": [
              "**Operation:** r2 = r2 + -4*r1"
            ],
            "text/plain": [
              "<IPython.core.display.Markdown object>"
            ]
          },
          "metadata": {},
          "output_type": "display_data"
        },
        {
          "data": {
            "text/markdown": [
              "System of equations:"
            ],
            "text/plain": [
              "<IPython.core.display.Markdown object>"
            ]
          },
          "metadata": {},
          "output_type": "display_data"
        },
        {
          "data": {
            "text/markdown": [
              "$$\\begin{aligned} 1 x_{1} + 2 x_{2} + 3 x_{3} = 10 \\\\ 0 x_{1} - 3 x_{2} - 6 x_{3} = -29 \\\\ 7 x_{1} + 8 x_{2} + 12 x_{3} = 18 \\end{aligned}$$"
            ],
            "text/plain": [
              "<IPython.core.display.Markdown object>"
            ]
          },
          "metadata": {},
          "output_type": "display_data"
        }
      ],
      "source": [
        "m.add_row(2, 1, -4)"
      ]
    },
    {
      "cell_type": "code",
      "execution_count": null,
      "metadata": {
        "id": "m8evlI_8Halu",
        "outputId": "571b4c97-e53b-4833-be9b-490ca17cc6d7"
      },
      "outputs": [
        {
          "data": {
            "text/markdown": [
              "**Operation:** r3 = r3 + -7*r1"
            ],
            "text/plain": [
              "<IPython.core.display.Markdown object>"
            ]
          },
          "metadata": {},
          "output_type": "display_data"
        },
        {
          "data": {
            "text/markdown": [
              "System of equations:"
            ],
            "text/plain": [
              "<IPython.core.display.Markdown object>"
            ]
          },
          "metadata": {},
          "output_type": "display_data"
        },
        {
          "data": {
            "text/markdown": [
              "$$\\begin{aligned} 1 x_{1} + 2 x_{2} + 3 x_{3} = 10 \\\\ 0 x_{1} - 3 x_{2} - 6 x_{3} = -29 \\\\ 0 x_{1} - 6 x_{2} - 9 x_{3} = -52 \\end{aligned}$$"
            ],
            "text/plain": [
              "<IPython.core.display.Markdown object>"
            ]
          },
          "metadata": {},
          "output_type": "display_data"
        }
      ],
      "source": [
        "m.add_row(3, 1, -7)"
      ]
    },
    {
      "cell_type": "code",
      "execution_count": null,
      "metadata": {
        "id": "p5SCdWIKHalu",
        "outputId": "e6126e08-02f6-4ca6-969c-35bf552e0cae"
      },
      "outputs": [
        {
          "data": {
            "text/markdown": [
              "**Operation:** r3 = r3 + -2*r2"
            ],
            "text/plain": [
              "<IPython.core.display.Markdown object>"
            ]
          },
          "metadata": {},
          "output_type": "display_data"
        },
        {
          "data": {
            "text/markdown": [
              "System of equations:"
            ],
            "text/plain": [
              "<IPython.core.display.Markdown object>"
            ]
          },
          "metadata": {},
          "output_type": "display_data"
        },
        {
          "data": {
            "text/markdown": [
              "$$\\begin{aligned} 1 x_{1} + 2 x_{2} + 3 x_{3} = 10 \\\\ 0 x_{1} - 3 x_{2} - 6 x_{3} = -29 \\\\ 0 x_{1} +0 x_{2} + 3 x_{3} = 6 \\end{aligned}$$"
            ],
            "text/plain": [
              "<IPython.core.display.Markdown object>"
            ]
          },
          "metadata": {},
          "output_type": "display_data"
        }
      ],
      "source": [
        "m.add_row(3, 2, -2)"
      ]
    },
    {
      "cell_type": "code",
      "execution_count": null,
      "metadata": {
        "id": "bdNVlOhYHalv"
      },
      "outputs": [],
      "source": [
        "# We have 3 equations, so we end the operation\n",
        "# Define symbols\n",
        "x1, x2, x3 = symbols('x1 x2 x3')\n",
        "# Define equations\n",
        "eq1 = Eq(x1 + 2*x2 + 3*x3, 10)\n",
        "eq2 = Eq(-3*x2 - 6*x3, -29)\n",
        "eq3 = Eq(3*x3, 6)"
      ]
    },
    {
      "cell_type": "code",
      "execution_count": null,
      "metadata": {
        "id": "Po3S_bRLHalv",
        "outputId": "81d799af-61f6-4e0b-c1b8-95a18dccf5b6"
      },
      "outputs": [
        {
          "data": {
            "text/latex": [
              "$\\displaystyle 2$"
            ],
            "text/plain": [
              "2"
            ]
          },
          "execution_count": 14,
          "metadata": {},
          "output_type": "execute_result"
        }
      ],
      "source": [
        "sol_x3 = sp.solve(eq3, x3)[0]\n",
        "sol_x3"
      ]
    },
    {
      "cell_type": "code",
      "execution_count": null,
      "metadata": {
        "id": "fJUcAkvLHalv",
        "outputId": "28ec46f0-edbd-40e3-c2db-43b45ffdf468"
      },
      "outputs": [
        {
          "data": {
            "text/latex": [
              "$\\displaystyle \\frac{17}{3}$"
            ],
            "text/plain": [
              "17/3"
            ]
          },
          "execution_count": 15,
          "metadata": {},
          "output_type": "execute_result"
        }
      ],
      "source": [
        "# Substitute solution x3 into equation 2\n",
        "eq2 = eq2.subs(x3, sol_x3)\n",
        "# Solve equation 2\n",
        "sol_x2 = sp.solve(eq2, x2)[0]\n",
        "sol_x2"
      ]
    },
    {
      "cell_type": "code",
      "execution_count": null,
      "metadata": {
        "id": "ok4GBu-9Halv",
        "outputId": "fde80d83-bd28-4b40-e05b-6343f1e1d19b"
      },
      "outputs": [
        {
          "data": {
            "text/latex": [
              "$\\displaystyle - \\frac{22}{3}$"
            ],
            "text/plain": [
              "-22/3"
            ]
          },
          "execution_count": 16,
          "metadata": {},
          "output_type": "execute_result"
        }
      ],
      "source": [
        "# Substitute solutions x2 and x3 into equation 1\n",
        "eq1 = eq1.subs({x2: sol_x2, x3: sol_x3})\n",
        "# Solve equation 1\n",
        "sol_x1 = sp.solve(eq1, x1)[0]\n",
        "sol_x1"
      ]
    },
    {
      "cell_type": "markdown",
      "metadata": {
        "id": "NzNmoBwJHalw"
      },
      "source": [
        "---\n",
        "\n",
        "## Exercises for Students\n",
        "\n",
        "$$\n",
        "\\left\\{\\begin{array}{c}{x+2 y-2 z=4} \\\\ {2 x+y+z=0} \\\\ {3 x+2 y+z=1}\\end{array}\\right.\\quad\n",
        "\\left\\{\\begin{array}{c}{x+y+z-t=2} \\\\ {2 x+y+z=3} \\\\ {-x+z-t=0} \\\\ {3 x+2 y-z+2 t=-1}\\end{array}\\right.\\quad\n",
        "\\left\\{\\begin{array}{c}{x+y-z-t=0} \\\\ {2 x+3 y-2 z+t=4} \\\\ {3 x+5 z=0} \\\\ {-x+y-3 z+2 t=3}\\end{array}\\right.\n",
        "$$"
      ]
    },
    {
      "cell_type": "markdown",
      "source": [
        "\n",
        "\n",
        "Solve the following system of linear equations using the Gaussian elimination method:\n",
        "\n",
        "\n",
        "\\begin{cases}\n",
        "  x + 2y - 2z = 4, \\\\\n",
        "  2x + y + z = 0, \\\\\n",
        "  3x + 2y + z = 1.\n",
        "\\end{cases}\n",
        "\n",
        "### Solution:\n",
        "\n",
        "#### Step 1: Write the system in augmented matrix form:\n",
        "\n",
        "\\begin{bmatrix}\n",
        "  1 & 2 & -2 & | & 4 \\\\\n",
        "  2 & 1 & 1 & | & 0 \\\\\n",
        "  3 & 2 & 1 & | & 1\n",
        "\\end{bmatrix}\n",
        "\n",
        "\n",
        "#### Step 2: Perform Gaussian elimination:\n",
        "\n",
        "**1. Make the first element in the first column a pivot (1):**\n",
        "The first row already has a pivot of 1.\n",
        "\n",
        "**2. Eliminate the first column for the rows below the pivot:**\n",
        "- Subtract \\(2\\times\\) Row 1 from Row 2.\n",
        "- Subtract \\(3\\times\\) Row 1 from Row 3.\n",
        "\n",
        "The matrix becomes:\n",
        "\n",
        "\\begin{bmatrix}\n",
        "  1 & 2 & -2 & | & 4 \\\\\n",
        "  0 & -3 & 5 & | & -8 \\\\\n",
        "  0 & -4 & 7 & | & -11\n",
        "\\end{bmatrix}\n",
        "\n",
        "**3. Make the second element in the second column a pivot (-3):**\n",
        "Divide Row 2 by \\(-3\\):\n",
        "\n",
        "\\begin{bmatrix}\n",
        "  1 & 2 & -2 & | & 4 \\\\\n",
        "  0 & 1 & -\\frac{5}{3} & | & \\frac{8}{3} \\\\\n",
        "  0 & -4 & 7 & | & -11\n",
        "\\end{bmatrix}\n",
        "\n",
        "\n",
        "**4. Eliminate the second column for the rows below and above the pivot:**\n",
        "- Add \\(4\\times\\) Row 2 to Row 3.\n",
        "- Subtract \\(2\\times\\) Row 2 from Row 1.\n",
        "\n",
        "The matrix becomes:\n",
        "\n",
        "\\begin{bmatrix}\n",
        "  1 & 0 & \\frac{4}{3} & | & \\frac{4}{3} \\\\\n",
        "  0 & 1 & -\\frac{5}{3} & | & \\frac{8}{3} \\\\\n",
        "  0 & 0 & \\frac{1}{3} & | & \\frac{1}{3}\n",
        "\\end{bmatrix}\n",
        "\n",
        "\n",
        "**5. Make the third element in the third column a pivot (\\(\\frac{1}{3}\\)):**\n",
        "Multiply Row 3 by 3:\n",
        "\n",
        "\\begin{bmatrix}\n",
        "  1 & 0 & \\frac{4}{3} & | & \\frac{4}{3} \\\\\n",
        "  0 & 1 & -\\frac{5}{3} & | & \\frac{8}{3} \\\\\n",
        "  0 & 0 & 1 & | & 1\n",
        "\\end{bmatrix}\n",
        "\n",
        "**6. Eliminate the third column for the rows above:**\n",
        "- Subtract \\(\\frac{4}{3}\\times\\) Row 3 from Row 1.\n",
        "- Add \\(\\frac{5}{3}\\times\\) Row 3 to Row 2.\n",
        "\n",
        "The matrix becomes:\n",
        "\\begin{bmatrix}\n",
        "  1 & 0 & 0 & | & 0 \\\\\n",
        "  0 & 1 & 0 & | & 1 \\\\\n",
        "  0 & 0 & 1 & | & 1\n",
        "\\end{bmatrix}\n",
        "\n",
        "\n",
        "#### Step 3: Back-substitute to find the solution:\n",
        "From the reduced matrix, we have:\n",
        "\n",
        "\\begin{cases}\n",
        "  x = 0, \\\\\n",
        "  y = 1, \\\\\n",
        "  z = -1.\n",
        "\\end{cases}\n",
        "\n",
        "\n",
        "### Final Answer:\n",
        "\n",
        "(x, y, z) = (0, 1,-1).\n",
        "\n",
        "\n"
      ],
      "metadata": {
        "id": "4110HgRAim59"
      }
    },
    {
      "cell_type": "code",
      "source": [
        "import numpy as np\n",
        "\n",
        "# Katsayılar matrisi ve sağ taraf vektörü\n",
        "A = np.array([[1, 2, -2],\n",
        "              [2, 1, 1],\n",
        "              [3, 2, 1]], dtype=float)\n",
        "B = np.array([4, 0, 1], dtype=float)\n",
        "\n",
        "# Genişletilmiş matris oluştur\n",
        "augmented_matrix = np.hstack((A, B.reshape(-1, 1)))\n",
        "\n",
        "# Gauss eliminasyonu\n",
        "n = len(B)\n",
        "\n",
        "for i in range(n):\n",
        "    # Pivot elemanını 1 yap\n",
        "    augmented_matrix[i] = augmented_matrix[i] / augmented_matrix[i, i]\n",
        "\n",
        "    # Diğer satırlardan bu sütunu sıfırla\n",
        "    for j in range(i + 1, n):\n",
        "        augmented_matrix[j] = augmented_matrix[j] - augmented_matrix[j, i] * augmented_matrix[i]\n",
        "\n",
        "# Geri yerine koyma\n",
        "x = np.zeros(n)\n",
        "\n",
        "for i in range(n - 1, -1, -1):\n",
        "    x[i] = augmented_matrix[i, -1] - np.dot(augmented_matrix[i, i + 1:n], x[i + 1:n])\n",
        "\n",
        "# Çözümü yazdır\n",
        "print(\"Çözümler:\")\n",
        "print(f\"x = {x[0]:.2f}\")\n",
        "print(f\"y = {x[1]:.2f}\")\n",
        "print(f\"z = {x[2]:.2f}\")\n"
      ],
      "metadata": {
        "id": "jvQTxb3gfhXQ",
        "outputId": "0aa121e5-d11c-476b-9a6a-4c55d69889d4",
        "colab": {
          "base_uri": "https://localhost:8080/"
        }
      },
      "execution_count": 2,
      "outputs": [
        {
          "output_type": "stream",
          "name": "stdout",
          "text": [
            "Çözümler:\n",
            "x = 0.00\n",
            "y = 1.00\n",
            "z = -1.00\n"
          ]
        }
      ]
    },
    {
      "cell_type": "markdown",
      "source": [
        "Exercise 2"
      ],
      "metadata": {
        "id": "hclb4Y7LgAD2"
      }
    },
    {
      "cell_type": "markdown",
      "source": [
        "\n",
        "\n",
        "\n",
        "\\begin{cases}\n",
        "  x + y + z - t = 2, \\\\\n",
        "  2x + y + z = 3, \\\\\n",
        "  -x + z - t = 0, \\\\\n",
        "  3x + 2y - z + 2t = -1.\n",
        "\\end{cases}\n",
        "\n",
        "\n",
        "### Solution:\n",
        "\n",
        "#### Step 1: Write the system in augmented matrix form:\n",
        "\n",
        "\\begin{bmatrix}\n",
        "  1 & 1 & 1 & -1 & | & 2 \\\\\n",
        "  2 & 1 & 1 & 0 & | & 3 \\\\\n",
        "  -1 & 0 & 1 & -1 & | & 0 \\\\\n",
        "  3 & 2 & -1 & 2 & | & -1\n",
        "\\end{bmatrix}\n",
        "\n",
        "#### Step 2: Perform Gaussian elimination:\n",
        "\n",
        "**1. Make the first element in the first column a pivot (1):**\n",
        "The first row already has a pivot of 1.\n",
        "\n",
        "**2. Eliminate the first column for the rows below the pivot:**\n",
        "Subtract \\(2\\times\\) Row 1 from Row 2, add Row 1 to Row 3, and subtract \\(3\\times\\) Row 1 from Row 4. The matrix becomes:\n",
        "\n",
        "\\begin{bmatrix}\n",
        "  1 & 1 & 1 & -1 & | & 2 \\\\\n",
        "  0 & -1 & -1 & 2 & | & -1 \\\\\n",
        "  0 & 1 & 2 & -2 & | & 2 \\\\\n",
        "  0 & -1 & -4 & 5 & | & -7\n",
        "\\end{bmatrix}\n",
        "\n",
        "\n",
        "**3. Make the second element in the second column a pivot (-1):**\n",
        "Divide Row 2 by \\(-1\\):\n",
        "\n",
        "\\begin{bmatrix}\n",
        "  1 & 1 & 1 & -1 & | & 2 \\\\\n",
        "  0 & 1 & 1 & -2 & | & 1 \\\\\n",
        "  0 & 1 & 2 & -2 & | & 2 \\\\\n",
        "  0 & -1 & -4 & 5 & | & -7\n",
        "\\end{bmatrix}\n",
        "\n",
        "\n",
        "**4. Eliminate the second column for the rows below and above the pivot:**\n",
        "- Subtract Row 2 from Row 3.\n",
        "- Add Row 2 to Row 4.\n",
        "- Subtract \\(1\\times\\) Row 2 from Row 1.\n",
        "\n",
        "The matrix becomes:\n",
        "\n",
        "\\begin{bmatrix}\n",
        "  1 & 0 & 0 & 1 & | & 0 \\\\\n",
        "  0 & 1 & 0 & 0 & | & 1 \\\\\n",
        "  0 & 0 & 1 & 0 & | & 2 \\\\\n",
        "  0 & 0 & 0 & 1 & | & -1\n",
        "\\end{bmatrix}\n",
        "\n",
        "\n",
        "#### Step 3: Back-substitute to find the solution:\n",
        "From the reduced matrix, we have:\n",
        "\n",
        "\\begin{cases}\n",
        "  x = 0, \\\\\n",
        "  y = 1, \\\\\n",
        "  z = 2, \\\\\n",
        "  t = -1.\n",
        "\\end{cases}\n",
        "\n",
        "\n",
        "### Final Answer:\n",
        "\n",
        "(x, y, z, t) = (0, 1, 2, -1).\n",
        "\n"
      ],
      "metadata": {
        "id": "R-dMmddQhQdk"
      }
    },
    {
      "cell_type": "code",
      "source": [
        "import numpy as np\n",
        "\n",
        "# Katsıyılar matrisi (A) ve sonucu (B)\n",
        "A = np.array([[1, 1, 1, -1],\n",
        "              [2, 1, 1, 0],\n",
        "              [-1, 0, 1, -1],\n",
        "              [3, 2, -1, 2]], dtype=float)\n",
        "B = np.array([2, 3, 0, -1], dtype=float)\n",
        "\n",
        "# Genişletilmiş matris oluştur\n",
        "augmented_matrix = np.hstack((A, B.reshape(-1, 1)))\n",
        "\n",
        "# Gauss eliminasyonu\n",
        "n = len(B)\n",
        "\n",
        "for i in range(n):\n",
        "    # Pivot elemanını 1 yap\n",
        "    augmented_matrix[i] = augmented_matrix[i] / augmented_matrix[i, i]\n",
        "\n",
        "    # Diğer satırlardan bu sütunu sıfırla\n",
        "    for j in range(i + 1, n):\n",
        "        augmented_matrix[j] = augmented_matrix[j] - augmented_matrix[j, i] * augmented_matrix[i]\n",
        "\n",
        "# Geri yerine koyma\n",
        "x = np.zeros(n)\n",
        "\n",
        "for i in range(n - 1, -1, -1):\n",
        "    x[i] = augmented_matrix[i, -1] - np.dot(augmented_matrix[i, i + 1:n], x[i + 1:n])\n",
        "\n",
        "# Çözümü yazdır\n",
        "print(\"Sistemin çözümleri:\")\n",
        "print(f\"x = {x[0]:.2f}\")\n",
        "print(f\"y = {x[1]:.2f}\")\n",
        "print(f\"z = {x[2]:.2f}\")\n",
        "print(f\"t = {x[3]:.2f}\")\n"
      ],
      "metadata": {
        "id": "_iKmpNURf-4D",
        "outputId": "d470ce6f-5442-4c49-a98f-e40fb01aa51c",
        "colab": {
          "base_uri": "https://localhost:8080/"
        }
      },
      "execution_count": 3,
      "outputs": [
        {
          "output_type": "stream",
          "name": "stdout",
          "text": [
            "Sistemin çözümleri:\n",
            "x = 2.00\n",
            "y = -2.00\n",
            "z = 1.00\n",
            "t = -1.00\n"
          ]
        }
      ]
    },
    {
      "cell_type": "markdown",
      "metadata": {
        "id": "XDLDjWxCHalw"
      },
      "source": [
        "3\n"
      ]
    },
    {
      "cell_type": "code",
      "source": [
        "import numpy as np\n",
        "\n",
        "# Augmented matrix for the system of equations\n",
        "A = np.array([\n",
        "    [1, 1, -1, -1, 0],  # x + y - z - t = 0\n",
        "    [2, 3, -2, 1, 4],   # 2x + 3y - 2z + t = 4\n",
        "    [3, 0, 5, 0, 0],    # 3x + 5z = 0\n",
        "    [-1, 1, -3, 2, 3]   # -x + y - 3z + 2t = 3\n",
        "], dtype=float)\n",
        "\n",
        "# Perform Gaussian elimination\n",
        "n = len(A)\n",
        "for i in range(n):\n",
        "    # Partial pivoting\n",
        "    max_row = i + np.argmax(np.abs(A[i:, i]))\n",
        "    A[[i, max_row]] = A[[max_row, i]]\n",
        "\n",
        "    # Make the diagonal element 1\n",
        "    A[i] = A[i] / A[i, i]\n",
        "\n",
        "    # Eliminate the column below the pivot\n",
        "    for j in range(i + 1, n):\n",
        "        A[j] = A[j] - A[j, i] * A[i]\n",
        "\n",
        "# Back substitution to get reduced row echelon form\n",
        "for i in range(n - 1, -1, -1):\n",
        "    for j in range(i - 1, -1, -1):\n",
        "        A[j] = A[j] - A[j, i] * A[i]\n",
        "\n",
        "# Extract the solution\n",
        "solution = A[:, -1]\n",
        "x, y, z, t = solution\n",
        "\n",
        "# Print the solution\n",
        "print(f\"Solution: x = {x}, y = {y}, z = {z}, t = {t}\")\n"
      ],
      "metadata": {
        "id": "kxV13vp1kihT",
        "outputId": "c849c61f-65b4-4d3d-a0b6-249e0b446f35",
        "colab": {
          "base_uri": "https://localhost:8080/"
        }
      },
      "execution_count": 4,
      "outputs": [
        {
          "output_type": "stream",
          "name": "stdout",
          "text": [
            "Solution: x = 0.0, y = 1.0, z = 0.0, t = 1.0\n"
          ]
        }
      ]
    },
    {
      "cell_type": "markdown",
      "source": [
        "\n",
        "\n",
        "\n",
        "\\begin{cases}\n",
        "  x + y - z - t = 0, \\\\\n",
        "  2x + 3y - 2z + t = 4, \\\\\n",
        "  3x + 5z = 0, \\\\\n",
        "  -x + y - 3z + 2t = 3.\n",
        "\\end{cases}\n",
        "\n",
        "\n",
        "### Solution:\n",
        "\n",
        "#### Step 1: Write the system in augmented matrix form:\n",
        "\\begin{bmatrix}\n",
        "  1 & 1 & -1 & -1 & | & 0 \\\\\n",
        "  2 & 3 & -2 & 1 & | & 4 \\\\\n",
        "  3 & 0 & 5 & 0 & | & 0 \\\\\n",
        "  -1 & 1 & -3 & 2 & | & 3\n",
        "\\end{bmatrix}\n",
        "\n",
        "#### Step 2: Perform Gaussian elimination:\n",
        "\n",
        "**1. Make the first element in the first column a pivot (1):**\n",
        "The first row already has a pivot of 1.\n",
        "\n",
        "**2. Eliminate the first column for the rows below the pivot:**\n",
        "- Subtract \\(2\\times\\) Row 1 from Row 2.\n",
        "- Subtract \\(3\\times\\) Row 1 from Row 3.\n",
        "- Add Row 1 to Row 4.\n",
        "\n",
        "The matrix becomes:\n",
        "\n",
        "\\begin{bmatrix}\n",
        "  1 & 1 & -1 & -1 & | & 0 \\\\\n",
        "  0 & 1 & 0 & 3 & | & 4 \\\\\n",
        "  0 & -3 & 8 & 3 & | & 0 \\\\\n",
        "  0 & 2 & -4 & 3 & | & 3\n",
        "\\end{bmatrix}\n",
        "\n",
        "\n",
        "**3. Make the second element in the second column a pivot (1):**\n",
        "Divide Row 2 by 1 (no change is needed).\n",
        "\n",
        "**4. Eliminate the second column for the rows below and above the pivot:**\n",
        "- Add \\(3\\times\\) Row 2 to Row 3.\n",
        "- Subtract \\(2\\times\\) Row 2 from Row 4.\n",
        "- Subtract Row 2 from Row 1.\n",
        "\n",
        "The matrix becomes:\n",
        "\n",
        "\\begin{bmatrix}\n",
        "  1 & 0 & -1 & -4 & | & -4 \\\\\n",
        "  0 & 1 & 0 & 3 & | & 4 \\\\\n",
        "  0 & 0 & 8 & 12 & | & 12 \\\\\n",
        "  0 & 0 & -4 & -3 & | & -5\n",
        "\\end{bmatrix}\n",
        "\n",
        "\n",
        "**5. Make the third element in the third column a pivot (8):**\n",
        "Divide Row 3 by 8:\n",
        "\n",
        "\\begin{bmatrix}\n",
        "  1 & 0 & -1 & -4 & | & -4 \\\\\n",
        "  0 & 1 & 0 & 3 & | & 4 \\\\\n",
        "  0 & 0 & 1 & \\frac{3}{2} & | & \\frac{3}{2} \\\\\n",
        "  0 & 0 & -4 & -3 & | & -5\n",
        "\\end{bmatrix}\n",
        "\n",
        "\n",
        "**6. Eliminate the third column for the rows above and below the pivot:**\n",
        "- Add \\(4\\times\\) Row 3 to Row 4.\n",
        "- Add Row 3 to Row 1.\n",
        "\n",
        "The matrix becomes:\n",
        "\n",
        "\\begin{bmatrix}\n",
        "  1 & 0 & 0 & -\\frac{5}{2} & | & -\\frac{5}{2} \\\\\n",
        "  0 & 1 & 0 & 3 & | & 4 \\\\\n",
        "  0 & 0 & 1 & \\frac{3}{2} & | & \\frac{3}{2} \\\\\n",
        "  0 & 0 & 0 & 3 & | & 3\n",
        "\\end{bmatrix}\n",
        "\n",
        "\n",
        "**7. Make the fourth element in the fourth column a pivot (3):**\n",
        "\n",
        "\\begin{bmatrix}\n",
        "  1 & 0 & 0 & -\\frac{5}{2} & | & -\\frac{5}{2} \\\\\n",
        "  0 & 1 & 0 & 3 & | & 4 \\\\\n",
        "  0 & 0 & 1 & \\frac{3}{2} & | & \\frac{3}{2} \\\\\n",
        "  0 & 0 & 0 & 1 & | & 1\n",
        "\\end{bmatrix}\n",
        "\n",
        "\n",
        "**8. Eliminate the fourth column for the rows above:**\n",
        "- Add \\(\\frac{5}{2}\\times\\) Row 4 to Row 1.\n",
        "- Subtract \\(3\\times\\) Row 4 from Row 2.\n",
        "- Subtract \\(\\frac{3}{2}\\times\\) Row 4 from Row 3.\n",
        "\n",
        "The matrix becomes:\n",
        "\n",
        "\\begin{bmatrix}\n",
        "  1 & 0 & 0 & 0 & | & 0 \\\\\n",
        "  0 & 1 & 0 & 0 & | & 1 \\\\\n",
        "  0 & 0 & 1 & 0 & | & 1 \\\\\n",
        "  0 & 0 & 0 & 1 & | & 1\n",
        "\\end{bmatrix}\n",
        "\n",
        "\n",
        "#### Step 3: Back-substitute to find the solution:\n",
        "From the reduced matrix, we have:\n",
        "\n",
        "\\begin{cases}\n",
        "  x = 0, \\\\\n",
        "  y = 1, \\\\\n",
        "  z = 1, \\\\\n",
        "  t = 1.\n",
        "\\end{cases}\n",
        "\n",
        "### Final Answer:\n",
        "\n",
        "(x, y, z, t) = (0, 1, 1, 1).\n"
      ],
      "metadata": {
        "id": "NTCMmCzUkQHP"
      }
    },
    {
      "cell_type": "markdown",
      "metadata": {
        "id": "NPA2WQBnHalw"
      },
      "source": []
    },
    {
      "cell_type": "markdown",
      "metadata": {
        "id": "rCmiXmsYHalw"
      },
      "source": []
    }
  ],
  "metadata": {
    "kernelspec": {
      "display_name": ".venv",
      "language": "python",
      "name": "python3"
    },
    "language_info": {
      "codemirror_mode": {
        "name": "ipython",
        "version": 3
      },
      "file_extension": ".py",
      "mimetype": "text/x-python",
      "name": "python",
      "nbconvert_exporter": "python",
      "pygments_lexer": "ipython3",
      "version": "3.11.9"
    },
    "colab": {
      "provenance": []
    }
  },
  "nbformat": 4,
  "nbformat_minor": 0
}