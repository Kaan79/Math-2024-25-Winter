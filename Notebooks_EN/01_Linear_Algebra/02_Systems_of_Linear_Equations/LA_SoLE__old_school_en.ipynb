{
  "cells": [
    {
      "cell_type": "markdown",
      "metadata": {
        "id": "NDYYudQhJANV"
      },
      "source": [
        "# School Method for Solving Systems of Linear Equations"
      ]
    },
    {
      "cell_type": "code",
      "execution_count": null,
      "metadata": {
        "id": "yPVCpyMlJANa"
      },
      "outputs": [],
      "source": [
        "import sympy as sp\n",
        "from sympy import symbols, Eq, expand, solve\n",
        "\n",
        "class EnhancedEq(Eq):\n",
        "    def __add__(self, other):\n",
        "        return EnhancedEq(self.lhs + other.lhs, self.rhs + other.rhs)\n",
        "\n",
        "    def __sub__(self, other):\n",
        "        return EnhancedEq(self.lhs - other.lhs, self.rhs - other.rhs)\n",
        "\n",
        "    def __mul__(self, scalar):\n",
        "        return EnhancedEq(scalar * self.lhs, scalar * self.rhs)\n",
        "\n",
        "    def __rmul__(self, scalar):\n",
        "        return self.__mul__(scalar)\n",
        "\n",
        "    def simplify(self):\n",
        "        return EnhancedEq(expand(self.lhs), expand(self.rhs))\n",
        "\n",
        "    def substitute(self, *args, **kwargs):\n",
        "        return EnhancedEq(self.lhs.subs(*args, **kwargs), self.rhs.subs(*args, **kwargs))\n",
        "\n",
        "    def solve_for(self, symbol):\n",
        "        return solve(self, symbol)\n",
        "\n",
        "# Example usage:\n",
        "x, y = symbols('x y')\n",
        "\n",
        "# Define equations\n",
        "eq1 = EnhancedEq(2*x + y, 5)\n",
        "eq2 = EnhancedEq(x - y, 1)"
      ]
    },
    {
      "cell_type": "code",
      "execution_count": null,
      "metadata": {
        "id": "rVhw4W7YJANe",
        "outputId": "e670c6a4-0f33-4b63-f22b-a06cfe7fd7d2"
      },
      "outputs": [
        {
          "name": "stdout",
          "output_type": "stream",
          "text": [
            "First equation:\n"
          ]
        },
        {
          "data": {
            "text/latex": [
              "$\\displaystyle 2 x + y = 5$"
            ],
            "text/plain": [
              "Eq(2*x + y, 5)"
            ]
          },
          "execution_count": 2,
          "metadata": {},
          "output_type": "execute_result"
        }
      ],
      "source": [
        "print(\"First equation:\")\n",
        "eq1"
      ]
    },
    {
      "cell_type": "code",
      "execution_count": null,
      "metadata": {
        "id": "5-bCR8wSJANg",
        "outputId": "379ecda5-3724-444b-f44d-cd6f5e235ff3"
      },
      "outputs": [
        {
          "name": "stdout",
          "output_type": "stream",
          "text": [
            "Second equation:\n"
          ]
        },
        {
          "data": {
            "text/latex": [
              "$\\displaystyle x - y = 1$"
            ],
            "text/plain": [
              "Eq(x - y, 1)"
            ]
          },
          "execution_count": 3,
          "metadata": {},
          "output_type": "execute_result"
        }
      ],
      "source": [
        "print(\"Second equation:\")\n",
        "eq2"
      ]
    },
    {
      "cell_type": "code",
      "execution_count": null,
      "metadata": {
        "id": "KUjapuK6JANh",
        "outputId": "c402b6e0-1f1e-47f3-a97f-c0658685bb5c"
      },
      "outputs": [
        {
          "data": {
            "text/latex": [
              "$\\displaystyle 3 x = 6$"
            ],
            "text/plain": [
              "Eq(3*x, 6)"
            ]
          },
          "execution_count": 4,
          "metadata": {},
          "output_type": "execute_result"
        }
      ],
      "source": [
        "# Add the equations\n",
        "eq3 = eq1 + eq2\n",
        "eq3"
      ]
    },
    {
      "cell_type": "code",
      "execution_count": null,
      "metadata": {
        "id": "Ev-FgAaqJANi",
        "outputId": "d388955f-cd19-4d99-d0f8-161ebbd7d8f3"
      },
      "outputs": [
        {
          "data": {
            "text/latex": [
              "$\\displaystyle 2$"
            ],
            "text/plain": [
              "2"
            ]
          },
          "execution_count": 5,
          "metadata": {},
          "output_type": "execute_result"
        }
      ],
      "source": [
        "# We have an equation with one unknown, so we can solve it\n",
        "sol_x = eq3.solve_for(x)[0]\n",
        "sol_x"
      ]
    },
    {
      "cell_type": "code",
      "execution_count": null,
      "metadata": {
        "id": "1tMVebp8JANj",
        "outputId": "b3c705a3-cbbe-4a40-8608-cde6a62a8b37"
      },
      "outputs": [
        {
          "data": {
            "text/latex": [
              "$\\displaystyle 2 - y = 1$"
            ],
            "text/plain": [
              "Eq(2 - y, 1)"
            ]
          },
          "execution_count": 6,
          "metadata": {},
          "output_type": "execute_result"
        }
      ],
      "source": [
        "# Substitute the solution into equation 2\n",
        "eq2 = eq2.substitute(x, sol_x)\n",
        "eq2"
      ]
    },
    {
      "cell_type": "code",
      "execution_count": null,
      "metadata": {
        "id": "FGMMZ4haJANk",
        "outputId": "8439e5f1-4910-45da-c198-04af32180566"
      },
      "outputs": [
        {
          "data": {
            "text/latex": [
              "$\\displaystyle 1$"
            ],
            "text/plain": [
              "1"
            ]
          },
          "execution_count": 7,
          "metadata": {},
          "output_type": "execute_result"
        }
      ],
      "source": [
        "# We get an equation with one unknown, so we can solve it\n",
        "eq2.solve_for(y)[0]"
      ]
    },
    {
      "cell_type": "code",
      "execution_count": null,
      "metadata": {
        "id": "qcV2OeidJANl",
        "outputId": "6e525f12-71fb-4083-9157-a009d8535c4f"
      },
      "outputs": [
        {
          "data": {
            "text/plain": [
              "{x: 2, y: 1}"
            ]
          },
          "execution_count": 8,
          "metadata": {},
          "output_type": "execute_result"
        }
      ],
      "source": [
        "# Thus x=2, y=1\n",
        "# Verify with sympy\n",
        "sp.solve([eq1, eq2])"
      ]
    },
    {
      "cell_type": "markdown",
      "metadata": {
        "id": "Vk_Z0wy-JANl"
      },
      "source": [
        "---\n",
        "\n",
        "### Exercises for Students\n",
        "\n",
        "Solve the following systems of equations similarly to the example above:\n",
        "\n",
        "* $3x-2y=5, \\quad 2x+3y=7$,\n",
        "* $2x-3y=10, \\quad 4x+5y=20$,\n",
        "* $2x - y + z = 3, \\quad x + 2y - z = 1, \\quad 3x - y + 2z = 11$.\n",
        "* $2x-3y+4z+2t=2, \\quad 3x+2y-5z+3t=3, \\quad 4x-3y+2z-5t=4, \\quad 5x+4y-3z+2t=5$."
      ]
    },
    {
      "cell_type": "code",
      "source": [
        "import numpy as np\n",
        "\n",
        "# Define the coefficient matrix A and the constant vector b\n",
        "A = np.array([[3, -2], [2, 3]])\n",
        "b = np.array([5, 7])\n",
        "\n",
        "# Solve the system of equations using np.linalg.solve\n",
        "solution = np.linalg.solve(A, b)\n",
        "\n",
        "print(\"Solution:\", solution)"
      ],
      "metadata": {
        "id": "dX9R3bXWJRj4",
        "outputId": "6fd01dcb-927d-4b1f-ac89-9626302da2db",
        "colab": {
          "base_uri": "https://localhost:8080/"
        }
      },
      "execution_count": 1,
      "outputs": [
        {
          "output_type": "stream",
          "name": "stdout",
          "text": [
            "Solution: [2.23076923 0.84615385]\n"
          ]
        }
      ]
    },
    {
      "cell_type": "code",
      "source": [
        "import numpy as np\n",
        "\n",
        "# Define the coefficient matrix A and the constant vector b\n",
        "A = np.array([[2, -3], [4, 5]])\n",
        "b = np.array([10, 2])\n",
        "\n",
        "# Solve the system of equations using np.linalg.solve\n",
        "solution = np.linalg.solve(A, b)\n",
        "\n",
        "print(\"Solution:\", solution)"
      ],
      "metadata": {
        "id": "VJ0qodwAJXjU",
        "outputId": "ff9e593c-75c4-4229-d077-bb23ae70faf3",
        "colab": {
          "base_uri": "https://localhost:8080/"
        }
      },
      "execution_count": 2,
      "outputs": [
        {
          "output_type": "stream",
          "name": "stdout",
          "text": [
            "Solution: [ 2.54545455 -1.63636364]\n"
          ]
        }
      ]
    },
    {
      "cell_type": "code",
      "source": [
        "import numpy as np\n",
        "\n",
        "def gauss_jordan_elimination(A, b):\n",
        "    \"\"\"Solves a system of linear equations using Gauss-Jordan elimination.\n",
        "\n",
        "    Args:\n",
        "        A: The coefficient matrix.\n",
        "        b: The constant vector.\n",
        "\n",
        "    Returns:\n",
        "        The solution vector x, or None if the system is inconsistent or has infinitely many solutions.\n",
        "    \"\"\"\n",
        "\n",
        "    n = len(A)\n",
        "    augmented_matrix = np.hstack((A, b.reshape(-1, 1)))\n",
        "\n",
        "    for i in range(n):\n",
        "        # Find the pivot row\n",
        "        pivot_row = i\n",
        "        for j in range(i + 1, n):\n",
        "            if abs(augmented_matrix[j, i]) > abs(augmented_matrix[pivot_row, i]):\n",
        "                pivot_row = j\n",
        "\n",
        "        # Swap rows if necessary\n",
        "        augmented_matrix[[i, pivot_row]] = augmented_matrix[[pivot_row, i]]\n",
        "\n",
        "        # Make the pivot element 1\n",
        "        pivot_element = augmented_matrix[i, i]\n",
        "\n",
        "\n",
        "        # Eliminate elements below the pivot\n",
        "        for j in range(i + 1, n):\n",
        "            factor = augmented_matrix[j, i]\n",
        "            augmented_matrix[j] -= factor * augmented_matrix[i]\n",
        "\n",
        "    # Back substitution to get the solution\n",
        "    x = np.zeros(n)\n",
        "    for i in range(n - 1, -1, -1):\n",
        "        x[i] = augmented_matrix[i, n]\n",
        "        for j in range(i + 1, n):\n",
        "            x[i] -= augmented_matrix[i, j] * x[j]\n",
        "\n",
        "    return x\n",
        "\n",
        "# Example usage:\n",
        "A = np.array([[2, -1, 1], [1, 2, -1], [3, -1, 2]])\n",
        "b = np.array([3, 1, 11])\n",
        "\n",
        "solution = gauss_jordan_elimination(A, b)\n",
        "print(\"Solution:\", solution)"
      ],
      "metadata": {
        "id": "gLLf1rdJJcMq",
        "outputId": "46f54226-3c42-4697-e92e-be57274ce3e2",
        "colab": {
          "base_uri": "https://localhost:8080/"
        }
      },
      "execution_count": 4,
      "outputs": [
        {
          "output_type": "stream",
          "name": "stdout",
          "text": [
            "Solution: [ -8. -37.  -9.]\n"
          ]
        }
      ]
    },
    {
      "cell_type": "code",
      "source": [
        "import numpy as np\n",
        "\n",
        "def gauss_jordan_elimination(A, b):\n",
        "    \"\"\"Solves a system of linear equations using Gauss-Jordan elimination.\n",
        "\n",
        "    Args:\n",
        "        A: The coefficient matrix.\n",
        "        b: The constant vector.\n",
        "\n",
        "    Returns:\n",
        "        The solution vector x, or None if the system is inconsistent or has infinitely many solutions.\n",
        "    \"\"\"\n",
        "\n",
        "    n = len(A)\n",
        "    augmented_matrix = np.hstack((A, b.reshape(-1, 1)))\n",
        "\n",
        "    for i in range(n):\n",
        "        # Find the pivot row\n",
        "        pivot_row = i\n",
        "        for j in range(i + 1, n):\n",
        "            if abs(augmented_matrix[j, i]) > abs(augmented_matrix[pivot_row, i]):\n",
        "                pivot_row = j\n",
        "\n",
        "        # Swap rows if necessary\n",
        "        augmented_matrix[[i, pivot_row]] = augmented_matrix[[pivot_row, i]]\n",
        "\n",
        "        # Make the pivot element 1\n",
        "        pivot_element = augmented_matrix[i, i]\n",
        "\n",
        "\n",
        "        # Eliminate elements below the pivot\n",
        "        for j in range(i + 1, n):\n",
        "            factor = augmented_matrix[j, i]\n",
        "            augmented_matrix[j] -= factor * augmented_matrix[i]\n",
        "\n",
        "    # Back substitution to get the solution\n",
        "    x = np.zeros(n)\n",
        "    for i in range(n - 1, -1, -1):\n",
        "        x[i] = augmented_matrix[i, n]\n",
        "        for j in range(i + 1, n):\n",
        "            x[i] -= augmented_matrix[i, j] * x[j]\n",
        "\n",
        "    return x\n",
        "\n",
        "# Example usage:\n",
        "A = np.array([[2, -3, 1, 4, 2], [3, -2, 1, 5, 2], [2, -3, 1, 5, 2], [4, -5, 1, 6, 2]])\n",
        "b = np.array([7, 8, 7, 9])\n",
        "\n",
        "solution = gauss_jordan_elimination(A, b)\n",
        "print(\"Solution:\", solution)"
      ],
      "metadata": {
        "id": "eKA0YckWJmZw",
        "outputId": "5f3948f2-551a-4eeb-c4aa-5ebc2d31fe69",
        "colab": {
          "base_uri": "https://localhost:8080/"
        }
      },
      "execution_count": 5,
      "outputs": [
        {
          "output_type": "stream",
          "name": "stdout",
          "text": [
            "Solution: [217680.  48408.  26234.   -312.]\n"
          ]
        }
      ]
    }
  ],
  "metadata": {
    "kernelspec": {
      "display_name": "Python 3",
      "language": "python",
      "name": "python3"
    },
    "language_info": {
      "codemirror_mode": {
        "name": "ipython",
        "version": 3
      },
      "file_extension": ".py",
      "mimetype": "text/x-python",
      "name": "python",
      "nbconvert_exporter": "python",
      "pygments_lexer": "ipython3",
      "version": "3.11.9"
    },
    "colab": {
      "provenance": []
    }
  },
  "nbformat": 4,
  "nbformat_minor": 0
}