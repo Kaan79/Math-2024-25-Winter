{
  "cells": [
    {
      "cell_type": "markdown",
      "metadata": {
        "id": "pZM1muyEAbmH"
      },
      "source": [
        "# Basic Matrix Operations\n",
        "\n",
        "### Matrix Addition\n",
        "\n",
        "Let $A=[a_{ij}]$ and $B=[b_{ij}]$ be two matrices of dimensions $m \\times n$. Then the sum of matrices $A$ and $B$ is the matrix $C=[c_{ij}]$ of dimensions $m \\times n$, where $c_{ij}=a_{ij}+b_{ij}$.\n",
        "\n",
        "### Matrix Scalar Multiplication\n",
        "\n",
        "Let $A=[a_{ij}]$ be a matrix of dimensions $m \\times n$, and let $k$ be a scalar. Then the product of matrix $A$ and scalar $k$ is the matrix $B=[b_{ij}]$ of dimensions $m \\times n$, where $b_{ij}=k \\cdot a_{ij}$.\n",
        "\n",
        "### Matrix Multiplication\n",
        "\n",
        "Let $A=[a_{ij}]$ be a matrix of dimensions $m \\times n$, and $B=[b_{ij}]$ be a matrix of dimensions $n \\times p$. Then the product of matrices $A$ and $B$ is the matrix $C=[c_{ij}]$ of dimensions $m \\times p$, where $c_{ij}=\\sum_{k=1}^{n} a_{ik} \\cdot b_{kj}$.\n",
        "\n",
        "\n",
        "### Example 1\n",
        "\n",
        "Let $A=\\begin{bmatrix} 1 & 2 \\\\ 3 & 4 \\end{bmatrix}$ and $B=\\begin{bmatrix} 5 & 6 \\\\ 7 & 8 \\end{bmatrix}$.\n",
        "Then the sum of matrices $A$ and $B$ is\n",
        "\n",
        "$$\n",
        "C=\n",
        "A+B=\\begin{bmatrix} 1+5 & 2+6 \\\\ 3+7 & 4+8 \\end{bmatrix}=\\begin{bmatrix} 6 & 8 \\\\ 10 & 12 \\end{bmatrix}.\n",
        "$$\n",
        "\n",
        "### Example 2\n",
        "\n",
        "Let $A=\\begin{bmatrix} 1 & 2 \\\\ 3 & 4 \\end{bmatrix}$ and $k=2$.\n",
        "\n",
        "Then the product of matrix $A$ and scalar $k$ is\n",
        "\n",
        "$$\n",
        "B=\n",
        "k \\cdot A=2 \\cdot \\begin{bmatrix} 1 & 2 \\\\ 3 & 4 \\end{bmatrix}=\\begin{bmatrix} 2*1 & 2*2 \\\\ 2*3 & 2*4 \\end{bmatrix}=\\begin{bmatrix} 2 & 4 \\\\ 6 & 8 \\end{bmatrix}.\n",
        "$$\n",
        "\n",
        "### Example 3\n",
        "\n",
        "Let\n",
        "$A=\\begin{bmatrix} 1 & 2 \\\\ 3 & 4 \\end{bmatrix}$\n",
        "and\n",
        "$B=\\begin{bmatrix} 5 & 6 \\\\ 7 & 8 \\end{bmatrix}$.\n",
        "\n",
        "Then the product of matrices $A$ and $B$ is\n",
        "\n",
        "$$\n",
        "C=\n",
        "A \\cdot B=\\begin{bmatrix} 1*5+2*7 & 1*6+2*8 \\\\ 3*5+4*7 & 3*6+4*8 \\end{bmatrix}=\\begin{bmatrix} 19 & 22 \\\\ 43 & 50 \\end{bmatrix}.\n",
        "$$"
      ]
    },
    {
      "cell_type": "code",
      "execution_count": null,
      "metadata": {
        "id": "gpZxDKTfAbmI"
      },
      "outputs": [],
      "source": [
        "# Example 1: Matrix addition in sympy\n",
        "import sympy as sp\n",
        "\n",
        "A=sp.Matrix([[1,2],[3,4]])\n",
        "B=sp.Matrix([[5,6],[7,8]])\n",
        "A # display matrix A"
      ]
    },
    {
      "cell_type": "code",
      "execution_count": null,
      "metadata": {
        "id": "Ssp1ZTDLAbmJ"
      },
      "outputs": [],
      "source": [
        "B # display matrix B"
      ]
    },
    {
      "cell_type": "code",
      "execution_count": null,
      "metadata": {
        "id": "LPaGS8WhAbmJ"
      },
      "outputs": [],
      "source": [
        "sp.Matrix([[6,8],[10,12]])==A+B # verify matrix addition"
      ]
    },
    {
      "cell_type": "code",
      "execution_count": null,
      "metadata": {
        "id": "9M-qCum3AbmJ"
      },
      "outputs": [],
      "source": [
        "# Example 2: Scalar multiplication\n",
        "A=sp.Matrix([[1,2],[3,4]]) # define matrix A\n",
        "\n",
        "sp.Matrix([[2,4],[6,8]])==2*A # verify scalar multiplication"
      ]
    },
    {
      "cell_type": "code",
      "execution_count": null,
      "metadata": {
        "id": "xf9c-va7AbmJ"
      },
      "outputs": [],
      "source": [
        "# Example 3: Multiplication of two matrices\n",
        "\n",
        "A=sp.Matrix([[1,2],[3,4]]) # define matrix A\n",
        "B=sp.Matrix([[5,6],[7,8]]) # define matrix B\n",
        "\n",
        "sp.Matrix([[19,22],[43,50]])==A*B # verify matrix multiplication"
      ]
    },
    {
      "cell_type": "markdown",
      "metadata": {
        "id": "giwIrkY9AbmJ"
      },
      "source": [
        "### Necessary Condition for Matrix Multiplication\n",
        "\n",
        "Remember that matrices can have different numbers of rows and columns.\n",
        "\n",
        "To multiply two matrices $A_{m \\times n}$ and $B_{n \\times k}$, where $A$ has dimensions $m \\times n$ and $B$ has dimensions $n \\times k$, the number of columns of matrix $A$ must equal the number of rows of matrix $B$. Otherwise, matrix multiplication is not possible.\n",
        "\n",
        "$$\n",
        "A_{m \\times n} \\cdot B_{n \\times k} = C_{m \\times k}\n",
        "$$\n",
        "\n",
        "For example, if $A_{3 \\times 3}$ and $B_{3 \\times 3}$, then the resulting matrix $C_{3 \\times 3}$.\n",
        "\n",
        "<img src=\"https://www.mscroggs.co.uk/img/full/multiply_matrices.gif\" alt=\"Matrix Multiplication GIF\" width=\"400\">\n",
        "\n",
        "### Matrix Multiplication is Not Commutative\n",
        "\n",
        "Matrix multiplication is not commutative, i.e., in general $A \\cdot B \\neq B \\cdot A$."
      ]
    },
    {
      "cell_type": "code",
      "execution_count": null,
      "metadata": {
        "id": "UYBNBsdHAbmJ"
      },
      "outputs": [],
      "source": [
        "# Example of multiplying rectangular matrices\n",
        "import sympy as sp\n",
        "A=sp.Matrix([[1,2],[3,4],[5,6]]) # define matrix A_{3 x 2}\n",
        "B=sp.Matrix([[1,2,3],[4,5,6]]) # define matrix B_{2 x 3}\n",
        "C=sp.Matrix([[9,12,15],[19,26,33],[29,40,51]]) # define matrix C_{3 x 3}\n",
        "\n",
        "A*B # multiply matrices A and B to get a 3x3 matrix"
      ]
    },
    {
      "cell_type": "code",
      "execution_count": null,
      "metadata": {
        "id": "xAWOXbM5AbmK"
      },
      "outputs": [],
      "source": [
        "B*A # multiply matrices B and A to get a 2x2 matrix"
      ]
    },
    {
      "cell_type": "code",
      "execution_count": null,
      "metadata": {
        "id": "SbbZTDNTAbmK"
      },
      "outputs": [],
      "source": [
        "B*C # multiply matrices B and C to get a 2x3 matrix"
      ]
    },
    {
      "cell_type": "markdown",
      "metadata": {
        "id": "Y8wc_7SGAbmK"
      },
      "source": [
        "---\n",
        "## Exercises for Students (old version)\n",
        "\n",
        "1. Calculate the sum of matrices $A=\\begin{bmatrix} 1 & 2 \\\\ 3 & 4 \\end{bmatrix}$ and $B=\\begin{bmatrix} 5 & 6 \\\\ 7 & 8 \\end{bmatrix}$.\n",
        "\n",
        "2. Calculate the product of matrix $A=\\begin{bmatrix} 4 & 2 \\\\ 12 & 4 \\end{bmatrix}$ and scalar $k=\\frac{1}{4}$.\n",
        "\n",
        "3. Calculate the products $A\\cdot B$ and $B \\cdot A$ for matrices $A=\\begin{bmatrix} 3 & 2 \\\\ 2 & 4 \\end{bmatrix}$ and $B=\\begin{bmatrix} 4 & 1 \\\\ 6 & 4 \\end{bmatrix}$."
      ]
    },
    {
      "cell_type": "markdown",
      "metadata": {
        "id": "W4ESG-vIAbmK"
      },
      "source": [
        "\n",
        "## Exercises for Students (new version)\n",
        "\n",
        "For follwing matrices\n",
        "\n",
        "$$\n",
        "\\mathbf{A}=\n",
        "\\begin{pmatrix}\n",
        "1 & 2 \\\\\n",
        "3 & 4\n",
        "\\end{pmatrix}\n",
        "\\qquad\n",
        "\\mathbf{B}=\n",
        "\\begin{pmatrix}\n",
        "5 & 6 \\\\\n",
        "7 & 8\n",
        "\\end{pmatrix}\n",
        "\\quad\n",
        "\\mathbf{C}=\n",
        "\\begin{pmatrix}\n",
        "-1 & 2 \\\\\n",
        "3 & 0\n",
        "\\end{pmatrix}\n",
        "\\qquad\n",
        "\\mathbf{D}=\n",
        "\\begin{pmatrix}\n",
        "-1 & 2 & 3 \\\\\n",
        "4 & 0 & 6\n",
        "\\end{pmatrix}\n",
        "\\qquad\n",
        "\\mathbf{E}=\n",
        "\\begin{pmatrix}\n",
        "1 & 2\\\\\n",
        "4 & 5\\\\\n",
        "7 & 8\n",
        "\\end{pmatrix}\n",
        "$$\n",
        "\n",
        "1. Calculate: $\\mathbf{A}+\\mathbf{B}$;  $\\mathbf{B}-\\mathbf{A}$;  $\\mathbf{A}+\\mathbf{C}$; $\\mathbf{D}+\\mathbf{E}$.\n",
        "\n",
        "2. Calculate $\\frac{1}{2}\\mathbf{A}$, $2\\mathbf{B}$, $-3\\mathbf{C}$, and $4\\mathbf{D}$.\n",
        "\n",
        "3. Calculate the products $\\mathbf{A}\\cdot \\mathbf{B}$; $\\mathbf{B} \\cdot \\mathbf{A}$; $\\mathbf{A} \\cdot \\mathbf{D}$; $\\mathbf{D} \\cdot \\mathbf{E}$."
      ]
    },
    {
      "cell_type": "markdown",
      "metadata": {
        "id": "7U5GlcL3AbmK"
      },
      "source": []
    },
    {
      "cell_type": "code",
      "source": [
        "import numpy as np\n",
        "\n",
        "# Define the matrices\n",
        "A = np.array([[1, 2], [3, 4]])\n",
        "B = np.array([[5, 6], [7, 8]])\n",
        "C = np.array([[-1, 2], [3, 0]])\n",
        "D = np.array([[-1, 2, 3], [4, 0, 6]])\n",
        "E = np.array([[1, 2], [4, 5], [7, 8]])\n",
        "\n",
        "# Calculate A + B\n",
        "A_plus_B = A + B\n",
        "print(\"A + B:\\n\", A_plus_B)\n",
        "\n",
        "# Calculate B - A\n",
        "B_minus_A = B - A\n",
        "print(\"B - A:\\n\", B_minus_A)\n",
        "\n",
        "# Calculate A + C\n",
        "A_plus_C = A + C\n",
        "print(\"A + C:\\n\", A_plus_C)\n",
        "\n",
        "# D and E have different dimensions, so D + E is not possible\n",
        "# print(\"D + E:\\n\", D + E)  # This would raise an error"
      ],
      "metadata": {
        "colab": {
          "base_uri": "https://localhost:8080/"
        },
        "id": "2sRYMpRpBg3j",
        "outputId": "c3143c4a-607e-4ca5-d1d8-0c71928e265b"
      },
      "execution_count": 1,
      "outputs": [
        {
          "output_type": "stream",
          "name": "stdout",
          "text": [
            "A + B:\n",
            " [[ 6  8]\n",
            " [10 12]]\n",
            "B - A:\n",
            " [[4 4]\n",
            " [4 4]]\n",
            "A + C:\n",
            " [[0 4]\n",
            " [6 4]]\n"
          ]
        }
      ]
    },
    {
      "cell_type": "code",
      "source": [
        "import numpy as np\n",
        "\n",
        "# Define the matrices\n",
        "A = np.array([[1, 2], [3, 4]])\n",
        "B = np.array([[5, 6], [7, 8]])\n",
        "C = np.array([[-1, 2], [3, 0]])\n",
        "D = np.array([[-1, 2, 3], [4, 0, 6]])\n",
        "\n",
        "# Calculate 1/2 * A, 2 * B, 3 * C, and 4 * D\n",
        "half_A = 0.5 * A\n",
        "double_B = 2 * B\n",
        "triple_C = 3 * C\n",
        "quadruple_D = 4 * D\n",
        "\n",
        "print(\"1/2 * A:\\n\", half_A)\n",
        "print(\"2 * B:\\n\", double_B)\n",
        "print(\"3 * C:\\n\", triple_C)\n",
        "print(\"4 * D:\\n\", quadruple_D)"
      ],
      "metadata": {
        "colab": {
          "base_uri": "https://localhost:8080/"
        },
        "id": "MZv89sszByyZ",
        "outputId": "f66d8995-66b9-486f-a282-7ad9b0266023"
      },
      "execution_count": 2,
      "outputs": [
        {
          "output_type": "stream",
          "name": "stdout",
          "text": [
            "1/2 * A:\n",
            " [[0.5 1. ]\n",
            " [1.5 2. ]]\n",
            "2 * B:\n",
            " [[10 12]\n",
            " [14 16]]\n",
            "3 * C:\n",
            " [[-3  6]\n",
            " [ 9  0]]\n",
            "4 * D:\n",
            " [[-4  8 12]\n",
            " [16  0 24]]\n"
          ]
        }
      ]
    },
    {
      "cell_type": "code",
      "source": [
        "import numpy as np\n",
        "\n",
        "# Define the matrices\n",
        "A = np.array([[1, 2], [3, 4]])\n",
        "B = np.array([[5, 6], [7, 8]])\n",
        "C = np.array([[-1, 2], [3, 0]])\n",
        "D = np.array([[-1, 2, 3], [4, 0, 6]])\n",
        "E = np.array([[1, 2], [4, 5], [7, 8]])\n",
        "\n",
        "# Calculate the products\n",
        "product_AB = np.dot(A, B)\n",
        "product_BA = np.dot(B, A)\n",
        "product_AD = np.dot(A, D)  # This will result in an error due to incompatible dimensions\n",
        "product_DE = np.dot(D, E)\n",
        "\n",
        "print(\"A * B:\\n\", product_AB)\n",
        "print(\"B * A:\\n\", product_BA)\n",
        "print(\"A * D:\\n\", product_AD)  # This will print an error message\n",
        "print(\"D * E:\\n\", product_DE)"
      ],
      "metadata": {
        "colab": {
          "base_uri": "https://localhost:8080/"
        },
        "id": "Ljt28ArwB8Yx",
        "outputId": "e485be91-1174-4915-d6c8-dd318f1c4355"
      },
      "execution_count": 3,
      "outputs": [
        {
          "output_type": "stream",
          "name": "stdout",
          "text": [
            "A * B:\n",
            " [[19 22]\n",
            " [43 50]]\n",
            "B * A:\n",
            " [[23 34]\n",
            " [31 46]]\n",
            "A * D:\n",
            " [[ 7  2 15]\n",
            " [13  6 33]]\n",
            "D * E:\n",
            " [[28 32]\n",
            " [46 56]]\n"
          ]
        }
      ]
    }
  ],
  "metadata": {
    "kernelspec": {
      "display_name": "Python 3",
      "language": "python",
      "name": "python3"
    },
    "language_info": {
      "name": "python",
      "version": "3.11.9"
    },
    "colab": {
      "provenance": []
    }
  },
  "nbformat": 4,
  "nbformat_minor": 0
}