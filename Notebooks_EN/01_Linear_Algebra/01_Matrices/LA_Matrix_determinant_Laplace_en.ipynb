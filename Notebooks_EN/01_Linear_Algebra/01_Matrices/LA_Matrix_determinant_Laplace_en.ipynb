{
  "cells": [
    {
      "cell_type": "markdown",
      "metadata": {
        "id": "XB6OShp0CPgJ"
      },
      "source": [
        "# Determinants of 3x3 and 4x4 Matrices using Laplace expansion\n",
        "\n",
        "## Determinant of a 3x3 Matrix using Laplace expansion\n",
        "\n",
        "The general formula for the determinant of a 3x3 matrix is as follows:\n",
        "\n",
        "$$\n",
        "\\mathbf{A} =\n",
        "\\begin{pmatrix}\n",
        "a_{11} & a_{12} & a_{13} \\\\\n",
        "a_{21} & a_{22} & a_{23} \\\\\n",
        "a_{31} & a_{32} & a_{33}\n",
        "\\end{pmatrix}\n",
        "$$\n",
        "\n",
        "The determinant of a 3x3 matrix is calculated by expanding along the first row. We use Laplace expansion, which involves selecting elements of the first row and calculating the determinants of the 2x2 matrices that result from removing the appropriate rows and columns.\n",
        "\n",
        "Expanding along the first row of a 3x3 matrix:\n",
        "\n",
        "$$\n",
        "\\text{det}(A) =\n",
        "(-1)^{1+1}a_{11} \\cdot\n",
        "\\text{det}\n",
        "\\begin{pmatrix}\n",
        "a_{22} & a_{23} \\\\\n",
        "a_{32} & a_{33}\n",
        "\\end{pmatrix}\n",
        "+(-1)^{1+2} a_{12} \\cdot \\text{det}\n",
        "\\begin{pmatrix}\n",
        "a_{21} & a_{23} \\\\\n",
        "a_{31} & a_{33}\n",
        "\\end{pmatrix}\n",
        "+(-1)^{1+3}a_{13} \\cdot \\text{det}\n",
        "\\begin{pmatrix}\n",
        "a_{21} & a_{22} \\\\\n",
        "a_{31} & a_{32}\n",
        "\\end{pmatrix}\n",
        "$$\n",
        "\n",
        "### Example of a 3x3 Matrix\n",
        "\n",
        "For the matrix:\n",
        "\n",
        "$$\n",
        "\\mathbf{A} =\n",
        "\\begin{pmatrix}\n",
        "2 & 3 & 1 \\\\\n",
        "1 & 4 & 5 \\\\\n",
        "3 & 2 & 1\n",
        "\\end{pmatrix}\n",
        "$$\n",
        "\n",
        "Laplace expansion:\n",
        "\n",
        "$$\n",
        "\\text{det}(A) = 2 \\cdot\n",
        "\\text{det}\n",
        "\\begin{pmatrix}\n",
        "4 & 5 \\\\\n",
        "2 & 1\n",
        "\\end{pmatrix}\n",
        "- 3 \\cdot\n",
        "\\text{det}\n",
        "\\begin{pmatrix}\n",
        "1 & 5 \\\\\n",
        "3 & 1\n",
        "\\end{pmatrix}\n",
        "+ 1 \\cdot\n",
        "\\text{det}\n",
        "\\begin{pmatrix}\n",
        "1 & 4 \\\\\n",
        "3 & 2\n",
        "\\end{pmatrix}\n",
        "$$\n",
        "\n",
        "## Determinant of a 4x4 Matrix using Laplace Expansion\n",
        "\n",
        "The general formula for the determinant of a 4x4 matrix, where the matrix looks as follows:\n",
        "\n",
        "$$\n",
        "\\mathbf{B} =\n",
        "\\begin{pmatrix}\n",
        "a_{11} & a_{12} & a_{13} & a_{14} \\\\\n",
        "a_{21} & a_{22} & a_{23} & a_{24} \\\\\n",
        "a_{31} & a_{32} & a_{33} & a_{34} \\\\\n",
        "a_{41} & a_{42} & a_{43} & a_{44}\n",
        "\\end{pmatrix}\n",
        "$$\n",
        "\n",
        "The determinant of a 4x4 matrix is calculated by expanding along the first row. Similar to the 3x3 case, elements of the first row are multiplied by the determinants of the 3x3 matrices that result from removing the appropriate rows and columns.\n",
        "\n",
        "Expanding along the first row of a 4x4 matrix:\n",
        "\n",
        "$$\n",
        "\\text{det}(B) =\n",
        "(-1)^{1+1} \\cdot\n",
        "a_{11} \\cdot \\text{det}\n",
        "\\begin{pmatrix}\n",
        "a_{22} & a_{23} & a_{24} \\\\\n",
        "a_{32} & a_{33} & a_{34} \\\\\n",
        "a_{42} & a_{43} & a_{44}\n",
        "\\end{pmatrix}\n",
        "+ (-1)^{1+2} \\cdot\n",
        "a_{12} \\cdot \\text{det}\n",
        "\\begin{pmatrix}\n",
        "a_{21} & a_{23} & a_{24} \\\\\n",
        "a_{31} & a_{33} & a_{34} \\\\\n",
        "a_{41} & a_{43} & a_{44}\n",
        "\\end{pmatrix}\n",
        "+ (-1)^{1+3} \\cdot\n",
        "a_{13} \\cdot \\text{det}\n",
        "\\begin{pmatrix}\n",
        "a_{21} & a_{22} & a_{24} \\\\\n",
        "a_{31} & a_{32} & a_{34} \\\\\n",
        "a_{41} & a_{42} & a_{44}\n",
        "\\end{pmatrix}\n",
        "+ (-1)^{1+4} \\cdot\n",
        "a_{14} \\cdot \\text{det}\n",
        "\\begin{pmatrix}\n",
        "a_{21} & a_{22} & a_{23} \\\\\n",
        "a_{31} & a_{32} & a_{33} \\\\\n",
        "a_{41} & a_{42} & a_{43}\n",
        "\\end{pmatrix}\n",
        "$$\n",
        "\n",
        "### Example of a 4x4 Matrix\n",
        "\n",
        "For the matrix:\n",
        "\n",
        "$$\n",
        "\\mathbf{B} =\n",
        "\\begin{pmatrix}\n",
        "2 & 3 & 1 & 4 \\\\\n",
        "1 & 4 & 5 & 6 \\\\\n",
        "3 & 2 & 1 & 5 \\\\\n",
        "2 & 1 & 4 & 3\n",
        "\\end{pmatrix}\n",
        "$$\n",
        "\n",
        "Laplace expansion:\n",
        "\n",
        "$$\n",
        "\\text{det}(B) = 2 \\cdot \\text{det}\n",
        "\\begin{pmatrix}\n",
        "4 & 5 & 6 \\\\\n",
        "2 & 1 & 5 \\\\\n",
        "1 & 4 & 3\n",
        "\\end{pmatrix}\n",
        "- 3 \\cdot \\text{det}\n",
        "\\begin{pmatrix}\n",
        "1 & 5 & 6 \\\\\n",
        "3 & 1 & 5 \\\\\n",
        "2 & 4 & 3\n",
        "\\end{pmatrix}\n",
        "+ 1 \\cdot \\text{det}\n",
        "\\begin{pmatrix}\n",
        "1 & 4 & 6 \\\\\n",
        "3 & 2 & 5 \\\\\n",
        "2 & 1 & 3\n",
        "\\end{pmatrix}\n",
        "- 4 \\cdot \\text{det}\n",
        "\\begin{pmatrix}\n",
        "1 & 4 & 5 \\\\\n",
        "3 & 2 & 1 \\\\\n",
        "2 & 1 & 4\n",
        "\\end{pmatrix}\n",
        "$$\n",
        "\n",
        "### Calculating Determinants in Python using SymPy\n",
        "\n",
        "Below we will calculate the determinants of 3x3 and 4x4 matrices using Laplace expansion in Python, using the **SymPy** library."
      ]
    },
    {
      "cell_type": "code",
      "execution_count": null,
      "metadata": {
        "id": "iuW-s1FfCPgL",
        "outputId": "f1f45888-fd8d-4326-b598-d1c0983a7dea"
      },
      "outputs": [
        {
          "data": {
            "text/latex": [
              "$\\displaystyle \\left[\\begin{matrix}2 & 3 & 1\\\\1 & 4 & 5\\\\3 & 2 & 1\\end{matrix}\\right]$"
            ],
            "text/plain": [
              "Matrix([\n",
              "[2, 3, 1],\n",
              "[1, 4, 5],\n",
              "[3, 2, 1]])"
            ]
          },
          "execution_count": 1,
          "metadata": {},
          "output_type": "execute_result"
        }
      ],
      "source": [
        "import sympy as sp\n",
        "\n",
        "# 3x3 Matrix\n",
        "A = sp.Matrix([[2, 3, 1], [1, 4, 5], [3, 2, 1]])\n",
        "A"
      ]
    },
    {
      "cell_type": "code",
      "execution_count": null,
      "metadata": {
        "id": "htKPAA7nCPgM",
        "outputId": "db4f97a4-6a78-45c0-b9b2-657cca68e0ad"
      },
      "outputs": [
        {
          "data": {
            "text/plain": [
              "True"
            ]
          },
          "execution_count": 2,
          "metadata": {},
          "output_type": "execute_result"
        }
      ],
      "source": [
        "# Select the first row [2, 3, 1]\n",
        "# Define the appropriate minors\n",
        "M11 = sp.Matrix([[4, 5], [2, 1]])\n",
        "M12 = sp.Matrix([[1, 5], [3, 1]])\n",
        "M13 = sp.Matrix([[1, 4], [3, 2]])\n",
        "\n",
        "# Calculate the determinant\n",
        "d = 2*M11.det() - 3*M12.det() + 1*M13.det()\n",
        "\n",
        "d == A.det()"
      ]
    },
    {
      "cell_type": "code",
      "execution_count": null,
      "metadata": {
        "id": "W1AAi9JUCPgN",
        "outputId": "24c48910-a4a6-4cf9-c7b6-bbb3b007faa7"
      },
      "outputs": [
        {
          "data": {
            "text/latex": [
              "$\\displaystyle \\left[\\begin{matrix}2 & 0 & 1 & 0\\\\1 & 4 & 5 & 6\\\\3 & 2 & 1 & 5\\\\2 & 1 & 4 & 3\\end{matrix}\\right]$"
            ],
            "text/plain": [
              "Matrix([\n",
              "[2, 0, 1, 0],\n",
              "[1, 4, 5, 6],\n",
              "[3, 2, 1, 5],\n",
              "[2, 1, 4, 3]])"
            ]
          },
          "execution_count": 3,
          "metadata": {},
          "output_type": "execute_result"
        }
      ],
      "source": [
        "# 4x4 Matrix\n",
        "B = sp.Matrix([[2, 0, 1, 0], [1, 4, 5, 6], [3, 2, 1, 5], [2, 1, 4, 3]])\n",
        "B"
      ]
    },
    {
      "cell_type": "code",
      "execution_count": null,
      "metadata": {
        "id": "Evn_SBc9CPgN",
        "outputId": "85ab7d87-351d-4cca-ca3c-5671a432c9ee"
      },
      "outputs": [
        {
          "data": {
            "text/plain": [
              "True"
            ]
          },
          "execution_count": 4,
          "metadata": {},
          "output_type": "execute_result"
        }
      ],
      "source": [
        "# Verify the correctness of the calculations\n",
        "M11 = sp.Matrix([[4, 5, 6], [2, 1, 5], [1, 4, 3]])\n",
        "M12 = sp.Matrix([[1, 5, 6], [3, 1, 5], [2, 4, 3]])\n",
        "M13 = sp.Matrix([[1, 4, 6], [3, 2, 5], [2, 1, 3]])\n",
        "M14 = sp.Matrix([[1, 4, 5], [3, 2, 1], [2, 1, 4]])\n",
        "\n",
        "(2*M11.det() - 0*M12.det() + 1*M13.det() - 0*M14.det()) == B.det()\n",
        "\n",
        "d = 2*M11.det() - 0*M12.det() + 1*M13.det() - 0*M14.det()\n",
        "d == B.det()"
      ]
    },
    {
      "cell_type": "markdown",
      "metadata": {
        "id": "sMb7xkz5CPgN"
      },
      "source": [
        "Note that only the first and third terms have non-zero coefficients, so it is not necessary to calculate the determinants of all minors!\n",
        "\n",
        "---\n",
        "\n",
        "## Exercises for Students\n",
        "\n",
        "Calculate the determinants of the following matrices:\n",
        "\n",
        "$$\n",
        "\\mathbf{A} =\n",
        "\\begin{pmatrix}\n",
        "2 & 3 & 1 \\\\\n",
        "1 & 4 & 0 \\\\\n",
        "3 & 2 & 1\n",
        "\\end{pmatrix}\n",
        ",\\qquad\n",
        "\\mathbf{B} =\n",
        "\\begin{pmatrix}\n",
        "2 & 3 & 1 \\\\\n",
        "1 & 4 & 0 \\\\\n",
        "3 & 2 & 0  \\\\\n",
        "\\end{pmatrix}\n",
        ",\\qquad\n",
        "\\mathbf{C} =\n",
        "\\begin{pmatrix}\n",
        "2 & 3 & 1 & 4 \\\\\n",
        "1 & 0 & 0 & 6 \\\\\n",
        "3 & 2 & 1 & 5 \\\\\n",
        "2 & 1 & 4 & 0\n",
        "\\end{pmatrix}\n",
        ",\\qquad\n",
        "\\mathbf{D} =\n",
        "\\begin{pmatrix}\n",
        "2 & 3 & 1 & 4 & 5 \\\\\n",
        "1 & 4 & 0 & 0 & 7 \\\\\n",
        "3 & 0 & 0 & 0 & 0 \\\\\n",
        "2 & 1 & 4 & 3 & 2 \\\\\n",
        "1 & 2 & 3 & 4 & 5\n",
        "\\end{pmatrix}\n",
        "$$"
      ]
    },
    {
      "cell_type": "code",
      "source": [
        "import numpy as np\n",
        "\n",
        "# Define the matrix A\n",
        "A = np.array([\n",
        "    [2, 3, 1],\n",
        "    [1, 4, 0],\n",
        "    [3, 2, 1]\n",
        "])\n",
        "\n",
        "# Calculate the determinant using NumPy\n",
        "determinant = np.linalg.det(A)\n",
        "\n",
        "# Print the result\n",
        "print(\"Determinant of A:\", round(determinant))\n"
      ],
      "metadata": {
        "id": "3gxPqRvJvNgC",
        "outputId": "9b3172e3-490f-46bb-86f5-5fd2bf65d449",
        "colab": {
          "base_uri": "https://localhost:8080/"
        }
      },
      "execution_count": 1,
      "outputs": [
        {
          "output_type": "stream",
          "name": "stdout",
          "text": [
            "Determinant of A: -5\n"
          ]
        }
      ]
    },
    {
      "cell_type": "code",
      "source": [
        "import numpy as np\n",
        "\n",
        "# Define the matrix B\n",
        "B = np.array([\n",
        "    [2, 3, 1],\n",
        "    [1, 4, 0],\n",
        "    [3, 2, 0]\n",
        "])\n",
        "\n",
        "# Calculate the determinant using NumPy\n",
        "determinant_B = np.linalg.det(B)\n",
        "\n",
        "# Print the result\n",
        "print(\"Determinant of B:\", round(determinant_B))\n"
      ],
      "metadata": {
        "id": "0k4va15RvdfG",
        "outputId": "3e8a4c53-5141-45f6-cc50-121963664d7a",
        "colab": {
          "base_uri": "https://localhost:8080/"
        }
      },
      "execution_count": 2,
      "outputs": [
        {
          "output_type": "stream",
          "name": "stdout",
          "text": [
            "Determinant of B: -10\n"
          ]
        }
      ]
    },
    {
      "cell_type": "code",
      "source": [
        "import numpy as np\n",
        "\n",
        "def determinant(matrix):\n",
        "    # Base case for 2x2 matrix\n",
        "    if len(matrix) == 2:\n",
        "        return matrix[0][0] * matrix[1][1] - matrix[0][1] * matrix[1][0]\n",
        "\n",
        "    # Recursive case for larger matrices\n",
        "    det = 0\n",
        "    for col in range(len(matrix)):\n",
        "        # Create the minor matrix\n",
        "        minor = [row[:col] + row[col + 1:] for row in matrix[1:]]\n",
        "        # Laplace expansion\n",
        "        det += ((-1) ** col) * matrix[0][col] * determinant(minor)\n",
        "    return det\n",
        "\n",
        "# Define the matrix\n",
        "C = [\n",
        "    [2, 3, 1, 4],\n",
        "    [1, 0, 0, 6],\n",
        "    [3, 2, 1, 5],\n",
        "    [2, 1, 4, 0]\n",
        "]\n",
        "\n",
        "# Calculate the determinant using Laplace expansion\n",
        "det_C = determinant(C)\n",
        "print(f\"Determinant of matrix C: {det_C}\")\n"
      ],
      "metadata": {
        "id": "_RC-WcIKv1si",
        "outputId": "f15511f9-5964-4dca-c8a7-dbf5180a9ed7",
        "colab": {
          "base_uri": "https://localhost:8080/"
        }
      },
      "execution_count": 3,
      "outputs": [
        {
          "output_type": "stream",
          "name": "stdout",
          "text": [
            "Determinant of matrix C: -75\n"
          ]
        }
      ]
    },
    {
      "cell_type": "code",
      "source": [
        "import numpy as np\n",
        "\n",
        "def determinant(matrix):\n",
        "    # Base case for 2x2 matrix\n",
        "    if len(matrix) == 2:\n",
        "        return matrix[0][0] * matrix[1][1] - matrix[0][1] * matrix[1][0]\n",
        "\n",
        "    # Recursive case for larger matrices\n",
        "    det = 0\n",
        "    for col in range(len(matrix)):\n",
        "        # Create the minor matrix\n",
        "        minor = [row[:col] + row[col + 1:] for row in matrix[1:]]\n",
        "        # Laplace expansion\n",
        "        det += ((-1) ** col) * matrix[0][col] * determinant(minor)\n",
        "    return det\n",
        "\n",
        "# Define the matrix\n",
        "D = [\n",
        "    [2, 3, 1, 4, 5],\n",
        "    [1, 4, 0, 0, 7],\n",
        "    [3, 0, 0, 0, 0],\n",
        "    [2, 1, 4, 3, 2],\n",
        "    [1, 2, 3, 4, 5]\n",
        "]\n",
        "\n",
        "# Calculate the determinant using Laplace expansion\n",
        "det_D = determinant(D)\n",
        "print(f\"Determinant of matrix D: {det_D}\")\n"
      ],
      "metadata": {
        "id": "6kr8hdgAwLcP",
        "outputId": "0a8650f5-a663-4921-c66c-48b6a94b875b",
        "colab": {
          "base_uri": "https://localhost:8080/"
        }
      },
      "execution_count": 4,
      "outputs": [
        {
          "output_type": "stream",
          "name": "stdout",
          "text": [
            "Determinant of matrix D: 231\n"
          ]
        }
      ]
    }
  ],
  "metadata": {
    "kernelspec": {
      "display_name": "Python 3",
      "language": "python",
      "name": "python3"
    },
    "language_info": {
      "codemirror_mode": {
        "name": "ipython",
        "version": 3
      },
      "file_extension": ".py",
      "mimetype": "text/x-python",
      "name": "python",
      "nbconvert_exporter": "python",
      "pygments_lexer": "ipython3",
      "version": "3.11.9"
    },
    "colab": {
      "provenance": []
    }
  },
  "nbformat": 4,
  "nbformat_minor": 0
}