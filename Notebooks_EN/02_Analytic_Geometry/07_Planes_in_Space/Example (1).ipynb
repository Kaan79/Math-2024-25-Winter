{
  "nbformat": 4,
  "nbformat_minor": 0,
  "metadata": {
    "colab": {
      "provenance": []
    },
    "kernelspec": {
      "name": "python3",
      "display_name": "Python 3"
    },
    "language_info": {
      "name": "python"
    }
  },
  "cells": [
    {
      "cell_type": "markdown",
      "source": [
        "# Planes in Space\n",
        "\n",
        "## Vector Equation of a Plane\n",
        "The vector equation of a plane can be written as:\n",
        "\n",
        "$$ \\vec{r} \\cdot \\vec{n} = d $$\n",
        "\n",
        "where:\n",
        "- $$ \\vec{r} = (x, y, z) $$ is a position vector of any point on the plane,\n",
        "- $$ \\vec{n} = (a, b, c) $$ is the normal vector to the plane,\n",
        "- $$ d $$ is the scalar constant.\n",
        "\n",
        "Alternatively, the vector equation can be written as:\n",
        "\n",
        "$$ \\vec{r} = \\vec{r_0} + t \\vec{v_1} + s \\vec{v_2} $$\n",
        "\n",
        "where:\n",
        "- $$ \\vec{r_0} $$ is a point on the plane,\n",
        "- $$ \\vec{v_1}, \\vec{v_2} $$ are direction vectors lying on the plane, and\n",
        "- $$ t, s $$ are scalar parameters.\n",
        "\n",
        "## General Equation of a Plane\n",
        "The general equation of a plane in space is:\n",
        "\n",
        "$$ Ax + By + Cz + D = 0 $$\n",
        "\n",
        "where:\n",
        "- $$ A, B, C $$ are the components of the normal vector $$ \\vec{n} = (A, B, C) $$ to the plane,\n",
        "- $$ D $$ is a constant.\n",
        "\n",
        "## Plane Equation Passing Through Three Points\n",
        "Given three points $$ P_1(x_1, y_1, z_1), P_2(x_2, y_2, z_2), P_3(x_3, y_3, z_3) $$, the equation of the plane passing through these points can be derived as follows:\n",
        "\n",
        "1. Find two vectors lying on the plane:\n",
        "\n",
        "$$ \\vec{v_1} = (x_2 - x_1, y_2 - y_1, z_2 - z_1) $$\n",
        "\n",
        "$$ \\vec{v_2} = (x_3 - x_1, y_3 - y_1, z_3 - z_1) $$\n",
        "\n",
        "2. Compute the normal vector to the plane using the cross product:\n",
        "\n",
        "$$ \\vec{n} = \\vec{v_1} \\times \\vec{v_2} $$\n",
        "\n",
        "3. The equation of the plane is:\n",
        "\n",
        "$$ \\vec{n} \\cdot \\left( \\vec{r} - \\vec{r_0} \\right) = 0 $$\n",
        "\n",
        "where $$ \\vec{r_0} $$ is the position vector of one of the points (e.g., $$ P_1 $$).\n",
        "\n",
        "## Plane Equation in Intercept Form on the Coordinate Axes\n",
        "The intercept form of the equation of a plane is:\n",
        "\n",
        "$$ \\frac{x}{a} + \\frac{y}{b} + \\frac{z}{c} = 1 $$\n",
        "\n",
        "where:\n",
        "- $$ a $$, $$ b $$, and $$ c $$ are the intercepts of the plane on the $$ x $$, $$ y $$, and $$ z $$ axes, respectively.\n",
        "\n",
        "## Special Cases of Plane Positioning\n",
        "\n",
        "### Parallel Planes\n",
        "Two planes are parallel if their normal vectors are scalar multiples of each other:\n",
        "\n",
        "$$ \\vec{n_1} = k \\cdot \\vec{n_2} $$\n",
        "\n",
        "where $$ k $$ is a scalar.\n",
        "\n",
        "### Perpendicular Planes\n",
        "Two planes are perpendicular if the dot product of their normal vectors is zero:\n",
        "\n",
        "$$ \\vec{n_1} \\cdot \\vec{n_2} = 0 $$\n",
        "\n",
        "## Angle Between Two Planes\n",
        "The angle $$ \\theta $$ between two planes with normal vectors $$ \\vec{n_1} $$ and $$ \\vec{n_2} $$ is given by:\n",
        "\n",
        "$$ \\cos(\\theta) = \\frac{\\vec{n_1} \\cdot \\vec{n_2}}{|\\vec{n_1}| |\\vec{n_2}|} $$\n",
        "\n",
        "where:\n",
        "- $$ \\vec{n_1} \\cdot \\vec{n_2} $$ is the dot product of the normal vectors,\n",
        "- $$ |\\vec{n_1}| $$ and $$ |\\vec{n_2}| $$ are the magnitudes of the normal vectors.\n",
        "\n",
        "## Conditions for Parallelism and Perpendicularity of Two Planes\n",
        "\n",
        "### Parallel Planes\n",
        "Two planes are parallel if:\n",
        "\n",
        "$$ \\vec{n_1} = k \\cdot \\vec{n_2} $$\n",
        "\n",
        "### Perpendicular Planes\n",
        "Two planes are perpendicular if:\n",
        "\n",
        "$$ \\vec{n_1} \\cdot \\vec{n_2} = 0 $$\n",
        "\n",
        "# Line in Space\n",
        "\n",
        "## Types of Line Equations in Space\n",
        "\n",
        "### Parametric Form\n",
        "The parametric form of a line in space is:\n",
        "\n",
        "$$ x = x_0 + t \\cdot v_1 $$\n",
        "\n",
        "$$ y = y_0 + t \\cdot v_2 $$\n",
        "\n",
        "$$ z = z_0 + t \\cdot v_3 $$\n",
        "\n",
        "where:\n",
        "- $$ (x_0, y_0, z_0) $$ is a point on the line,\n",
        "- $$ \\vec{v} = (v_1, v_2, v_3) $$ is the direction vector of the line,\n",
        "- $$ t $$ is the parameter.\n",
        "\n",
        "### Symmetric Form\n",
        "The symmetric form of a line is:\n",
        "\n",
        "$$ \\frac{x - x_0}{v_1} = \\frac{y - y_0}{v_2} = \\frac{z - z_0}{v_3} $$\n",
        "\n",
        "where:\n",
        "- $$ (x_0, y_0, z_0) $$ is a point on the line,\n",
        "- $$ \\vec{v} = (v_1, v_2, v_3) $$ is the direction vector of the line.\n",
        "\n",
        "## Relative Positions of a Line and a Plane\n",
        "The relative position of a line and a plane is determined by the angle between the direction vector of the line and the normal vector of the plane.\n",
        "\n",
        "### Line Parallel to the Plane\n",
        "A line is parallel to a plane if the dot product between the direction vector of the line and the normal vector of the plane is zero:\n",
        "\n",
        "$$ \\vec{v} \\cdot \\vec{n} = 0 $$\n",
        "\n",
        "### Line Perpendicular to the Plane\n",
        "A line is perpendicular to a plane if the direction vector of the line is parallel to the normal vector of the plane:\n",
        "\n",
        "$$ \\vec{v} = k \\cdot \\vec{n} $$\n",
        "\n",
        "### Line Intersects the Plane\n",
        "A line intersects the plane if it is not parallel and is not perpendicular to the plane. In this case, solving the system of the line's equations and the plane's equation gives the intersection point.\n",
        "\n",
        "## Relative Positions of Two Lines\n",
        "\n",
        "### Parallel Lines\n",
        "Two lines are parallel if their direction vectors are scalar multiples of each other:\n",
        "\n",
        "$$ \\vec{v_1} = k \\cdot \\vec{v_2} $$\n",
        "\n",
        "### Skew Lines\n",
        "Two lines are skew if they are not parallel and do not intersect.\n",
        "\n",
        "### Intersecting Lines\n",
        "Two lines intersect if there is a common point that satisfies both line equations.\n",
        "\n",
        "## Angle Between a Line and a Plane\n",
        "The angle $$ \\theta $$ between a line with direction vector $$ \\vec{v} $$ and a plane with normal vector $$ \\vec{n} $$ is given by:\n",
        "\n",
        "$$ \\sin(\\theta) = \\frac{|\\vec{v} \\cdot \\vec{n}|}{|\\vec{v}| |\\vec{n}|} $$\n",
        "\n",
        "where:\n",
        "- $$ \\vec{v} \\cdot \\vec{n} $$ is the dot product of the direction vector and the normal vector,\n",
        "- $$ |\\vec{v}| $$ and $$ |\\vec{n}| $$ are the magnitudes of the vectors.\n",
        "\n"
      ],
      "metadata": {
        "id": "CdIodq4PyulJ"
      }
    },
    {
      "cell_type": "markdown",
      "source": [
        "## Tasks related to equations of planes in space\n",
        "\n",
        "**Visualize each task.** - Python, GeoGebra, Wolfram Alpha, ...\n",
        "\n",
        "* The plane passes through points $A(1, 2, 3)$, $B(3, 4, 5)$, and $C(2, 1, 4)$. Find the equation of the plane.\n",
        "* The plane passes through point $A(1, 2, 3)$ and is parallel to the plane $2x + 3y + 4z = 5$. Find the equation of the plane.\n",
        "* The plane passes through point $A(1, 2, 3)$ and is perpendicular to the normal vector $\\vec{n} = [2, 3, 4]$. Find the equation of the plane.\n",
        "* We have two planes $2x + 3y + 4z = 5$ and $3x + 4y + 2z = 6$. Find the line of intersection of these planes.\n",
        "* Write the equation of the plane passing through point $A(1, 2, 3)$ and parallel to vectors $\\vec{v_1} = [1, 0, 1]$ and $\\vec{v_2} = [0, 1, -1]$.\n",
        "* We have the plane $2x + 3y + 4z = 5$. Find an example of a plane parallel and perpendicular to it.\n",
        "* We have the plane $2x + 3y + 4z = 5$ and point $A(1, 2, 3)$. Find the distance from point $A$ to this plane.\n",
        "* The plane intersects the coordinate axes at points $A(2, 0, 0)$, $B(0, 3, 0)$, and $C(0, 0, 4)$. Find the equation of the plane.\n",
        "* Calculate the angle between the plane $x + y + z = 1$ and the plane $x = 0$ (i.e., the $yz$ plane).\n",
        "* Find the vector perpendicular to the plane $x + y + z = 1$."
      ],
      "metadata": {
        "id": "LRwLe9mupAgb"
      }
    },
    {
      "cell_type": "code",
      "source": [
        "import sympy as sp\n",
        "\n",
        "# Define symbols\n",
        "x, y, z = sp.symbols('x y z')\n",
        "\n",
        "# Points A, B, C\n",
        "A = sp.Matrix([1, 2, 3])\n",
        "B = sp.Matrix([3, 4, 5])\n",
        "C = sp.Matrix([2, 1, 4])\n",
        "\n",
        "# Vectors AB and AC\n",
        "AB = B - A\n",
        "AC = C - A\n",
        "\n",
        "# Cross product to find the normal vector\n",
        "normal_vector = AB.cross(AC)\n",
        "\n",
        "# Normal vector components\n",
        "n_x, n_y, n_z = normal_vector\n",
        "\n",
        "# Equation of the plane: n_x*(x - A[0]) + n_y*(y - A[1]) + n_z*(z - A[2]) = 0\n",
        "plane_eq = sp.Eq(n_x * (x - A[0]) + n_y * (y - A[1]) + n_z * (z - A[2]), 0)\n",
        "\n",
        "# Simplify the equation\n",
        "plane_eq_simplified = sp.simplify(plane_eq)\n",
        "\n",
        "# Output the equation of the plane\n",
        "plane_eq_simplified\n"
      ],
      "metadata": {
        "id": "sEdpqr_aqFEF",
        "outputId": "e418addc-45a8-4c31-d651-37fbe1909f03",
        "colab": {
          "base_uri": "https://localhost:8080/",
          "height": 38
        }
      },
      "execution_count": null,
      "outputs": [
        {
          "output_type": "execute_result",
          "data": {
            "text/plain": [
              "Eq(x - z, -2)"
            ],
            "text/latex": "$\\displaystyle x - z = -2$"
          },
          "metadata": {},
          "execution_count": 1
        }
      ]
    },
    {
      "cell_type": "code",
      "source": [
        "import sympy as sp\n",
        "\n",
        "# Define symbols\n",
        "x, y, z = sp.symbols('x y z')\n",
        "\n",
        "# Given point A(1, 2, 3)\n",
        "A = (1, 2, 3)\n",
        "\n",
        "# Normal vector of the given plane (2x + 3y + 4z = 5)\n",
        "normal_vector = (2, 3, 4)\n",
        "\n",
        "# Equation of the new plane: n_x*(x - x_0) + n_y*(y - y_0) + n_z*(z - z_0) = 0\n",
        "plane_eq = sp.Eq(normal_vector[0] * (x - A[0]) + normal_vector[1] * (y - A[1]) + normal_vector[2] * (z - A[2]), 0)\n",
        "\n",
        "# Simplify the equation\n",
        "plane_eq_simplified = sp.simplify(plane_eq)\n",
        "\n",
        "# Output the equation of the plane\n",
        "plane_eq_simplified\n"
      ],
      "metadata": {
        "id": "bROLjunJqXfW",
        "outputId": "9eb8af82-7433-43d2-cd1d-e72f099b93a6",
        "colab": {
          "base_uri": "https://localhost:8080/",
          "height": 38
        }
      },
      "execution_count": null,
      "outputs": [
        {
          "output_type": "execute_result",
          "data": {
            "text/plain": [
              "Eq(2*x + 3*y + 4*z, 20)"
            ],
            "text/latex": "$\\displaystyle 2 x + 3 y + 4 z = 20$"
          },
          "metadata": {},
          "execution_count": 2
        }
      ]
    },
    {
      "cell_type": "code",
      "source": [
        "import sympy as sp\n",
        "\n",
        "# Define symbols\n",
        "x, y, z = sp.symbols('x y z')\n",
        "\n",
        "# Given point A(1, 2, 3) and normal vector n = [2, 3, 4]\n",
        "A = (1, 2, 3)\n",
        "normal_vector = (2, 3, 4)\n",
        "\n",
        "# Equation of the plane: n_x*(x - x_0) + n_y*(y - y_0) + n_z*(z - z_0) = 0\n",
        "plane_eq = sp.Eq(normal_vector[0] * (x - A[0]) + normal_vector[1] * (y - A[1]) + normal_vector[2] * (z - A[2]), 0)\n",
        "\n",
        "# Simplify the equation\n",
        "plane_eq_simplified = sp.simplify(plane_eq)\n",
        "\n",
        "# Output the equation of the plane\n",
        "plane_eq_simplified\n",
        "\n"
      ],
      "metadata": {
        "id": "TRJPPwTbqufw",
        "outputId": "adb669ad-21c9-42c8-aead-03484b75fcfd",
        "colab": {
          "base_uri": "https://localhost:8080/",
          "height": 38
        }
      },
      "execution_count": null,
      "outputs": [
        {
          "output_type": "execute_result",
          "data": {
            "text/plain": [
              "Eq(2*x + 3*y + 4*z, 20)"
            ],
            "text/latex": "$\\displaystyle 2 x + 3 y + 4 z = 20$"
          },
          "metadata": {},
          "execution_count": 3
        }
      ]
    },
    {
      "cell_type": "code",
      "source": [
        "import sympy as sp\n",
        "\n",
        "# Define symbols\n",
        "t = sp.symbols('t')\n",
        "\n",
        "# Direction vector of the line\n",
        "d = (-10, 8, -1)\n",
        "\n",
        "# Point on the line\n",
        "point = (-2, 3, 0)\n",
        "\n",
        "# Parametric equations\n",
        "x = point[0] + d[0] * t\n",
        "y = point[1] + d[1] * t\n",
        "z = point[2] + d[2] * t\n",
        "\n",
        "# Display the parametric equations of the line\n",
        "(x, y, z)\n"
      ],
      "metadata": {
        "id": "y75YpCnFrJu3",
        "outputId": "86eaf48e-a40d-4697-98a3-04d467ba86f6",
        "colab": {
          "base_uri": "https://localhost:8080/"
        }
      },
      "execution_count": null,
      "outputs": [
        {
          "output_type": "execute_result",
          "data": {
            "text/plain": [
              "(-10*t - 2, 8*t + 3, -t)"
            ]
          },
          "metadata": {},
          "execution_count": 4
        }
      ]
    },
    {
      "cell_type": "code",
      "source": [
        "import sympy as sp\n",
        "\n",
        "# Define symbols\n",
        "x, y, z = sp.symbols('x y z')\n",
        "\n",
        "# Given point A(1, 2, 3) and vectors v1 = [1, 0, 1], v2 = [0, 1, -1]\n",
        "A = (1, 2, 3)\n",
        "v1 = (1, 0, 1)\n",
        "v2 = (0, 1, -1)\n",
        "\n",
        "# Cross product of v1 and v2 to find the normal vector\n",
        "normal_vector = (\n",
        "    v1[1] * v2[2] - v1[2] * v2[1],  # i-component\n",
        "    v1[2] * v2[0] - v1[0] * v2[2],  # j-component\n",
        "    v1[0] * v2[1] - v1[1] * v2[0]   # k-component\n",
        ")\n",
        "\n",
        "# Equation of the plane: n_x*(x - x_0) + n_y*(y - y_0) + n_z*(z - z_0) = 0\n",
        "plane_eq = sp.Eq(normal_vector[0] * (x - A[0]) + normal_vector[1] * (y - A[1]) + normal_vector[2] * (z - A[2]), 0)\n",
        "\n",
        "# Simplify the equation\n",
        "plane_eq_simplified = sp.simplify(plane_eq)\n",
        "\n",
        "# Output the equation of the plane\n",
        "plane_eq_simplified\n"
      ],
      "metadata": {
        "id": "a-Plje2RrfcB",
        "outputId": "bd2c597d-dc8e-4df4-adb0-e829b64ffb88",
        "colab": {
          "base_uri": "https://localhost:8080/",
          "height": 38
        }
      },
      "execution_count": null,
      "outputs": [
        {
          "output_type": "execute_result",
          "data": {
            "text/plain": [
              "Eq(-x + y + z, 4)"
            ],
            "text/latex": "$\\displaystyle - x + y + z = 4$"
          },
          "metadata": {},
          "execution_count": 5
        }
      ]
    },
    {
      "cell_type": "code",
      "source": [
        "import sympy as sp\n",
        "\n",
        "# Define symbols\n",
        "x, y, z = sp.symbols('x y z')\n",
        "\n",
        "# Given plane 2x + 3y + 4z = 5\n",
        "normal_vector_given = (2, 3, 4)\n",
        "\n",
        "# Example of parallel plane: same normal vector, different constant\n",
        "parallel_plane_eq = sp.Eq(2*x + 3*y + 4*z, 10)\n",
        "\n",
        "# Finding a perpendicular plane\n",
        "# Normal vector for perpendicular plane: (3, -4, 0)\n",
        "perpendicular_plane_eq = sp.Eq(3*(x - 1) - 4*(y - 2) + 0*(z - 3), 0)\n",
        "\n",
        "# Simplifying equations\n",
        "parallel_plane_eq_simplified = sp.simplify(parallel_plane_eq)\n",
        "perpendicular_plane_eq_simplified = sp.simplify(perpendicular_plane_eq)\n",
        "\n",
        "# Output the equations\n",
        "parallel_plane_eq_simplified, perpendicular_plane_eq_simplified\n"
      ],
      "metadata": {
        "id": "JlOzcdf8r5FH",
        "outputId": "5650ed4c-0dcf-4143-f732-501efc0ef06f",
        "colab": {
          "base_uri": "https://localhost:8080/"
        }
      },
      "execution_count": null,
      "outputs": [
        {
          "output_type": "execute_result",
          "data": {
            "text/plain": [
              "(Eq(2*x + 3*y + 4*z, 10), Eq(3*x - 4*y, -5))"
            ]
          },
          "metadata": {},
          "execution_count": 6
        }
      ]
    },
    {
      "cell_type": "code",
      "source": [
        "import sympy as sp\n",
        "\n",
        "# Given plane coefficients A, B, C, D\n",
        "A = 2\n",
        "B = 3\n",
        "C = 4\n",
        "D = -5\n",
        "\n",
        "# Point coordinates\n",
        "x1, y1, z1 = 1, 2, 3\n",
        "\n",
        "# Calculate the distance using the formula\n",
        "numerator = abs(A*x1 + B*y1 + C*z1 + D)\n",
        "denominator = sp.sqrt(A**2 + B**2 + C**2)\n",
        "\n",
        "# Final distance\n",
        "distance = numerator / denominator\n",
        "distance\n",
        "\n"
      ],
      "metadata": {
        "id": "ee0LX56xsE9e",
        "outputId": "1d773555-fde8-4270-dd23-b8d6a5069798",
        "colab": {
          "base_uri": "https://localhost:8080/",
          "height": 55
        }
      },
      "execution_count": null,
      "outputs": [
        {
          "output_type": "execute_result",
          "data": {
            "text/plain": [
              "15*sqrt(29)/29"
            ],
            "text/latex": "$\\displaystyle \\frac{15 \\sqrt{29}}{29}$"
          },
          "metadata": {},
          "execution_count": 7
        }
      ]
    },
    {
      "cell_type": "code",
      "source": [
        "import sympy as sp\n",
        "\n",
        "# Define symbols\n",
        "x, y, z = sp.symbols('x y z')\n",
        "\n",
        "# Equation of the plane in intercept form\n",
        "plane_eq = sp.Eq(6*x + 4*y + 3*z, 12)\n",
        "\n",
        "# Simplified equation of the plane\n",
        "plane_eq_simplified = sp.simplify(plane_eq)\n",
        "plane_eq_simplified\n"
      ],
      "metadata": {
        "id": "o8e_cKHusO-m",
        "outputId": "a3cf12fd-7154-4226-ad31-57388795d4ba",
        "colab": {
          "base_uri": "https://localhost:8080/",
          "height": 38
        }
      },
      "execution_count": null,
      "outputs": [
        {
          "output_type": "execute_result",
          "data": {
            "text/plain": [
              "Eq(6*x + 4*y + 3*z, 12)"
            ],
            "text/latex": "$\\displaystyle 6 x + 4 y + 3 z = 12$"
          },
          "metadata": {},
          "execution_count": 8
        }
      ]
    },
    {
      "cell_type": "code",
      "source": [
        "import sympy as sp\n",
        "import math\n",
        "\n",
        "# Define the normal vectors\n",
        "n1 = sp.Matrix([1, 1, 1])  # Normal vector of the plane x + y + z = 1\n",
        "n2 = sp.Matrix([1, 0, 0])  # Normal vector of the plane x = 0\n",
        "\n",
        "# Compute the dot product of the normal vectors\n",
        "dot_product = n1.dot(n2)\n",
        "\n",
        "# Compute the magnitudes of the normal vectors\n",
        "norm_n1 = n1.norm()\n",
        "norm_n2 = n2.norm()\n",
        "\n",
        "# Compute the cosine of the angle\n",
        "cos_theta = dot_product / (norm_n1 * norm_n2)\n",
        "\n",
        "# Compute the angle in radians\n",
        "theta_radians = sp.acos(cos_theta)\n",
        "\n",
        "# Convert to degrees\n",
        "theta_degrees = math.degrees(float(theta_radians))\n",
        "theta_degrees\n"
      ],
      "metadata": {
        "id": "l85lbGl0sVCD",
        "outputId": "d871558b-c423-4f19-993d-928604e45b56",
        "colab": {
          "base_uri": "https://localhost:8080/"
        }
      },
      "execution_count": null,
      "outputs": [
        {
          "output_type": "execute_result",
          "data": {
            "text/plain": [
              "54.735610317245346"
            ]
          },
          "metadata": {},
          "execution_count": 9
        }
      ]
    },
    {
      "cell_type": "code",
      "source": [
        "import sympy as sp\n",
        "\n",
        "# Define the coefficients of the plane equation\n",
        "A, B, C = 1, 1, 1  # From the equation x + y + z = 1\n",
        "\n",
        "# The normal vector (perpendicular vector) is simply (A, B, C)\n",
        "normal_vector = sp.Matrix([A, B, C])\n",
        "\n",
        "# Display the normal vector\n",
        "normal_vector\n"
      ],
      "metadata": {
        "id": "xGjkvBdOsa98",
        "outputId": "cd1da68a-324b-429f-85ac-c2cab0c483ef",
        "colab": {
          "base_uri": "https://localhost:8080/",
          "height": 78
        }
      },
      "execution_count": null,
      "outputs": [
        {
          "output_type": "execute_result",
          "data": {
            "text/plain": [
              "Matrix([\n",
              "[1],\n",
              "[1],\n",
              "[1]])"
            ],
            "text/latex": "$\\displaystyle \\left[\\begin{matrix}1\\\\1\\\\1\\end{matrix}\\right]$"
          },
          "metadata": {},
          "execution_count": 10
        }
      ]
    }
  ]
}