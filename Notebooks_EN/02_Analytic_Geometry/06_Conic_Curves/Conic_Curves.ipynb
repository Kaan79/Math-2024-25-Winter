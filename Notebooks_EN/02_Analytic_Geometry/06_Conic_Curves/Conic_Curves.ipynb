{
  "nbformat": 4,
  "nbformat_minor": 0,
  "metadata": {
    "colab": {
      "provenance": []
    },
    "kernelspec": {
      "name": "python3",
      "display_name": "Python 3"
    },
    "language_info": {
      "name": "python"
    }
  },
  "cells": [
    {
      "cell_type": "markdown",
      "source": [
        "# Canonical Equations of the Circle, Ellipse, Hyperbola, and Parabola\n",
        "\n",
        "## Canonical Equation of a Circle\n",
        "The canonical equation of a circle with center at $$ (h, k) $$ and radius $$ r $$ is:\n",
        "$$ (x - h)^2 + (y - k)^2 = r^2 $$\n",
        "\n",
        "## Canonical Equation of an Ellipse\n",
        "The canonical equation of an ellipse with center at $$ (h, k) $$ is:\n",
        "$$ \\frac{(x - h)^2}{a^2} + \\frac{(y - k)^2}{b^2} = 1 $$\n",
        "Where:\n",
        "- $$ a $$ is the length of the semi-major axis,\n",
        "- $$ b $$ is the length of the semi-minor axis.\n",
        "\n",
        "## Canonical Equation of a Hyperbola\n",
        "The canonical equation of a hyperbola with center at $$ (h, k) $$ is:\n",
        "$$ \\frac{(x - h)^2}{a^2} - \\frac{(y - k)^2}{b^2} = 1 $$\n",
        "\n",
        "## Canonical Equation of a Parabola\n",
        "The canonical equation of a parabola with vertex at $$ (h, k) $$ is:\n",
        "$$ y - k = a(x - h)^2 $$  \n",
        "Or for a horizontal parabola:\n",
        "$$ x - h = a(y - k)^2 $$\n",
        "\n",
        "# Equations of Second-Order Curves with a Shifted Center\n",
        "\n",
        "The general equation for a second-order curve (conic) with a shifted center is:\n",
        "$$ Ax^2 + Bxy + Cy^2 + Dx + Ey + F = 0 $$\n",
        "\n",
        "When the center is shifted to $$ (h, k) $$, the equation becomes:\n",
        "$$ A(x - h)^2 + B(x - h)(y - k) + C(y - k)^2 + D(x - h) + E(y - k) + F = 0 $$\n",
        "\n",
        "# Reduction of the General Second-Order Curve Equation to Canonical Form\n",
        "\n",
        "The general second-order equation is:\n",
        "$$ Ax^2 + Bxy + Cy^2 + Dx + Ey + F = 0 $$\n",
        "\n",
        "To reduce it to canonical form:\n",
        "1. **Complete the square** for the quadratic terms ($$ x^2 $$, $$ xy $$, $$ y^2 $$).\n",
        "2. **Eliminate the cross-product term** (if $$ B \\neq 0 $$) by rotating the axes.\n",
        "3. **Shift the center** by moving the origin to the center of the curve.\n",
        "4. Finally, express the equation in terms of the canonical forms for circle, ellipse, hyperbola, or parabola.\n",
        "\n",
        "For example:\n",
        "- For a circle, the equation becomes:\n",
        "  $$ (x - h)^2 + (y - k)^2 = r^2 $$\n",
        "- For an ellipse, the equation becomes:\n",
        "  $$ \\frac{(x - h)^2}{a^2} + \\frac{(y - k)^2}{b^2} = 1 $$\n",
        "\n",
        "By using these steps, we transform the general second-order equation into one of the canonical forms.\n"
      ],
      "metadata": {
        "id": "d36QObq8YYK0"
      }
    },
    {
      "cell_type": "markdown",
      "source": [
        "## Tasks related to conic sections\n",
        "\n",
        "**Visualize each task.** - Python, GeoGebra, Wolfram Alpha, ...\n",
        "\n",
        "* Find the equation of a circle with center at point $A(1,2)$ and radius $r=3$.\n",
        "* Find the equation of a parabola intersecting the $Ox$ axis at points $x=2$, $x=4$, and passing through point $y(3)=1$.\n",
        "* Find the center of the ellipse with the equation $x^2 + 4y^2 - 4x - 16y + 16 = 0$.\n",
        "* Find the slope ($m>0$) of the line $y=mx-5$ that is tangent to the circle with the equation $x^2 + y^2=1$.\n",
        "* Find the intersection points of the hyperbola $x^2 - y^2 = 1$ with the ellipse's line $x^2 + 4y^2 = 6$.\n",
        "* For the given hyperbola $x^2 - y^2 = 1$, find the distance between its branches."
      ],
      "metadata": {
        "id": "WteJteuyYbpL"
      }
    },
    {
      "cell_type": "code",
      "source": [
        "# Given values\n",
        "A = (1, 2)  # center of the circle\n",
        "r = 3  # radius of the circle\n",
        "\n",
        "# Equation of the circle: (x - h)^2 + (y - k)^2 = r^2\n",
        "# Center is at A(1, 2), and radius is 3\n",
        "\n",
        "# Define the circle equation\n",
        "circle_equation = f\"(x - {A[0]})^2 + (y - {A[1]})^2 = {r**2}\"\n",
        "\n",
        "# Output the equation of the circle\n",
        "print(circle_equation)\n"
      ],
      "metadata": {
        "id": "Uquh91JqYeLs",
        "outputId": "5aee12fc-b601-4d1f-9210-e6df75f17141",
        "colab": {
          "base_uri": "https://localhost:8080/"
        }
      },
      "execution_count": null,
      "outputs": [
        {
          "output_type": "stream",
          "name": "stdout",
          "text": [
            "(x - 1)^2 + (y - 2)^2 = 9\n"
          ]
        }
      ]
    },
    {
      "cell_type": "code",
      "source": [
        "import sympy as sp\n",
        "\n",
        "# Define variables\n",
        "x, a = sp.symbols('x a')\n",
        "\n",
        "# Parabola equation in factored form\n",
        "parabola = a * (x - 2) * (x - 4)\n",
        "\n",
        "# Given point (x=3, y=1)\n",
        "equation = parabola.subs(x, 3) - 1\n",
        "\n",
        "# Solve for 'a'\n",
        "a_value = sp.solve(equation, a)\n",
        "\n",
        "# Substitute 'a' back into the parabola equation\n",
        "parabola_equation = parabola.subs(a, a_value[0])\n",
        "\n",
        "# Simplify the equation\n",
        "parabola_equation_simplified = sp.simplify(parabola_equation)\n",
        "\n",
        "# Print the result\n",
        "print(f\"The equation of the parabola is: y = {parabola_equation_simplified}\")\n"
      ],
      "metadata": {
        "id": "BcdO9YtaokFy",
        "outputId": "94e1ba59-d6b6-42f1-9356-9e17a891434a",
        "colab": {
          "base_uri": "https://localhost:8080/"
        }
      },
      "execution_count": null,
      "outputs": [
        {
          "output_type": "stream",
          "name": "stdout",
          "text": [
            "The equation of the parabola is: y = -(x - 4)*(x - 2)\n"
          ]
        }
      ]
    },
    {
      "cell_type": "code",
      "source": [
        "import sympy as sp\n",
        "\n",
        "# Define variables\n",
        "x, y = sp.symbols('x y')\n",
        "\n",
        "# Given equation\n",
        "equation = x**2 + 4*y**2 - 4*x - 16*y + 16\n",
        "\n",
        "# Completing the square for x terms\n",
        "x_terms = x**2 - 4*x\n",
        "completed_x = sp.simplify((x - 2)**2 - 4)\n",
        "\n",
        "# Completing the square for y terms\n",
        "y_terms = 4*y**2 - 16*y\n",
        "completed_y = sp.simplify(4*((y - 2)**2 - 4))\n",
        "\n",
        "# Substitute back into the equation\n",
        "completed_equation = completed_x + completed_y + 16\n",
        "\n",
        "# Simplifying the equation\n",
        "simplified_equation = sp.simplify(completed_equation)\n",
        "\n",
        "# Display the completed equation in standard form\n",
        "print(\"The completed equation is:\", simplified_equation)\n"
      ],
      "metadata": {
        "id": "ae9nfhxLoz__",
        "outputId": "6e664a7d-50d9-4c34-b283-3324f5a8d99c",
        "colab": {
          "base_uri": "https://localhost:8080/"
        }
      },
      "execution_count": null,
      "outputs": [
        {
          "output_type": "stream",
          "name": "stdout",
          "text": [
            "The completed equation is: x*(x - 4) + 4*y*(y - 4) + 16\n"
          ]
        }
      ]
    },
    {
      "cell_type": "code",
      "source": [
        "import sympy as sp\n",
        "\n",
        "# Define variable\n",
        "m = sp.symbols('m')\n",
        "\n",
        "# Distance equation\n",
        "equation = sp.Eq(5 / sp.sqrt(m**2 + 1), 1)\n",
        "\n",
        "# Solve for m\n",
        "slope_solution = sp.solve(equation, m)\n",
        "\n",
        "# Filter for positive slope\n",
        "positive_slope = [s for s in slope_solution if s > 0]\n",
        "\n",
        "# Display the result\n",
        "print(f\"The positive slope of the tangent line is: {positive_slope[0]}\")\n"
      ],
      "metadata": {
        "id": "bJeJEOdtpbHH",
        "outputId": "713ff73a-7687-4f90-be1f-dd99185bd060",
        "colab": {
          "base_uri": "https://localhost:8080/"
        }
      },
      "execution_count": null,
      "outputs": [
        {
          "output_type": "stream",
          "name": "stdout",
          "text": [
            "The positive slope of the tangent line is: 2*sqrt(6)\n"
          ]
        }
      ]
    },
    {
      "cell_type": "code",
      "source": [
        "import sympy as sp\n",
        "\n",
        "# Define variables\n",
        "x, y = sp.symbols('x y')\n",
        "\n",
        "# Equations of the hyperbola and the ellipse\n",
        "hyperbola = sp.Eq(x**2 - y**2, 1)\n",
        "ellipse = sp.Eq(x**2 + 4*y**2, 6)\n",
        "\n",
        "# Solve the system of equations\n",
        "solution = sp.solve([hyperbola, ellipse], (x, y))\n",
        "\n",
        "# Display the intersection points\n",
        "solution\n"
      ],
      "metadata": {
        "id": "29CPHBGFpoc0",
        "outputId": "955509e3-9566-4571-9574-5784756b7272",
        "colab": {
          "base_uri": "https://localhost:8080/"
        }
      },
      "execution_count": null,
      "outputs": [
        {
          "output_type": "execute_result",
          "data": {
            "text/plain": [
              "[(-sqrt(2), -1), (-sqrt(2), 1), (sqrt(2), -1), (sqrt(2), 1)]"
            ]
          },
          "metadata": {},
          "execution_count": 4
        }
      ]
    },
    {
      "cell_type": "code",
      "source": [
        "# Given parameters\n",
        "a = 1\n",
        "b = 1\n",
        "\n",
        "# Distance between the branches\n",
        "distance = 2 * b\n",
        "print(f\"The distance between the branches of the hyperbola is: {distance}\")\n"
      ],
      "metadata": {
        "id": "kos5luR_pxNz",
        "outputId": "7e9962bd-c244-4323-acee-8eb6ccff11a4",
        "colab": {
          "base_uri": "https://localhost:8080/"
        }
      },
      "execution_count": null,
      "outputs": [
        {
          "output_type": "stream",
          "name": "stdout",
          "text": [
            "The distance between the branches of the hyperbola is: 2\n"
          ]
        }
      ]
    },
    {
      "cell_type": "markdown",
      "source": [
        "x^2 - y^2 = 1\n",
        "x^2 + 4y^2 = 6\n",
        "\n",
        "x^2 = y^2 + 1\n",
        "\n",
        "(y^2 + 1) + 4y^2 = 6\n",
        "5y^2 + 1 = 6\n",
        "5y^2 = 5\n",
        "y^2 = 1\n",
        "y = ±1\n",
        "\n",
        "y = 1: x^2 = 2, x = ±√2\n",
        "y = -1: x^2 = 2, x = ±√2\n",
        "\n",
        "(√2, 1), (-√2, 1), (√2, -1), (-√2, -1)\n"
      ],
      "metadata": {
        "id": "3lYHPAmdSyCq"
      }
    }
  ]
}
